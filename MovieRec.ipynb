{
 "cells": [
  {
   "cell_type": "code",
   "execution_count": 297,
   "metadata": {
    "collapsed": false
   },
   "outputs": [
    {
     "data": {
      "text/html": [
       "<div>\n",
       "<table border=\"1\" class=\"dataframe\">\n",
       "  <thead>\n",
       "    <tr style=\"text-align: right;\">\n",
       "      <th></th>\n",
       "      <th>movieid</th>\n",
       "      <th>userid</th>\n",
       "      <th>rating</th>\n",
       "      <th>date</th>\n",
       "    </tr>\n",
       "  </thead>\n",
       "  <tbody>\n",
       "    <tr>\n",
       "      <th>0</th>\n",
       "      <td>1</td>\n",
       "      <td>822109</td>\n",
       "      <td>5</td>\n",
       "      <td>2005-05-13</td>\n",
       "    </tr>\n",
       "    <tr>\n",
       "      <th>1</th>\n",
       "      <td>1</td>\n",
       "      <td>885013</td>\n",
       "      <td>4</td>\n",
       "      <td>2005-10-19</td>\n",
       "    </tr>\n",
       "    <tr>\n",
       "      <th>2</th>\n",
       "      <td>1</td>\n",
       "      <td>30878</td>\n",
       "      <td>4</td>\n",
       "      <td>2005-12-26</td>\n",
       "    </tr>\n",
       "    <tr>\n",
       "      <th>3</th>\n",
       "      <td>1</td>\n",
       "      <td>823519</td>\n",
       "      <td>3</td>\n",
       "      <td>2004-05-03</td>\n",
       "    </tr>\n",
       "    <tr>\n",
       "      <th>4</th>\n",
       "      <td>1</td>\n",
       "      <td>893988</td>\n",
       "      <td>3</td>\n",
       "      <td>2005-11-17</td>\n",
       "    </tr>\n",
       "  </tbody>\n",
       "</table>\n",
       "</div>"
      ],
      "text/plain": [
       "   movieid  userid  rating        date\n",
       "0        1  822109       5  2005-05-13\n",
       "1        1  885013       4  2005-10-19\n",
       "2        1   30878       4  2005-12-26\n",
       "3        1  823519       3  2004-05-03\n",
       "4        1  893988       3  2005-11-17"
      ]
     },
     "execution_count": 297,
     "metadata": {},
     "output_type": "execute_result"
    }
   ],
   "source": [
    "import pandas as pd\n",
    "import numpy as np\n",
    "import re\n",
    "import math\n",
    "import graphlab as gl\n",
    "#Below line is required when running first time\n",
    "#graphlab.get_dependencies()\n",
    "\n",
    "# Dataframe with IMDB Movie feature Dataset containing Netflix Movie ID\n",
    "df = pd.read_csv('omdb.txt', sep=\"|\")\n",
    "\n",
    "#Cleansing the IMDB Data which contains netflix movie id\n",
    "#filter null rows.\n",
    "df = df[df.Title != 'null']\n",
    "#pick first year for Series.\n",
    "df['Year'] = df['Year'].str.replace('–[0-9]*$','')\n",
    "#Correct Rated column\n",
    "df.Rated = df.Rated.str.replace('UNRATED','NOT RATED')\n",
    "df.Rated = df.Rated.str.replace('NR','NOT RATED')\n",
    "df.Rated = df.Rated.str.replace('Not Rated','NOT RATED')\n",
    "df.Rated = df.Rated.str.replace('Unrated','NOT RATED')\n",
    "\n",
    "#remove commas from imdbvotes\n",
    "df.imdbVotes = df.imdbVotes.str.replace(',','')\n",
    "\n",
    "# classify runtime by hours\n",
    "df.Runtime = df.Runtime.str.replace(' min','')\n",
    "df.Runtime = df.Runtime.str.replace(',','')\n",
    "df.Runtime = df.Runtime.str.replace('1 h 30','90')\n",
    "df.Runtime = df.Runtime.str.replace('3 h 48','223')\n",
    "df.Runtime = df.Runtime.str.replace('1 h 20','80')\n",
    "\n",
    "df.Runtime = pd.to_numeric(df.Runtime, errors='coerce')\n",
    "minRuntime = min(df.Runtime)\n",
    "maxRuntime = max(df.Runtime)\n",
    "#Normalize the Runtime column\n",
    "df['Runtime'] = df['Runtime'].apply(lambda x: 4*((x - minRuntime)/(maxRuntime - minRuntime)) + 1)\n",
    "df['Runtime'] = df['Runtime'].apply(lambda x: np.ceil(x))\n",
    "\n",
    "df.imdbVotes = pd.to_numeric(df.imdbVotes, errors='coerce')\n",
    "minImdbVotes = min(df.imdbVotes)\n",
    "maxImdbVotes = max(df.imdbVotes)\n",
    "#Normalize the imdbVotes column\n",
    "df['imdbVotes'] = df['imdbVotes'].apply(lambda x: 4*((x - minImdbVotes)/(maxImdbVotes - minImdbVotes)) + 1)\n",
    "df['imdbVotes'] = df['imdbVotes'].apply(lambda x: np.ceil(x))\n",
    "\n",
    "df.imdbRating = pd.to_numeric(df.imdbRating, errors='coerce')\n",
    "minImdbRating = min(df.imdbRating)\n",
    "maxImdbRating = max(df.imdbRating)\n",
    "#Normalize the imdbRating column\n",
    "df['imdbRating'] = df['imdbRating'].apply(lambda x: 4*((x - minImdbRating)/(maxImdbRating - minImdbRating)) + 1)\n",
    "df['imdbRating'] = df['imdbRating'].apply(lambda x: np.ceil(x))\n",
    "\n",
    "\n",
    "df.Year = pd.to_numeric(df.Year, errors='coerce')\n",
    "df['Year'] = df['Year'].astype(float)\n",
    "minYear = min(df.Year)\n",
    "maxYear = max(df.Year)\n",
    "#Normalize the Year column\n",
    "df['Year'] = df['Year'].apply(lambda x: 4*((x - minYear)/(maxYear - minYear)) + 1)\n",
    "df['Year'] = df['Year'].apply(lambda x: np.ceil(x))\n",
    "\n",
    "df = df[df['Genre'].notnull()]\n",
    "df = df[df['Writer'].notnull()]\n",
    "df = df[df['Actors'].notnull()]\n",
    "df = df[df['Director'].notnull()]\n",
    "df = df[df['Country'].notnull()]\n",
    "df = df[df['Language'].notnull()]\n",
    "\n",
    "# Dataframe with Netflix data containing userid rating and movie id\n",
    "df_u= pd.read_csv('netflix-user-movie.txt', sep=\",\")\n",
    "df_u.columns = ['movieid','userid','rating', 'date']\n",
    "df_u.head()"
   ]
  },
  {
   "cell_type": "code",
   "execution_count": 298,
   "metadata": {
    "collapsed": false
   },
   "outputs": [],
   "source": [
    "userRating_dict = {}\n",
    "userMoviesCount_dict = {}\n",
    "userMoviesAvgRating_dict = {}\n",
    "userMoviesLiked = {}\n",
    "\n",
    "#Iterate the dataframe and build aggregate ratings and movie counts for each user\n",
    "for row in df_u.itertuples():\n",
    "    userRating_dict[row.userid] = userRating_dict.get(row.userid,0) + row.rating\n",
    "    userMoviesCount_dict[row.userid] = userMoviesCount_dict.get(row.userid,0) + 1\n",
    " \n",
    "#Compute the average rating\n",
    "for userid in userRating_dict:\n",
    "    userMoviesAvgRating_dict[userid] = userRating_dict[userid]/userMoviesCount_dict[userid]"
   ]
  },
  {
   "cell_type": "code",
   "execution_count": 299,
   "metadata": {
    "collapsed": false
   },
   "outputs": [
    {
     "data": {
      "text/html": [
       "<div>\n",
       "<table border=\"1\" class=\"dataframe\">\n",
       "  <thead>\n",
       "    <tr style=\"text-align: right;\">\n",
       "      <th></th>\n",
       "      <th>movieid</th>\n",
       "      <th>userid</th>\n",
       "      <th>rating</th>\n",
       "      <th>date</th>\n",
       "      <th>likedmovie</th>\n",
       "    </tr>\n",
       "  </thead>\n",
       "  <tbody>\n",
       "    <tr>\n",
       "      <th>24049260</th>\n",
       "      <td>4499</td>\n",
       "      <td>2591364</td>\n",
       "      <td>2</td>\n",
       "      <td>2005-02-16</td>\n",
       "      <td>0</td>\n",
       "    </tr>\n",
       "    <tr>\n",
       "      <th>24049261</th>\n",
       "      <td>4499</td>\n",
       "      <td>1791000</td>\n",
       "      <td>2</td>\n",
       "      <td>2005-02-10</td>\n",
       "      <td>0</td>\n",
       "    </tr>\n",
       "    <tr>\n",
       "      <th>24049262</th>\n",
       "      <td>4499</td>\n",
       "      <td>512536</td>\n",
       "      <td>5</td>\n",
       "      <td>2005-07-27</td>\n",
       "      <td>1</td>\n",
       "    </tr>\n",
       "    <tr>\n",
       "      <th>24049263</th>\n",
       "      <td>4499</td>\n",
       "      <td>988963</td>\n",
       "      <td>3</td>\n",
       "      <td>2005-12-20</td>\n",
       "      <td>1</td>\n",
       "    </tr>\n",
       "    <tr>\n",
       "      <th>24049264</th>\n",
       "      <td>4499</td>\n",
       "      <td>1704416</td>\n",
       "      <td>3</td>\n",
       "      <td>2004-06-02</td>\n",
       "      <td>1</td>\n",
       "    </tr>\n",
       "  </tbody>\n",
       "</table>\n",
       "</div>"
      ],
      "text/plain": [
       "          movieid   userid  rating        date likedmovie\n",
       "24049260     4499  2591364       2  2005-02-16          0\n",
       "24049261     4499  1791000       2  2005-02-10          0\n",
       "24049262     4499   512536       5  2005-07-27          1\n",
       "24049263     4499   988963       3  2005-12-20          1\n",
       "24049264     4499  1704416       3  2004-06-02          1"
      ]
     },
     "execution_count": 299,
     "metadata": {},
     "output_type": "execute_result"
    }
   ],
   "source": [
    "#list to add to the dataframe\n",
    "like_list = []\n",
    "\n",
    "#Iterate the dataframe and find if the movie is liked by the user or not\n",
    "#A movie is considered liked if the rating given by the user is greater than or equal to his/her average rating.\n",
    "for row in df_u.itertuples():\n",
    "    like_list.extend('1' if row.rating >= userMoviesAvgRating_dict[row.userid] else '0')\n",
    "    \n",
    "#Add a new likedmovie to the dataframe\n",
    "df_u = df_u.assign(likedmovie = like_list)\n",
    "df_u.tail()"
   ]
  },
  {
   "cell_type": "code",
   "execution_count": 300,
   "metadata": {
    "collapsed": false
   },
   "outputs": [
    {
     "data": {
      "text/plain": [
       "9156"
      ]
     },
     "execution_count": 300,
     "metadata": {},
     "output_type": "execute_result"
    }
   ],
   "source": [
    "#Number of IMDB Dataframe records\n",
    "len(df)"
   ]
  },
  {
   "cell_type": "code",
   "execution_count": 301,
   "metadata": {
    "collapsed": false
   },
   "outputs": [],
   "source": [
    "#Filling unavailable numeric data with 0\n",
    "df['Runtime'].fillna(0, inplace=True)\n",
    "df['imdbRating'].fillna(0, inplace=True)\n",
    "df['Year'].fillna(0, inplace=True)\n",
    "df['imdbVotes'].fillna(0, inplace=True)"
   ]
  },
  {
   "cell_type": "code",
   "execution_count": 302,
   "metadata": {
    "collapsed": false
   },
   "outputs": [
    {
     "data": {
      "text/html": [
       "<pre>Unable to parse line \"16725|16726|The Homework Bureau|5.0|||Neil Crone, Bill Keenan|Neil Crone, Moira Dunphy, Kevin Frankoff, Donald Tripe|\"The Homework Bureau is a satire of TV cop shows. It profiles a day in the life of a busy crisis center where an elite team of tutors help ...\"</pre>"
      ],
      "text/plain": [
       "Unable to parse line \"16725|16726|The Homework Bureau|5.0|||Neil Crone, Bill Keenan|Neil Crone, Moira Dunphy, Kevin Frankoff, Donald Tripe|\"The Homework Bureau is a satire of TV cop shows. It profiles a day in the life of a busy crisis center where an elite team of tutors help ...\""
      ]
     },
     "metadata": {},
     "output_type": "display_data"
    },
    {
     "data": {
      "text/html": [
       "<pre>Unable to parse line \"16727|null|null|null|null|null|null|null|null|null|null|null|null|null|null|null|null|null|null|False|null\"</pre>"
      ],
      "text/plain": [
       "Unable to parse line \"16727|null|null|null|null|null|null|null|null|null|null|null|null|null|null|null|null|null|null|False|null\""
      ]
     },
     "metadata": {},
     "output_type": "display_data"
    },
    {
     "data": {
      "text/html": [
       "<pre>Unable to parse line \"16728|null|null|null|null|null|null|null|null|null|null|null|null|null|null|null|null|null|null|False|null\"</pre>"
      ],
      "text/plain": [
       "Unable to parse line \"16728|null|null|null|null|null|null|null|null|null|null|null|null|null|null|null|null|null|null|False|null\""
      ]
     },
     "metadata": {},
     "output_type": "display_data"
    },
    {
     "data": {
      "text/html": [
       "<pre>Unable to parse line \"16729|null|null|null|null|null|null|null|null|null|null|null|null|null|null|null|null|null|null|False|null\"</pre>"
      ],
      "text/plain": [
       "Unable to parse line \"16729|null|null|null|null|null|null|null|null|null|null|null|null|null|null|null|null|null|null|False|null\""
      ]
     },
     "metadata": {},
     "output_type": "display_data"
    },
    {
     "data": {
      "text/html": [
       "<pre>Unable to parse line \"16730|null|null|null|null|null|null|null|null|null|null|null|null|null|null|null|null|null|null|False|null\"</pre>"
      ],
      "text/plain": [
       "Unable to parse line \"16730|null|null|null|null|null|null|null|null|null|null|null|null|null|null|null|null|null|null|False|null\""
      ]
     },
     "metadata": {},
     "output_type": "display_data"
    },
    {
     "data": {
      "text/html": [
       "<pre>Unable to parse line \"16731|null|null|null|null|null|null|null|null|null|null|null|null|null|null|null|null|null|null|False|null\"</pre>"
      ],
      "text/plain": [
       "Unable to parse line \"16731|null|null|null|null|null|null|null|null|null|null|null|null|null|null|null|null|null|null|False|null\""
      ]
     },
     "metadata": {},
     "output_type": "display_data"
    },
    {
     "data": {
      "text/html": [
       "<pre>Unable to parse line \"16732|null|null|null|null|null|null|null|null|null|null|null|null|null|null|null|null|null|null|False|null\"</pre>"
      ],
      "text/plain": [
       "Unable to parse line \"16732|null|null|null|null|null|null|null|null|null|null|null|null|null|null|null|null|null|null|False|null\""
      ]
     },
     "metadata": {},
     "output_type": "display_data"
    },
    {
     "data": {
      "text/html": [
       "<pre>Unable to parse line \"16733|Mona Lisa|1986|R|13 Jun 1986|Neil Jordan (screenplay), David Leland (screenplay)|Bob Hoskins, Cathy Tyson, Michael Caine, Robbie Coltrane|A man recently released from prison manages to get a job driving a call girl from customer to customer.|Nominate...\"</pre>"
      ],
      "text/plain": [
       "Unable to parse line \"16733|Mona Lisa|1986|R|13 Jun 1986|Neil Jordan (screenplay), David Leland (screenplay)|Bob Hoskins, Cathy Tyson, Michael Caine, Robbie Coltrane|A man recently released from prison manages to get a job driving a call girl from customer to customer.|Nominate...\""
      ]
     },
     "metadata": {},
     "output_type": "display_data"
    },
    {
     "data": {
      "text/html": [
       "<pre>Unable to parse line \"16734|Uncovered: The War on Iraq|2004|UNRATED|13 Oct 2004|N/A|David Albright, Robert Baer, Milton Bearden, Rand Beers|In this documentary feature, filmmaker Robert Greenwald chronicles the Bush Administration's case to invade Iraq following the events of S...\"</pre>"
      ],
      "text/plain": [
       "Unable to parse line \"16734|Uncovered: The War on Iraq|2004|UNRATED|13 Oct 2004|N/A|David Albright, Robert Baer, Milton Bearden, Rand Beers|In this documentary feature, filmmaker Robert Greenwald chronicles the Bush Administration's case to invade Iraq following the events of S...\""
      ]
     },
     "metadata": {},
     "output_type": "display_data"
    },
    {
     "data": {
      "text/html": [
       "<pre>Unable to parse line \"16735|Teenage Mutant Ninja Turtles|2003â€“2010|TV-Y7|08 Feb 2003|Kevin Eastman, Peter Laird, Lloyd Goldfine|Michael Sinterniklaas, Wayne Grayson, Gregory Abbey, Sam Riegel|The lean, mean, green fighting machines are back in an all-new action-packed series!...\"</pre>"
      ],
      "text/plain": [
       "Unable to parse line \"16735|Teenage Mutant Ninja Turtles|2003â€“2010|TV-Y7|08 Feb 2003|Kevin Eastman, Peter Laird, Lloyd Goldfine|Michael Sinterniklaas, Wayne Grayson, Gregory Abbey, Sam Riegel|The lean, mean, green fighting machines are back in an all-new action-packed series!...\""
      ]
     },
     "metadata": {},
     "output_type": "display_data"
    },
    {
     "data": {
      "text/html": [
       "<pre>17 lines failed to parse correctly</pre>"
      ],
      "text/plain": [
       "17 lines failed to parse correctly"
      ]
     },
     "metadata": {},
     "output_type": "display_data"
    },
    {
     "data": {
      "text/html": [
       "<pre>Finished parsing file C:\\Users\\spandem\\cmu\\AppliedDataScience\\Projects\\netflix-prize-data\\normalized.csv</pre>"
      ],
      "text/plain": [
       "Finished parsing file C:\\Users\\spandem\\cmu\\AppliedDataScience\\Projects\\netflix-prize-data\\normalized.csv"
      ]
     },
     "metadata": {},
     "output_type": "display_data"
    },
    {
     "data": {
      "text/html": [
       "<pre>Parsing completed. Parsed 100 lines in 0.094 secs.</pre>"
      ],
      "text/plain": [
       "Parsing completed. Parsed 100 lines in 0.094 secs."
      ]
     },
     "metadata": {},
     "output_type": "display_data"
    },
    {
     "name": "stdout",
     "output_type": "stream",
     "text": [
      "------------------------------------------------------\n",
      "Inferred types from first 100 line(s) of file as \n",
      "column_type_hints=[long,long,str,float,str,str,str,str,str,str,str,str,float,float,str,str,float,str,str,str,str,long]\n",
      "If parsing fails due to incorrect types, you can correct\n",
      "the inferred type list above and pass it to read_csv in\n",
      "the column_type_hints argument\n",
      "------------------------------------------------------\n"
     ]
    },
    {
     "data": {
      "text/html": [
       "<pre>Unable to parse line \"16725|16726|The Homework Bureau|5.0|||Neil Crone, Bill Keenan|Neil Crone, Moira Dunphy, Kevin Frankoff, Donald Tripe|\"The Homework Bureau is a satire of TV cop shows. It profiles a day in the life of a busy crisis center where an elite team of tutors help ...\"</pre>"
      ],
      "text/plain": [
       "Unable to parse line \"16725|16726|The Homework Bureau|5.0|||Neil Crone, Bill Keenan|Neil Crone, Moira Dunphy, Kevin Frankoff, Donald Tripe|\"The Homework Bureau is a satire of TV cop shows. It profiles a day in the life of a busy crisis center where an elite team of tutors help ...\""
      ]
     },
     "metadata": {},
     "output_type": "display_data"
    },
    {
     "data": {
      "text/html": [
       "<pre>Unable to parse line \"16727|null|null|null|null|null|null|null|null|null|null|null|null|null|null|null|null|null|null|False|null\"</pre>"
      ],
      "text/plain": [
       "Unable to parse line \"16727|null|null|null|null|null|null|null|null|null|null|null|null|null|null|null|null|null|null|False|null\""
      ]
     },
     "metadata": {},
     "output_type": "display_data"
    },
    {
     "data": {
      "text/html": [
       "<pre>Unable to parse line \"16728|null|null|null|null|null|null|null|null|null|null|null|null|null|null|null|null|null|null|False|null\"</pre>"
      ],
      "text/plain": [
       "Unable to parse line \"16728|null|null|null|null|null|null|null|null|null|null|null|null|null|null|null|null|null|null|False|null\""
      ]
     },
     "metadata": {},
     "output_type": "display_data"
    },
    {
     "data": {
      "text/html": [
       "<pre>Unable to parse line \"16729|null|null|null|null|null|null|null|null|null|null|null|null|null|null|null|null|null|null|False|null\"</pre>"
      ],
      "text/plain": [
       "Unable to parse line \"16729|null|null|null|null|null|null|null|null|null|null|null|null|null|null|null|null|null|null|False|null\""
      ]
     },
     "metadata": {},
     "output_type": "display_data"
    },
    {
     "data": {
      "text/html": [
       "<pre>Unable to parse line \"16730|null|null|null|null|null|null|null|null|null|null|null|null|null|null|null|null|null|null|False|null\"</pre>"
      ],
      "text/plain": [
       "Unable to parse line \"16730|null|null|null|null|null|null|null|null|null|null|null|null|null|null|null|null|null|null|False|null\""
      ]
     },
     "metadata": {},
     "output_type": "display_data"
    },
    {
     "data": {
      "text/html": [
       "<pre>Unable to parse line \"16731|null|null|null|null|null|null|null|null|null|null|null|null|null|null|null|null|null|null|False|null\"</pre>"
      ],
      "text/plain": [
       "Unable to parse line \"16731|null|null|null|null|null|null|null|null|null|null|null|null|null|null|null|null|null|null|False|null\""
      ]
     },
     "metadata": {},
     "output_type": "display_data"
    },
    {
     "data": {
      "text/html": [
       "<pre>Unable to parse line \"16732|null|null|null|null|null|null|null|null|null|null|null|null|null|null|null|null|null|null|False|null\"</pre>"
      ],
      "text/plain": [
       "Unable to parse line \"16732|null|null|null|null|null|null|null|null|null|null|null|null|null|null|null|null|null|null|False|null\""
      ]
     },
     "metadata": {},
     "output_type": "display_data"
    },
    {
     "data": {
      "text/html": [
       "<pre>Unable to parse line \"16733|Mona Lisa|1986|R|13 Jun 1986|Neil Jordan (screenplay), David Leland (screenplay)|Bob Hoskins, Cathy Tyson, Michael Caine, Robbie Coltrane|A man recently released from prison manages to get a job driving a call girl from customer to customer.|Nominate...\"</pre>"
      ],
      "text/plain": [
       "Unable to parse line \"16733|Mona Lisa|1986|R|13 Jun 1986|Neil Jordan (screenplay), David Leland (screenplay)|Bob Hoskins, Cathy Tyson, Michael Caine, Robbie Coltrane|A man recently released from prison manages to get a job driving a call girl from customer to customer.|Nominate...\""
      ]
     },
     "metadata": {},
     "output_type": "display_data"
    },
    {
     "data": {
      "text/html": [
       "<pre>Unable to parse line \"16734|Uncovered: The War on Iraq|2004|UNRATED|13 Oct 2004|N/A|David Albright, Robert Baer, Milton Bearden, Rand Beers|In this documentary feature, filmmaker Robert Greenwald chronicles the Bush Administration's case to invade Iraq following the events of S...\"</pre>"
      ],
      "text/plain": [
       "Unable to parse line \"16734|Uncovered: The War on Iraq|2004|UNRATED|13 Oct 2004|N/A|David Albright, Robert Baer, Milton Bearden, Rand Beers|In this documentary feature, filmmaker Robert Greenwald chronicles the Bush Administration's case to invade Iraq following the events of S...\""
      ]
     },
     "metadata": {},
     "output_type": "display_data"
    },
    {
     "data": {
      "text/html": [
       "<pre>Unable to parse line \"16735|Teenage Mutant Ninja Turtles|2003â€“2010|TV-Y7|08 Feb 2003|Kevin Eastman, Peter Laird, Lloyd Goldfine|Michael Sinterniklaas, Wayne Grayson, Gregory Abbey, Sam Riegel|The lean, mean, green fighting machines are back in an all-new action-packed series!...\"</pre>"
      ],
      "text/plain": [
       "Unable to parse line \"16735|Teenage Mutant Ninja Turtles|2003â€“2010|TV-Y7|08 Feb 2003|Kevin Eastman, Peter Laird, Lloyd Goldfine|Michael Sinterniklaas, Wayne Grayson, Gregory Abbey, Sam Riegel|The lean, mean, green fighting machines are back in an all-new action-packed series!...\""
      ]
     },
     "metadata": {},
     "output_type": "display_data"
    },
    {
     "data": {
      "text/html": [
       "<pre>17 lines failed to parse correctly</pre>"
      ],
      "text/plain": [
       "17 lines failed to parse correctly"
      ]
     },
     "metadata": {},
     "output_type": "display_data"
    },
    {
     "data": {
      "text/html": [
       "<pre>Finished parsing file C:\\Users\\spandem\\cmu\\AppliedDataScience\\Projects\\netflix-prize-data\\normalized.csv</pre>"
      ],
      "text/plain": [
       "Finished parsing file C:\\Users\\spandem\\cmu\\AppliedDataScience\\Projects\\netflix-prize-data\\normalized.csv"
      ]
     },
     "metadata": {},
     "output_type": "display_data"
    },
    {
     "data": {
      "text/html": [
       "<pre>Parsing completed. Parsed 9155 lines in 0.072 secs.</pre>"
      ],
      "text/plain": [
       "Parsing completed. Parsed 9155 lines in 0.072 secs."
      ]
     },
     "metadata": {},
     "output_type": "display_data"
    },
    {
     "name": "stdout",
     "output_type": "stream",
     "text": [
      "Defaulting to brute force instead of ball tree because there are multiple distance components.\n"
     ]
    },
    {
     "data": {
      "text/html": [
       "<pre>Starting brute force nearest neighbors model training.</pre>"
      ],
      "text/plain": [
       "Starting brute force nearest neighbors model training."
      ]
     },
     "metadata": {},
     "output_type": "display_data"
    }
   ],
   "source": [
    "#dump the pandas dataframe to a file and load it to an SFrame.\n",
    "#Graphlab Knn works only on Sframes. A regular conversion for reasons unknown does not work.\n",
    "df.to_csv('normalized.csv', sep='|')\n",
    "movieSFrame = gl.SFrame.read_csv(\"normalized.csv\", sep='|')\n",
    "\n",
    "#Build the KNN model\n",
    "knn_model = gl.nearest_neighbors.create(movieSFrame,features=['Genre','Writer','Actors','Director','Country','Language','Rated','Awards','Runtime','imdbRating','Year','imdbVotes'],label='id')"
   ]
  },
  {
   "cell_type": "code",
   "execution_count": 303,
   "metadata": {
    "collapsed": false
   },
   "outputs": [
    {
     "data": {
      "text/html": [
       "<div>\n",
       "<table border=\"1\" class=\"dataframe\">\n",
       "  <thead>\n",
       "    <tr style=\"text-align: right;\">\n",
       "      <th></th>\n",
       "      <th>movieid</th>\n",
       "      <th>userid</th>\n",
       "      <th>rating</th>\n",
       "      <th>date</th>\n",
       "      <th>likedmovie</th>\n",
       "    </tr>\n",
       "  </thead>\n",
       "  <tbody>\n",
       "    <tr>\n",
       "      <th>3013481</th>\n",
       "      <td>571</td>\n",
       "      <td>822109</td>\n",
       "      <td>5</td>\n",
       "      <td>2005-04-25</td>\n",
       "      <td>1</td>\n",
       "    </tr>\n",
       "    <tr>\n",
       "      <th>3215550</th>\n",
       "      <td>607</td>\n",
       "      <td>822109</td>\n",
       "      <td>5</td>\n",
       "      <td>2005-04-07</td>\n",
       "      <td>1</td>\n",
       "    </tr>\n",
       "    <tr>\n",
       "      <th>4854997</th>\n",
       "      <td>985</td>\n",
       "      <td>822109</td>\n",
       "      <td>5</td>\n",
       "      <td>2005-04-25</td>\n",
       "      <td>1</td>\n",
       "    </tr>\n",
       "    <tr>\n",
       "      <th>5644197</th>\n",
       "      <td>1144</td>\n",
       "      <td>822109</td>\n",
       "      <td>5</td>\n",
       "      <td>2005-05-21</td>\n",
       "      <td>1</td>\n",
       "    </tr>\n",
       "    <tr>\n",
       "      <th>6202889</th>\n",
       "      <td>1220</td>\n",
       "      <td>822109</td>\n",
       "      <td>5</td>\n",
       "      <td>2005-04-25</td>\n",
       "      <td>1</td>\n",
       "    </tr>\n",
       "    <tr>\n",
       "      <th>8958037</th>\n",
       "      <td>1798</td>\n",
       "      <td>822109</td>\n",
       "      <td>4</td>\n",
       "      <td>2005-04-07</td>\n",
       "      <td>1</td>\n",
       "    </tr>\n",
       "    <tr>\n",
       "      <th>9164811</th>\n",
       "      <td>1810</td>\n",
       "      <td>822109</td>\n",
       "      <td>4</td>\n",
       "      <td>2005-04-25</td>\n",
       "      <td>1</td>\n",
       "    </tr>\n",
       "    <tr>\n",
       "      <th>9312559</th>\n",
       "      <td>1843</td>\n",
       "      <td>822109</td>\n",
       "      <td>4</td>\n",
       "      <td>2005-04-25</td>\n",
       "      <td>1</td>\n",
       "    </tr>\n",
       "    <tr>\n",
       "      <th>9686126</th>\n",
       "      <td>1905</td>\n",
       "      <td>822109</td>\n",
       "      <td>5</td>\n",
       "      <td>2005-05-21</td>\n",
       "      <td>1</td>\n",
       "    </tr>\n",
       "    <tr>\n",
       "      <th>10182695</th>\n",
       "      <td>1975</td>\n",
       "      <td>822109</td>\n",
       "      <td>4</td>\n",
       "      <td>2005-04-25</td>\n",
       "      <td>1</td>\n",
       "    </tr>\n",
       "    <tr>\n",
       "      <th>10582251</th>\n",
       "      <td>2095</td>\n",
       "      <td>822109</td>\n",
       "      <td>4</td>\n",
       "      <td>2005-05-21</td>\n",
       "      <td>1</td>\n",
       "    </tr>\n",
       "    <tr>\n",
       "      <th>11047873</th>\n",
       "      <td>2152</td>\n",
       "      <td>822109</td>\n",
       "      <td>4</td>\n",
       "      <td>2005-04-25</td>\n",
       "      <td>1</td>\n",
       "    </tr>\n",
       "    <tr>\n",
       "      <th>13481223</th>\n",
       "      <td>2580</td>\n",
       "      <td>822109</td>\n",
       "      <td>4</td>\n",
       "      <td>2005-05-21</td>\n",
       "      <td>1</td>\n",
       "    </tr>\n",
       "    <tr>\n",
       "      <th>13576859</th>\n",
       "      <td>2594</td>\n",
       "      <td>822109</td>\n",
       "      <td>4</td>\n",
       "      <td>2005-05-21</td>\n",
       "      <td>1</td>\n",
       "    </tr>\n",
       "    <tr>\n",
       "      <th>13637167</th>\n",
       "      <td>2612</td>\n",
       "      <td>822109</td>\n",
       "      <td>4</td>\n",
       "      <td>2005-05-13</td>\n",
       "      <td>1</td>\n",
       "    </tr>\n",
       "    <tr>\n",
       "      <th>15911153</th>\n",
       "      <td>3106</td>\n",
       "      <td>822109</td>\n",
       "      <td>5</td>\n",
       "      <td>2005-04-25</td>\n",
       "      <td>1</td>\n",
       "    </tr>\n",
       "    <tr>\n",
       "      <th>16705707</th>\n",
       "      <td>3254</td>\n",
       "      <td>822109</td>\n",
       "      <td>4</td>\n",
       "      <td>2005-05-21</td>\n",
       "      <td>1</td>\n",
       "    </tr>\n",
       "    <tr>\n",
       "      <th>18001278</th>\n",
       "      <td>3433</td>\n",
       "      <td>822109</td>\n",
       "      <td>5</td>\n",
       "      <td>2005-04-07</td>\n",
       "      <td>1</td>\n",
       "    </tr>\n",
       "    <tr>\n",
       "      <th>18459619</th>\n",
       "      <td>3538</td>\n",
       "      <td>822109</td>\n",
       "      <td>5</td>\n",
       "      <td>2005-04-07</td>\n",
       "      <td>1</td>\n",
       "    </tr>\n",
       "    <tr>\n",
       "      <th>19985049</th>\n",
       "      <td>3825</td>\n",
       "      <td>822109</td>\n",
       "      <td>4</td>\n",
       "      <td>2005-04-07</td>\n",
       "      <td>1</td>\n",
       "    </tr>\n",
       "    <tr>\n",
       "      <th>20155627</th>\n",
       "      <td>3860</td>\n",
       "      <td>822109</td>\n",
       "      <td>4</td>\n",
       "      <td>2005-04-07</td>\n",
       "      <td>1</td>\n",
       "    </tr>\n",
       "    <tr>\n",
       "      <th>22710403</th>\n",
       "      <td>4306</td>\n",
       "      <td>822109</td>\n",
       "      <td>5</td>\n",
       "      <td>2005-04-25</td>\n",
       "      <td>1</td>\n",
       "    </tr>\n",
       "    <tr>\n",
       "      <th>22932322</th>\n",
       "      <td>4330</td>\n",
       "      <td>822109</td>\n",
       "      <td>5</td>\n",
       "      <td>2005-05-21</td>\n",
       "      <td>1</td>\n",
       "    </tr>\n",
       "    <tr>\n",
       "      <th>23836002</th>\n",
       "      <td>4472</td>\n",
       "      <td>822109</td>\n",
       "      <td>4</td>\n",
       "      <td>2005-10-08</td>\n",
       "      <td>1</td>\n",
       "    </tr>\n",
       "  </tbody>\n",
       "</table>\n",
       "</div>"
      ],
      "text/plain": [
       "          movieid  userid  rating        date likedmovie\n",
       "3013481       571  822109       5  2005-04-25          1\n",
       "3215550       607  822109       5  2005-04-07          1\n",
       "4854997       985  822109       5  2005-04-25          1\n",
       "5644197      1144  822109       5  2005-05-21          1\n",
       "6202889      1220  822109       5  2005-04-25          1\n",
       "8958037      1798  822109       4  2005-04-07          1\n",
       "9164811      1810  822109       4  2005-04-25          1\n",
       "9312559      1843  822109       4  2005-04-25          1\n",
       "9686126      1905  822109       5  2005-05-21          1\n",
       "10182695     1975  822109       4  2005-04-25          1\n",
       "10582251     2095  822109       4  2005-05-21          1\n",
       "11047873     2152  822109       4  2005-04-25          1\n",
       "13481223     2580  822109       4  2005-05-21          1\n",
       "13576859     2594  822109       4  2005-05-21          1\n",
       "13637167     2612  822109       4  2005-05-13          1\n",
       "15911153     3106  822109       5  2005-04-25          1\n",
       "16705707     3254  822109       4  2005-05-21          1\n",
       "18001278     3433  822109       5  2005-04-07          1\n",
       "18459619     3538  822109       5  2005-04-07          1\n",
       "19985049     3825  822109       4  2005-04-07          1\n",
       "20155627     3860  822109       4  2005-04-07          1\n",
       "22710403     4306  822109       5  2005-04-25          1\n",
       "22932322     4330  822109       5  2005-05-21          1\n",
       "23836002     4472  822109       4  2005-10-08          1"
      ]
     },
     "execution_count": 303,
     "metadata": {},
     "output_type": "execute_result"
    }
   ],
   "source": [
    "df_filtered_822109 = df_u[(df_u.userid == 822109) & (df_u.likedmovie == '1') & (df_u.movieid.isin(list(df['id'])))]\n",
    "df_filtered_822109"
   ]
  },
  {
   "cell_type": "code",
   "execution_count": 304,
   "metadata": {
    "collapsed": false,
    "scrolled": false
   },
   "outputs": [],
   "source": [
    "movieTitles_dict = {}\n",
    "\n",
    "#Build a map of movieid and Title\n",
    "for row in df.itertuples():\n",
    "    movieTitles_dict[row.id] = row.Title\n",
    "\n",
    "#Build an Sframe for each movie which user 822109 liked. Sframes are necessary for querying the Knn model.\n",
    "frame_dict = {}    \n",
    "for row in df_filtered_822109.itertuples():\n",
    "    frame_dict[row.movieid] = movieSFrame[movieSFrame['Title'] == movieTitles_dict[row.movieid]]"
   ]
  },
  {
   "cell_type": "code",
   "execution_count": 310,
   "metadata": {
    "collapsed": false
   },
   "outputs": [
    {
     "data": {
      "text/html": [
       "<pre>Starting pairwise querying.</pre>"
      ],
      "text/plain": [
       "Starting pairwise querying."
      ]
     },
     "metadata": {},
     "output_type": "display_data"
    },
    {
     "data": {
      "text/html": [
       "<pre>+--------------+---------+-------------+--------------+</pre>"
      ],
      "text/plain": [
       "+--------------+---------+-------------+--------------+"
      ]
     },
     "metadata": {},
     "output_type": "display_data"
    },
    {
     "data": {
      "text/html": [
       "<pre>| Query points | # Pairs | % Complete. | Elapsed Time |</pre>"
      ],
      "text/plain": [
       "| Query points | # Pairs | % Complete. | Elapsed Time |"
      ]
     },
     "metadata": {},
     "output_type": "display_data"
    },
    {
     "data": {
      "text/html": [
       "<pre>+--------------+---------+-------------+--------------+</pre>"
      ],
      "text/plain": [
       "+--------------+---------+-------------+--------------+"
      ]
     },
     "metadata": {},
     "output_type": "display_data"
    },
    {
     "data": {
      "text/html": [
       "<pre>| 0            | 1       | 0.010923    | 15ms         |</pre>"
      ],
      "text/plain": [
       "| 0            | 1       | 0.010923    | 15ms         |"
      ]
     },
     "metadata": {},
     "output_type": "display_data"
    },
    {
     "data": {
      "text/html": [
       "<pre>| Done         |         | 100         | 186ms        |</pre>"
      ],
      "text/plain": [
       "| Done         |         | 100         | 186ms        |"
      ]
     },
     "metadata": {},
     "output_type": "display_data"
    },
    {
     "data": {
      "text/html": [
       "<pre>+--------------+---------+-------------+--------------+</pre>"
      ],
      "text/plain": [
       "+--------------+---------+-------------+--------------+"
      ]
     },
     "metadata": {},
     "output_type": "display_data"
    },
    {
     "name": "stdout",
     "output_type": "stream",
     "text": [
      "+-------------+-----------------+---------------+------+\n",
      "| query_label | reference_label |    distance   | rank |\n",
      "+-------------+-----------------+---------------+------+\n",
      "|      0      |       1798      |      0.0      |  1   |\n",
      "|      0      |       4883      |      77.0     |  2   |\n",
      "|      0      |      16244      | 77.4142135624 |  3   |\n",
      "|      0      |      14973      |      79.0     |  4   |\n",
      "+-------------+-----------------+---------------+------+\n",
      "[4 rows x 4 columns]\n",
      "\n"
     ]
    },
    {
     "data": {
      "text/html": [
       "<pre>Starting pairwise querying.</pre>"
      ],
      "text/plain": [
       "Starting pairwise querying."
      ]
     },
     "metadata": {},
     "output_type": "display_data"
    },
    {
     "data": {
      "text/html": [
       "<pre>+--------------+---------+-------------+--------------+</pre>"
      ],
      "text/plain": [
       "+--------------+---------+-------------+--------------+"
      ]
     },
     "metadata": {},
     "output_type": "display_data"
    },
    {
     "data": {
      "text/html": [
       "<pre>| Query points | # Pairs | % Complete. | Elapsed Time |</pre>"
      ],
      "text/plain": [
       "| Query points | # Pairs | % Complete. | Elapsed Time |"
      ]
     },
     "metadata": {},
     "output_type": "display_data"
    },
    {
     "data": {
      "text/html": [
       "<pre>+--------------+---------+-------------+--------------+</pre>"
      ],
      "text/plain": [
       "+--------------+---------+-------------+--------------+"
      ]
     },
     "metadata": {},
     "output_type": "display_data"
    },
    {
     "data": {
      "text/html": [
       "<pre>| 0            | 1       | 0.010923    | 741ms        |</pre>"
      ],
      "text/plain": [
       "| 0            | 1       | 0.010923    | 741ms        |"
      ]
     },
     "metadata": {},
     "output_type": "display_data"
    },
    {
     "data": {
      "text/html": [
       "<pre>| Done         |         | 100         | 892ms        |</pre>"
      ],
      "text/plain": [
       "| Done         |         | 100         | 892ms        |"
      ]
     },
     "metadata": {},
     "output_type": "display_data"
    },
    {
     "data": {
      "text/html": [
       "<pre>+--------------+---------+-------------+--------------+</pre>"
      ],
      "text/plain": [
       "+--------------+---------+-------------+--------------+"
      ]
     },
     "metadata": {},
     "output_type": "display_data"
    },
    {
     "name": "stdout",
     "output_type": "stream",
     "text": [
      "+-------------+-----------------+----------+------+\n",
      "| query_label | reference_label | distance | rank |\n",
      "+-------------+-----------------+----------+------+\n",
      "|      0      |       1810      |   0.0    |  1   |\n",
      "|      0      |      15373      |   94.0   |  2   |\n",
      "|      0      |      11679      |   95.0   |  3   |\n",
      "|      0      |       2358      |   96.0   |  4   |\n",
      "+-------------+-----------------+----------+------+\n",
      "[4 rows x 4 columns]\n",
      "\n"
     ]
    },
    {
     "data": {
      "text/html": [
       "<pre>Starting pairwise querying.</pre>"
      ],
      "text/plain": [
       "Starting pairwise querying."
      ]
     },
     "metadata": {},
     "output_type": "display_data"
    },
    {
     "data": {
      "text/html": [
       "<pre>+--------------+---------+-------------+--------------+</pre>"
      ],
      "text/plain": [
       "+--------------+---------+-------------+--------------+"
      ]
     },
     "metadata": {},
     "output_type": "display_data"
    },
    {
     "data": {
      "text/html": [
       "<pre>| Query points | # Pairs | % Complete. | Elapsed Time |</pre>"
      ],
      "text/plain": [
       "| Query points | # Pairs | % Complete. | Elapsed Time |"
      ]
     },
     "metadata": {},
     "output_type": "display_data"
    },
    {
     "data": {
      "text/html": [
       "<pre>+--------------+---------+-------------+--------------+</pre>"
      ],
      "text/plain": [
       "+--------------+---------+-------------+--------------+"
      ]
     },
     "metadata": {},
     "output_type": "display_data"
    },
    {
     "data": {
      "text/html": [
       "<pre>| 0            | 2       | 0.010923    | 11ms         |</pre>"
      ],
      "text/plain": [
       "| 0            | 2       | 0.010923    | 11ms         |"
      ]
     },
     "metadata": {},
     "output_type": "display_data"
    },
    {
     "data": {
      "text/html": [
       "<pre>| Done         |         | 100         | 465ms        |</pre>"
      ],
      "text/plain": [
       "| Done         |         | 100         | 465ms        |"
      ]
     },
     "metadata": {},
     "output_type": "display_data"
    },
    {
     "data": {
      "text/html": [
       "<pre>+--------------+---------+-------------+--------------+</pre>"
      ],
      "text/plain": [
       "+--------------+---------+-------------+--------------+"
      ]
     },
     "metadata": {},
     "output_type": "display_data"
    },
    {
     "name": "stdout",
     "output_type": "stream",
     "text": [
      "+-------------+-----------------+----------+------+\n",
      "| query_label | reference_label | distance | rank |\n",
      "+-------------+-----------------+----------+------+\n",
      "|      0      |       2580      |   0.0    |  1   |\n",
      "|      0      |      14574      |  113.0   |  2   |\n",
      "|      0      |      12337      |  121.0   |  3   |\n",
      "|      0      |      17308      |  121.0   |  4   |\n",
      "|      1      |       2698      |   0.0    |  1   |\n",
      "|      1      |       262       |   80.0   |  2   |\n",
      "|      1      |       1892      |   86.0   |  3   |\n",
      "|      1      |       1262      |   89.0   |  4   |\n",
      "+-------------+-----------------+----------+------+\n",
      "[8 rows x 4 columns]\n",
      "\n"
     ]
    },
    {
     "data": {
      "text/html": [
       "<pre>Starting pairwise querying.</pre>"
      ],
      "text/plain": [
       "Starting pairwise querying."
      ]
     },
     "metadata": {},
     "output_type": "display_data"
    },
    {
     "data": {
      "text/html": [
       "<pre>+--------------+---------+-------------+--------------+</pre>"
      ],
      "text/plain": [
       "+--------------+---------+-------------+--------------+"
      ]
     },
     "metadata": {},
     "output_type": "display_data"
    },
    {
     "data": {
      "text/html": [
       "<pre>| Query points | # Pairs | % Complete. | Elapsed Time |</pre>"
      ],
      "text/plain": [
       "| Query points | # Pairs | % Complete. | Elapsed Time |"
      ]
     },
     "metadata": {},
     "output_type": "display_data"
    },
    {
     "data": {
      "text/html": [
       "<pre>+--------------+---------+-------------+--------------+</pre>"
      ],
      "text/plain": [
       "+--------------+---------+-------------+--------------+"
      ]
     },
     "metadata": {},
     "output_type": "display_data"
    },
    {
     "data": {
      "text/html": [
       "<pre>| 0            | 1       | 0.010923    | 9ms          |</pre>"
      ],
      "text/plain": [
       "| 0            | 1       | 0.010923    | 9ms          |"
      ]
     },
     "metadata": {},
     "output_type": "display_data"
    },
    {
     "data": {
      "text/html": [
       "<pre>| Done         |         | 100         | 160ms        |</pre>"
      ],
      "text/plain": [
       "| Done         |         | 100         | 160ms        |"
      ]
     },
     "metadata": {},
     "output_type": "display_data"
    },
    {
     "data": {
      "text/html": [
       "<pre>+--------------+---------+-------------+--------------+</pre>"
      ],
      "text/plain": [
       "+--------------+---------+-------------+--------------+"
      ]
     },
     "metadata": {},
     "output_type": "display_data"
    },
    {
     "name": "stdout",
     "output_type": "stream",
     "text": [
      "+-------------+-----------------+----------+------+\n",
      "| query_label | reference_label | distance | rank |\n",
      "+-------------+-----------------+----------+------+\n",
      "|      0      |       2594      |   0.0    |  1   |\n",
      "|      0      |      10505      |   67.0   |  2   |\n",
      "|      0      |      16882      |   73.0   |  3   |\n",
      "|      0      |      17482      |   73.0   |  4   |\n",
      "+-------------+-----------------+----------+------+\n",
      "[4 rows x 4 columns]\n",
      "\n"
     ]
    },
    {
     "data": {
      "text/html": [
       "<pre>Starting pairwise querying.</pre>"
      ],
      "text/plain": [
       "Starting pairwise querying."
      ]
     },
     "metadata": {},
     "output_type": "display_data"
    },
    {
     "data": {
      "text/html": [
       "<pre>+--------------+---------+-------------+--------------+</pre>"
      ],
      "text/plain": [
       "+--------------+---------+-------------+--------------+"
      ]
     },
     "metadata": {},
     "output_type": "display_data"
    },
    {
     "data": {
      "text/html": [
       "<pre>| Query points | # Pairs | % Complete. | Elapsed Time |</pre>"
      ],
      "text/plain": [
       "| Query points | # Pairs | % Complete. | Elapsed Time |"
      ]
     },
     "metadata": {},
     "output_type": "display_data"
    },
    {
     "data": {
      "text/html": [
       "<pre>+--------------+---------+-------------+--------------+</pre>"
      ],
      "text/plain": [
       "+--------------+---------+-------------+--------------+"
      ]
     },
     "metadata": {},
     "output_type": "display_data"
    },
    {
     "data": {
      "text/html": [
       "<pre>| 0            | 1       | 0.010923    | 16ms         |</pre>"
      ],
      "text/plain": [
       "| 0            | 1       | 0.010923    | 16ms         |"
      ]
     },
     "metadata": {},
     "output_type": "display_data"
    },
    {
     "data": {
      "text/html": [
       "<pre>| Done         |         | 100         | 442ms        |</pre>"
      ],
      "text/plain": [
       "| Done         |         | 100         | 442ms        |"
      ]
     },
     "metadata": {},
     "output_type": "display_data"
    },
    {
     "data": {
      "text/html": [
       "<pre>+--------------+---------+-------------+--------------+</pre>"
      ],
      "text/plain": [
       "+--------------+---------+-------------+--------------+"
      ]
     },
     "metadata": {},
     "output_type": "display_data"
    },
    {
     "name": "stdout",
     "output_type": "stream",
     "text": [
      "+-------------+-----------------+---------------+------+\n",
      "| query_label | reference_label |    distance   | rank |\n",
      "+-------------+-----------------+---------------+------+\n",
      "|      0      |       1905      |      0.0      |  1   |\n",
      "|      0      |      14203      | 165.828427125 |  2   |\n",
      "|      0      |      15818      | 172.236067977 |  3   |\n",
      "|      0      |      12317      | 174.236067977 |  4   |\n",
      "+-------------+-----------------+---------------+------+\n",
      "[4 rows x 4 columns]\n",
      "\n"
     ]
    },
    {
     "data": {
      "text/html": [
       "<pre>Starting pairwise querying.</pre>"
      ],
      "text/plain": [
       "Starting pairwise querying."
      ]
     },
     "metadata": {},
     "output_type": "display_data"
    },
    {
     "data": {
      "text/html": [
       "<pre>+--------------+---------+-------------+--------------+</pre>"
      ],
      "text/plain": [
       "+--------------+---------+-------------+--------------+"
      ]
     },
     "metadata": {},
     "output_type": "display_data"
    },
    {
     "data": {
      "text/html": [
       "<pre>| Query points | # Pairs | % Complete. | Elapsed Time |</pre>"
      ],
      "text/plain": [
       "| Query points | # Pairs | % Complete. | Elapsed Time |"
      ]
     },
     "metadata": {},
     "output_type": "display_data"
    },
    {
     "data": {
      "text/html": [
       "<pre>+--------------+---------+-------------+--------------+</pre>"
      ],
      "text/plain": [
       "+--------------+---------+-------------+--------------+"
      ]
     },
     "metadata": {},
     "output_type": "display_data"
    },
    {
     "data": {
      "text/html": [
       "<pre>| 0            | 1       | 0.010923    | 13ms         |</pre>"
      ],
      "text/plain": [
       "| 0            | 1       | 0.010923    | 13ms         |"
      ]
     },
     "metadata": {},
     "output_type": "display_data"
    },
    {
     "data": {
      "text/html": [
       "<pre>| Done         |         | 100         | 221ms        |</pre>"
      ],
      "text/plain": [
       "| Done         |         | 100         | 221ms        |"
      ]
     },
     "metadata": {},
     "output_type": "display_data"
    },
    {
     "data": {
      "text/html": [
       "<pre>+--------------+---------+-------------+--------------+</pre>"
      ],
      "text/plain": [
       "+--------------+---------+-------------+--------------+"
      ]
     },
     "metadata": {},
     "output_type": "display_data"
    },
    {
     "name": "stdout",
     "output_type": "stream",
     "text": [
      "+-------------+-----------------+----------+------+\n",
      "| query_label | reference_label | distance | rank |\n",
      "+-------------+-----------------+----------+------+\n",
      "|      0      |       2095      |   0.0    |  1   |\n",
      "|      0      |       413       |   82.0   |  2   |\n",
      "|      0      |       3026      |   82.0   |  3   |\n",
      "|      0      |      14652      |   82.0   |  4   |\n",
      "+-------------+-----------------+----------+------+\n",
      "[4 rows x 4 columns]\n",
      "\n"
     ]
    },
    {
     "data": {
      "text/html": [
       "<pre>Starting pairwise querying.</pre>"
      ],
      "text/plain": [
       "Starting pairwise querying."
      ]
     },
     "metadata": {},
     "output_type": "display_data"
    },
    {
     "data": {
      "text/html": [
       "<pre>+--------------+---------+-------------+--------------+</pre>"
      ],
      "text/plain": [
       "+--------------+---------+-------------+--------------+"
      ]
     },
     "metadata": {},
     "output_type": "display_data"
    },
    {
     "data": {
      "text/html": [
       "<pre>| Query points | # Pairs | % Complete. | Elapsed Time |</pre>"
      ],
      "text/plain": [
       "| Query points | # Pairs | % Complete. | Elapsed Time |"
      ]
     },
     "metadata": {},
     "output_type": "display_data"
    },
    {
     "data": {
      "text/html": [
       "<pre>+--------------+---------+-------------+--------------+</pre>"
      ],
      "text/plain": [
       "+--------------+---------+-------------+--------------+"
      ]
     },
     "metadata": {},
     "output_type": "display_data"
    },
    {
     "data": {
      "text/html": [
       "<pre>| 0            | 1       | 0.010923    | 18ms         |</pre>"
      ],
      "text/plain": [
       "| 0            | 1       | 0.010923    | 18ms         |"
      ]
     },
     "metadata": {},
     "output_type": "display_data"
    },
    {
     "data": {
      "text/html": [
       "<pre>| Done         |         | 100         | 331ms        |</pre>"
      ],
      "text/plain": [
       "| Done         |         | 100         | 331ms        |"
      ]
     },
     "metadata": {},
     "output_type": "display_data"
    },
    {
     "data": {
      "text/html": [
       "<pre>+--------------+---------+-------------+--------------+</pre>"
      ],
      "text/plain": [
       "+--------------+---------+-------------+--------------+"
      ]
     },
     "metadata": {},
     "output_type": "display_data"
    },
    {
     "name": "stdout",
     "output_type": "stream",
     "text": [
      "+-------------+-----------------+----------+------+\n",
      "| query_label | reference_label | distance | rank |\n",
      "+-------------+-----------------+----------+------+\n",
      "|      0      |       1843      |   0.0    |  1   |\n",
      "|      0      |       8372      |  110.0   |  2   |\n",
      "|      0      |      16908      |  110.0   |  3   |\n",
      "|      0      |      10059      |  112.0   |  4   |\n",
      "+-------------+-----------------+----------+------+\n",
      "[4 rows x 4 columns]\n",
      "\n"
     ]
    },
    {
     "data": {
      "text/html": [
       "<pre>Starting pairwise querying.</pre>"
      ],
      "text/plain": [
       "Starting pairwise querying."
      ]
     },
     "metadata": {},
     "output_type": "display_data"
    },
    {
     "data": {
      "text/html": [
       "<pre>+--------------+---------+-------------+--------------+</pre>"
      ],
      "text/plain": [
       "+--------------+---------+-------------+--------------+"
      ]
     },
     "metadata": {},
     "output_type": "display_data"
    },
    {
     "data": {
      "text/html": [
       "<pre>| Query points | # Pairs | % Complete. | Elapsed Time |</pre>"
      ],
      "text/plain": [
       "| Query points | # Pairs | % Complete. | Elapsed Time |"
      ]
     },
     "metadata": {},
     "output_type": "display_data"
    },
    {
     "data": {
      "text/html": [
       "<pre>+--------------+---------+-------------+--------------+</pre>"
      ],
      "text/plain": [
       "+--------------+---------+-------------+--------------+"
      ]
     },
     "metadata": {},
     "output_type": "display_data"
    },
    {
     "data": {
      "text/html": [
       "<pre>| 0            | 1       | 0.010923    | 13ms         |</pre>"
      ],
      "text/plain": [
       "| 0            | 1       | 0.010923    | 13ms         |"
      ]
     },
     "metadata": {},
     "output_type": "display_data"
    },
    {
     "data": {
      "text/html": [
       "<pre>| Done         |         | 100         | 224ms        |</pre>"
      ],
      "text/plain": [
       "| Done         |         | 100         | 224ms        |"
      ]
     },
     "metadata": {},
     "output_type": "display_data"
    },
    {
     "data": {
      "text/html": [
       "<pre>+--------------+---------+-------------+--------------+</pre>"
      ],
      "text/plain": [
       "+--------------+---------+-------------+--------------+"
      ]
     },
     "metadata": {},
     "output_type": "display_data"
    },
    {
     "name": "stdout",
     "output_type": "stream",
     "text": [
      "+-------------+-----------------+----------+------+\n",
      "| query_label | reference_label | distance | rank |\n",
      "+-------------+-----------------+----------+------+\n",
      "|      0      |       2612      |   0.0    |  1   |\n",
      "|      0      |      10419      |  151.0   |  2   |\n",
      "|      0      |      10952      |  155.0   |  3   |\n",
      "|      0      |      17129      |  155.0   |  4   |\n",
      "+-------------+-----------------+----------+------+\n",
      "[4 rows x 4 columns]\n",
      "\n"
     ]
    },
    {
     "data": {
      "text/html": [
       "<pre>Starting pairwise querying.</pre>"
      ],
      "text/plain": [
       "Starting pairwise querying."
      ]
     },
     "metadata": {},
     "output_type": "display_data"
    },
    {
     "data": {
      "text/html": [
       "<pre>+--------------+---------+-------------+--------------+</pre>"
      ],
      "text/plain": [
       "+--------------+---------+-------------+--------------+"
      ]
     },
     "metadata": {},
     "output_type": "display_data"
    },
    {
     "data": {
      "text/html": [
       "<pre>| Query points | # Pairs | % Complete. | Elapsed Time |</pre>"
      ],
      "text/plain": [
       "| Query points | # Pairs | % Complete. | Elapsed Time |"
      ]
     },
     "metadata": {},
     "output_type": "display_data"
    },
    {
     "data": {
      "text/html": [
       "<pre>+--------------+---------+-------------+--------------+</pre>"
      ],
      "text/plain": [
       "+--------------+---------+-------------+--------------+"
      ]
     },
     "metadata": {},
     "output_type": "display_data"
    },
    {
     "data": {
      "text/html": [
       "<pre>| 0            | 1       | 0.010923    | 13ms         |</pre>"
      ],
      "text/plain": [
       "| 0            | 1       | 0.010923    | 13ms         |"
      ]
     },
     "metadata": {},
     "output_type": "display_data"
    },
    {
     "data": {
      "text/html": [
       "<pre>| Done         |         | 100         | 176ms        |</pre>"
      ],
      "text/plain": [
       "| Done         |         | 100         | 176ms        |"
      ]
     },
     "metadata": {},
     "output_type": "display_data"
    },
    {
     "data": {
      "text/html": [
       "<pre>+--------------+---------+-------------+--------------+</pre>"
      ],
      "text/plain": [
       "+--------------+---------+-------------+--------------+"
      ]
     },
     "metadata": {},
     "output_type": "display_data"
    },
    {
     "name": "stdout",
     "output_type": "stream",
     "text": [
      "+-------------+-----------------+----------+------+\n",
      "| query_label | reference_label | distance | rank |\n",
      "+-------------+-----------------+----------+------+\n",
      "|      0      |       3254      |   0.0    |  1   |\n",
      "|      0      |       8181      |  107.0   |  2   |\n",
      "|      0      |      16922      |  110.0   |  3   |\n",
      "|      0      |      11234      |  112.0   |  4   |\n",
      "+-------------+-----------------+----------+------+\n",
      "[4 rows x 4 columns]\n",
      "\n"
     ]
    },
    {
     "data": {
      "text/html": [
       "<pre>Starting pairwise querying.</pre>"
      ],
      "text/plain": [
       "Starting pairwise querying."
      ]
     },
     "metadata": {},
     "output_type": "display_data"
    },
    {
     "data": {
      "text/html": [
       "<pre>+--------------+---------+-------------+--------------+</pre>"
      ],
      "text/plain": [
       "+--------------+---------+-------------+--------------+"
      ]
     },
     "metadata": {},
     "output_type": "display_data"
    },
    {
     "data": {
      "text/html": [
       "<pre>| Query points | # Pairs | % Complete. | Elapsed Time |</pre>"
      ],
      "text/plain": [
       "| Query points | # Pairs | % Complete. | Elapsed Time |"
      ]
     },
     "metadata": {},
     "output_type": "display_data"
    },
    {
     "data": {
      "text/html": [
       "<pre>+--------------+---------+-------------+--------------+</pre>"
      ],
      "text/plain": [
       "+--------------+---------+-------------+--------------+"
      ]
     },
     "metadata": {},
     "output_type": "display_data"
    },
    {
     "data": {
      "text/html": [
       "<pre>| 0            | 1       | 0.010923    | 13ms         |</pre>"
      ],
      "text/plain": [
       "| 0            | 1       | 0.010923    | 13ms         |"
      ]
     },
     "metadata": {},
     "output_type": "display_data"
    },
    {
     "data": {
      "text/html": [
       "<pre>| Done         |         | 100         | 214ms        |</pre>"
      ],
      "text/plain": [
       "| Done         |         | 100         | 214ms        |"
      ]
     },
     "metadata": {},
     "output_type": "display_data"
    },
    {
     "data": {
      "text/html": [
       "<pre>+--------------+---------+-------------+--------------+</pre>"
      ],
      "text/plain": [
       "+--------------+---------+-------------+--------------+"
      ]
     },
     "metadata": {},
     "output_type": "display_data"
    },
    {
     "name": "stdout",
     "output_type": "stream",
     "text": [
      "+-------------+-----------------+----------+------+\n",
      "| query_label | reference_label | distance | rank |\n",
      "+-------------+-----------------+----------+------+\n",
      "|      0      |       1975      |   0.0    |  1   |\n",
      "|      0      |      10094      |  129.0   |  2   |\n",
      "|      0      |       9189      |  130.0   |  3   |\n",
      "|      0      |        58       |  131.0   |  4   |\n",
      "+-------------+-----------------+----------+------+\n",
      "[4 rows x 4 columns]\n",
      "\n"
     ]
    },
    {
     "data": {
      "text/html": [
       "<pre>Starting pairwise querying.</pre>"
      ],
      "text/plain": [
       "Starting pairwise querying."
      ]
     },
     "metadata": {},
     "output_type": "display_data"
    },
    {
     "data": {
      "text/html": [
       "<pre>+--------------+---------+-------------+--------------+</pre>"
      ],
      "text/plain": [
       "+--------------+---------+-------------+--------------+"
      ]
     },
     "metadata": {},
     "output_type": "display_data"
    },
    {
     "data": {
      "text/html": [
       "<pre>| Query points | # Pairs | % Complete. | Elapsed Time |</pre>"
      ],
      "text/plain": [
       "| Query points | # Pairs | % Complete. | Elapsed Time |"
      ]
     },
     "metadata": {},
     "output_type": "display_data"
    },
    {
     "data": {
      "text/html": [
       "<pre>+--------------+---------+-------------+--------------+</pre>"
      ],
      "text/plain": [
       "+--------------+---------+-------------+--------------+"
      ]
     },
     "metadata": {},
     "output_type": "display_data"
    },
    {
     "data": {
      "text/html": [
       "<pre>| 0            | 1       | 0.010923    | 12ms         |</pre>"
      ],
      "text/plain": [
       "| 0            | 1       | 0.010923    | 12ms         |"
      ]
     },
     "metadata": {},
     "output_type": "display_data"
    },
    {
     "data": {
      "text/html": [
       "<pre>| Done         |         | 100         | 140ms        |</pre>"
      ],
      "text/plain": [
       "| Done         |         | 100         | 140ms        |"
      ]
     },
     "metadata": {},
     "output_type": "display_data"
    },
    {
     "data": {
      "text/html": [
       "<pre>+--------------+---------+-------------+--------------+</pre>"
      ],
      "text/plain": [
       "+--------------+---------+-------------+--------------+"
      ]
     },
     "metadata": {},
     "output_type": "display_data"
    },
    {
     "name": "stdout",
     "output_type": "stream",
     "text": [
      "+-------------+-----------------+---------------+------+\n",
      "| query_label | reference_label |    distance   | rank |\n",
      "+-------------+-----------------+---------------+------+\n",
      "|      0      |       571       |      0.0      |  1   |\n",
      "|      0      |       9037      | 73.4494897428 |  2   |\n",
      "|      0      |       2478      | 74.4494897428 |  3   |\n",
      "|      0      |      12468      |      80.0     |  4   |\n",
      "+-------------+-----------------+---------------+------+\n",
      "[4 rows x 4 columns]\n",
      "\n"
     ]
    },
    {
     "data": {
      "text/html": [
       "<pre>Starting pairwise querying.</pre>"
      ],
      "text/plain": [
       "Starting pairwise querying."
      ]
     },
     "metadata": {},
     "output_type": "display_data"
    },
    {
     "data": {
      "text/html": [
       "<pre>+--------------+---------+-------------+--------------+</pre>"
      ],
      "text/plain": [
       "+--------------+---------+-------------+--------------+"
      ]
     },
     "metadata": {},
     "output_type": "display_data"
    },
    {
     "data": {
      "text/html": [
       "<pre>| Query points | # Pairs | % Complete. | Elapsed Time |</pre>"
      ],
      "text/plain": [
       "| Query points | # Pairs | % Complete. | Elapsed Time |"
      ]
     },
     "metadata": {},
     "output_type": "display_data"
    },
    {
     "data": {
      "text/html": [
       "<pre>+--------------+---------+-------------+--------------+</pre>"
      ],
      "text/plain": [
       "+--------------+---------+-------------+--------------+"
      ]
     },
     "metadata": {},
     "output_type": "display_data"
    },
    {
     "data": {
      "text/html": [
       "<pre>| 0            | 1       | 0.010923    | 14ms         |</pre>"
      ],
      "text/plain": [
       "| 0            | 1       | 0.010923    | 14ms         |"
      ]
     },
     "metadata": {},
     "output_type": "display_data"
    },
    {
     "data": {
      "text/html": [
       "<pre>| Done         |         | 100         | 185ms        |</pre>"
      ],
      "text/plain": [
       "| Done         |         | 100         | 185ms        |"
      ]
     },
     "metadata": {},
     "output_type": "display_data"
    },
    {
     "data": {
      "text/html": [
       "<pre>+--------------+---------+-------------+--------------+</pre>"
      ],
      "text/plain": [
       "+--------------+---------+-------------+--------------+"
      ]
     },
     "metadata": {},
     "output_type": "display_data"
    },
    {
     "name": "stdout",
     "output_type": "stream",
     "text": [
      "+-------------+-----------------+----------+------+\n",
      "| query_label | reference_label | distance | rank |\n",
      "+-------------+-----------------+----------+------+\n",
      "|      0      |       1220      |   0.0    |  1   |\n",
      "|      0      |       7882      |   98.0   |  2   |\n",
      "|      0      |      12191      |  100.0   |  3   |\n",
      "|      0      |       3314      |  104.0   |  4   |\n",
      "+-------------+-----------------+----------+------+\n",
      "[4 rows x 4 columns]\n",
      "\n"
     ]
    },
    {
     "data": {
      "text/html": [
       "<pre>Starting pairwise querying.</pre>"
      ],
      "text/plain": [
       "Starting pairwise querying."
      ]
     },
     "metadata": {},
     "output_type": "display_data"
    },
    {
     "data": {
      "text/html": [
       "<pre>+--------------+---------+-------------+--------------+</pre>"
      ],
      "text/plain": [
       "+--------------+---------+-------------+--------------+"
      ]
     },
     "metadata": {},
     "output_type": "display_data"
    },
    {
     "data": {
      "text/html": [
       "<pre>| Query points | # Pairs | % Complete. | Elapsed Time |</pre>"
      ],
      "text/plain": [
       "| Query points | # Pairs | % Complete. | Elapsed Time |"
      ]
     },
     "metadata": {},
     "output_type": "display_data"
    },
    {
     "data": {
      "text/html": [
       "<pre>+--------------+---------+-------------+--------------+</pre>"
      ],
      "text/plain": [
       "+--------------+---------+-------------+--------------+"
      ]
     },
     "metadata": {},
     "output_type": "display_data"
    },
    {
     "data": {
      "text/html": [
       "<pre>| 0            | 1       | 0.010923    | 44ms         |</pre>"
      ],
      "text/plain": [
       "| 0            | 1       | 0.010923    | 44ms         |"
      ]
     },
     "metadata": {},
     "output_type": "display_data"
    },
    {
     "data": {
      "text/html": [
       "<pre>| Done         |         | 100         | 202ms        |</pre>"
      ],
      "text/plain": [
       "| Done         |         | 100         | 202ms        |"
      ]
     },
     "metadata": {},
     "output_type": "display_data"
    },
    {
     "data": {
      "text/html": [
       "<pre>+--------------+---------+-------------+--------------+</pre>"
      ],
      "text/plain": [
       "+--------------+---------+-------------+--------------+"
      ]
     },
     "metadata": {},
     "output_type": "display_data"
    },
    {
     "name": "stdout",
     "output_type": "stream",
     "text": [
      "+-------------+-----------------+---------------+------+\n",
      "| query_label | reference_label |    distance   | rank |\n",
      "+-------------+-----------------+---------------+------+\n",
      "|      0      |       3106      |      0.0      |  1   |\n",
      "|      0      |       9037      |      85.0     |  2   |\n",
      "|      0      |       7617      |      87.0     |  3   |\n",
      "|      0      |       571       | 90.2360679775 |  4   |\n",
      "+-------------+-----------------+---------------+------+\n",
      "[4 rows x 4 columns]\n",
      "\n"
     ]
    },
    {
     "data": {
      "text/html": [
       "<pre>Starting pairwise querying.</pre>"
      ],
      "text/plain": [
       "Starting pairwise querying."
      ]
     },
     "metadata": {},
     "output_type": "display_data"
    },
    {
     "data": {
      "text/html": [
       "<pre>+--------------+---------+-------------+--------------+</pre>"
      ],
      "text/plain": [
       "+--------------+---------+-------------+--------------+"
      ]
     },
     "metadata": {},
     "output_type": "display_data"
    },
    {
     "data": {
      "text/html": [
       "<pre>| Query points | # Pairs | % Complete. | Elapsed Time |</pre>"
      ],
      "text/plain": [
       "| Query points | # Pairs | % Complete. | Elapsed Time |"
      ]
     },
     "metadata": {},
     "output_type": "display_data"
    },
    {
     "data": {
      "text/html": [
       "<pre>+--------------+---------+-------------+--------------+</pre>"
      ],
      "text/plain": [
       "+--------------+---------+-------------+--------------+"
      ]
     },
     "metadata": {},
     "output_type": "display_data"
    },
    {
     "data": {
      "text/html": [
       "<pre>| 0            | 1       | 0.010923    | 12ms         |</pre>"
      ],
      "text/plain": [
       "| 0            | 1       | 0.010923    | 12ms         |"
      ]
     },
     "metadata": {},
     "output_type": "display_data"
    },
    {
     "data": {
      "text/html": [
       "<pre>| Done         |         | 100         | 202ms        |</pre>"
      ],
      "text/plain": [
       "| Done         |         | 100         | 202ms        |"
      ]
     },
     "metadata": {},
     "output_type": "display_data"
    },
    {
     "data": {
      "text/html": [
       "<pre>+--------------+---------+-------------+--------------+</pre>"
      ],
      "text/plain": [
       "+--------------+---------+-------------+--------------+"
      ]
     },
     "metadata": {},
     "output_type": "display_data"
    },
    {
     "name": "stdout",
     "output_type": "stream",
     "text": [
      "+-------------+-----------------+----------+------+\n",
      "| query_label | reference_label | distance | rank |\n",
      "+-------------+-----------------+----------+------+\n",
      "|      0      |       4472      |   0.0    |  1   |\n",
      "|      0      |       9995      |   84.0   |  2   |\n",
      "|      0      |      15058      |   90.0   |  3   |\n",
      "|      0      |       2000      |   99.0   |  4   |\n",
      "+-------------+-----------------+----------+------+\n",
      "[4 rows x 4 columns]\n",
      "\n"
     ]
    },
    {
     "data": {
      "text/html": [
       "<pre>Starting pairwise querying.</pre>"
      ],
      "text/plain": [
       "Starting pairwise querying."
      ]
     },
     "metadata": {},
     "output_type": "display_data"
    },
    {
     "data": {
      "text/html": [
       "<pre>+--------------+---------+-------------+--------------+</pre>"
      ],
      "text/plain": [
       "+--------------+---------+-------------+--------------+"
      ]
     },
     "metadata": {},
     "output_type": "display_data"
    },
    {
     "data": {
      "text/html": [
       "<pre>| Query points | # Pairs | % Complete. | Elapsed Time |</pre>"
      ],
      "text/plain": [
       "| Query points | # Pairs | % Complete. | Elapsed Time |"
      ]
     },
     "metadata": {},
     "output_type": "display_data"
    },
    {
     "data": {
      "text/html": [
       "<pre>+--------------+---------+-------------+--------------+</pre>"
      ],
      "text/plain": [
       "+--------------+---------+-------------+--------------+"
      ]
     },
     "metadata": {},
     "output_type": "display_data"
    },
    {
     "data": {
      "text/html": [
       "<pre>| 0            | 1       | 0.010923    | 12ms         |</pre>"
      ],
      "text/plain": [
       "| 0            | 1       | 0.010923    | 12ms         |"
      ]
     },
     "metadata": {},
     "output_type": "display_data"
    },
    {
     "data": {
      "text/html": [
       "<pre>| Done         |         | 100         | 195ms        |</pre>"
      ],
      "text/plain": [
       "| Done         |         | 100         | 195ms        |"
      ]
     },
     "metadata": {},
     "output_type": "display_data"
    },
    {
     "data": {
      "text/html": [
       "<pre>+--------------+---------+-------------+--------------+</pre>"
      ],
      "text/plain": [
       "+--------------+---------+-------------+--------------+"
      ]
     },
     "metadata": {},
     "output_type": "display_data"
    },
    {
     "name": "stdout",
     "output_type": "stream",
     "text": [
      "+-------------+-----------------+---------------+------+\n",
      "| query_label | reference_label |    distance   | rank |\n",
      "+-------------+-----------------+---------------+------+\n",
      "|      0      |       4306      |      0.0      |  1   |\n",
      "|      0      |       3333      | 66.2360679775 |  2   |\n",
      "|      0      |      12145      | 95.4494897428 |  3   |\n",
      "|      0      |       8376      | 101.236067977 |  4   |\n",
      "+-------------+-----------------+---------------+------+\n",
      "[4 rows x 4 columns]\n",
      "\n"
     ]
    },
    {
     "data": {
      "text/html": [
       "<pre>Starting pairwise querying.</pre>"
      ],
      "text/plain": [
       "Starting pairwise querying."
      ]
     },
     "metadata": {},
     "output_type": "display_data"
    },
    {
     "data": {
      "text/html": [
       "<pre>+--------------+---------+-------------+--------------+</pre>"
      ],
      "text/plain": [
       "+--------------+---------+-------------+--------------+"
      ]
     },
     "metadata": {},
     "output_type": "display_data"
    },
    {
     "data": {
      "text/html": [
       "<pre>| Query points | # Pairs | % Complete. | Elapsed Time |</pre>"
      ],
      "text/plain": [
       "| Query points | # Pairs | % Complete. | Elapsed Time |"
      ]
     },
     "metadata": {},
     "output_type": "display_data"
    },
    {
     "data": {
      "text/html": [
       "<pre>+--------------+---------+-------------+--------------+</pre>"
      ],
      "text/plain": [
       "+--------------+---------+-------------+--------------+"
      ]
     },
     "metadata": {},
     "output_type": "display_data"
    },
    {
     "data": {
      "text/html": [
       "<pre>| 0            | 3       | 0.010923    | 15ms         |</pre>"
      ],
      "text/plain": [
       "| 0            | 3       | 0.010923    | 15ms         |"
      ]
     },
     "metadata": {},
     "output_type": "display_data"
    },
    {
     "data": {
      "text/html": [
       "<pre>| Done         |         | 100         | 541ms        |</pre>"
      ],
      "text/plain": [
       "| Done         |         | 100         | 541ms        |"
      ]
     },
     "metadata": {},
     "output_type": "display_data"
    },
    {
     "data": {
      "text/html": [
       "<pre>+--------------+---------+-------------+--------------+</pre>"
      ],
      "text/plain": [
       "+--------------+---------+-------------+--------------+"
      ]
     },
     "metadata": {},
     "output_type": "display_data"
    },
    {
     "name": "stdout",
     "output_type": "stream",
     "text": [
      "+-------------+-----------------+---------------+------+\n",
      "| query_label | reference_label |    distance   | rank |\n",
      "+-------------+-----------------+---------------+------+\n",
      "|      0      |       985       |      0.0      |  1   |\n",
      "|      0      |      13391      |     180.0     |  2   |\n",
      "|      0      |       5939      |     186.0     |  3   |\n",
      "|      0      |       8387      | 187.414213562 |  4   |\n",
      "|      1      |      12124      |      0.0      |  1   |\n",
      "|      1      |       4085      |      65.0     |  2   |\n",
      "|      1      |       6789      |      80.0     |  3   |\n",
      "|      1      |       6435      |      81.0     |  4   |\n",
      "|      2      |      12173      |      0.0      |  1   |\n",
      "|      2      |       6708      |     138.0     |  2   |\n",
      "+-------------+-----------------+---------------+------+\n",
      "[12 rows x 4 columns]\n",
      "Note: Only the head of the SFrame is printed.\n",
      "You can use print_rows(num_rows=m, num_columns=n) to print more rows and columns.\n"
     ]
    },
    {
     "data": {
      "text/html": [
       "<pre>Starting pairwise querying.</pre>"
      ],
      "text/plain": [
       "Starting pairwise querying."
      ]
     },
     "metadata": {},
     "output_type": "display_data"
    },
    {
     "data": {
      "text/html": [
       "<pre>+--------------+---------+-------------+--------------+</pre>"
      ],
      "text/plain": [
       "+--------------+---------+-------------+--------------+"
      ]
     },
     "metadata": {},
     "output_type": "display_data"
    },
    {
     "data": {
      "text/html": [
       "<pre>| Query points | # Pairs | % Complete. | Elapsed Time |</pre>"
      ],
      "text/plain": [
       "| Query points | # Pairs | % Complete. | Elapsed Time |"
      ]
     },
     "metadata": {},
     "output_type": "display_data"
    },
    {
     "data": {
      "text/html": [
       "<pre>+--------------+---------+-------------+--------------+</pre>"
      ],
      "text/plain": [
       "+--------------+---------+-------------+--------------+"
      ]
     },
     "metadata": {},
     "output_type": "display_data"
    },
    {
     "data": {
      "text/html": [
       "<pre>| 0            | 1       | 0.010923    | 12ms         |</pre>"
      ],
      "text/plain": [
       "| 0            | 1       | 0.010923    | 12ms         |"
      ]
     },
     "metadata": {},
     "output_type": "display_data"
    },
    {
     "data": {
      "text/html": [
       "<pre>| Done         |         | 100         | 147ms        |</pre>"
      ],
      "text/plain": [
       "| Done         |         | 100         | 147ms        |"
      ]
     },
     "metadata": {},
     "output_type": "display_data"
    },
    {
     "data": {
      "text/html": [
       "<pre>+--------------+---------+-------------+--------------+</pre>"
      ],
      "text/plain": [
       "+--------------+---------+-------------+--------------+"
      ]
     },
     "metadata": {},
     "output_type": "display_data"
    },
    {
     "name": "stdout",
     "output_type": "stream",
     "text": [
      "+-------------+-----------------+---------------+------+\n",
      "| query_label | reference_label |    distance   | rank |\n",
      "+-------------+-----------------+---------------+------+\n",
      "|      0      |       607       |      0.0      |  1   |\n",
      "|      0      |      16265      | 79.4494897428 |  2   |\n",
      "|      0      |       571       | 82.2360679775 |  3   |\n",
      "|      0      |       2880      |      85.0     |  4   |\n",
      "+-------------+-----------------+---------------+------+\n",
      "[4 rows x 4 columns]\n",
      "\n"
     ]
    },
    {
     "data": {
      "text/html": [
       "<pre>Starting pairwise querying.</pre>"
      ],
      "text/plain": [
       "Starting pairwise querying."
      ]
     },
     "metadata": {},
     "output_type": "display_data"
    },
    {
     "data": {
      "text/html": [
       "<pre>+--------------+---------+-------------+--------------+</pre>"
      ],
      "text/plain": [
       "+--------------+---------+-------------+--------------+"
      ]
     },
     "metadata": {},
     "output_type": "display_data"
    },
    {
     "data": {
      "text/html": [
       "<pre>| Query points | # Pairs | % Complete. | Elapsed Time |</pre>"
      ],
      "text/plain": [
       "| Query points | # Pairs | % Complete. | Elapsed Time |"
      ]
     },
     "metadata": {},
     "output_type": "display_data"
    },
    {
     "data": {
      "text/html": [
       "<pre>+--------------+---------+-------------+--------------+</pre>"
      ],
      "text/plain": [
       "+--------------+---------+-------------+--------------+"
      ]
     },
     "metadata": {},
     "output_type": "display_data"
    },
    {
     "data": {
      "text/html": [
       "<pre>| 0            | 1       | 0.010923    | 11ms         |</pre>"
      ],
      "text/plain": [
       "| 0            | 1       | 0.010923    | 11ms         |"
      ]
     },
     "metadata": {},
     "output_type": "display_data"
    },
    {
     "data": {
      "text/html": [
       "<pre>| Done         |         | 100         | 279ms        |</pre>"
      ],
      "text/plain": [
       "| Done         |         | 100         | 279ms        |"
      ]
     },
     "metadata": {},
     "output_type": "display_data"
    },
    {
     "data": {
      "text/html": [
       "<pre>+--------------+---------+-------------+--------------+</pre>"
      ],
      "text/plain": [
       "+--------------+---------+-------------+--------------+"
      ]
     },
     "metadata": {},
     "output_type": "display_data"
    },
    {
     "name": "stdout",
     "output_type": "stream",
     "text": [
      "+-------------+-----------------+----------+------+\n",
      "| query_label | reference_label | distance | rank |\n",
      "+-------------+-----------------+----------+------+\n",
      "|      0      |       2152      |   0.0    |  1   |\n",
      "|      0      |      11490      |  130.0   |  2   |\n",
      "|      0      |      15472      |  135.0   |  3   |\n",
      "|      0      |      12090      |  137.0   |  4   |\n",
      "+-------------+-----------------+----------+------+\n",
      "[4 rows x 4 columns]\n",
      "\n"
     ]
    },
    {
     "data": {
      "text/html": [
       "<pre>Starting pairwise querying.</pre>"
      ],
      "text/plain": [
       "Starting pairwise querying."
      ]
     },
     "metadata": {},
     "output_type": "display_data"
    },
    {
     "data": {
      "text/html": [
       "<pre>+--------------+---------+-------------+--------------+</pre>"
      ],
      "text/plain": [
       "+--------------+---------+-------------+--------------+"
      ]
     },
     "metadata": {},
     "output_type": "display_data"
    },
    {
     "data": {
      "text/html": [
       "<pre>| Query points | # Pairs | % Complete. | Elapsed Time |</pre>"
      ],
      "text/plain": [
       "| Query points | # Pairs | % Complete. | Elapsed Time |"
      ]
     },
     "metadata": {},
     "output_type": "display_data"
    },
    {
     "data": {
      "text/html": [
       "<pre>+--------------+---------+-------------+--------------+</pre>"
      ],
      "text/plain": [
       "+--------------+---------+-------------+--------------+"
      ]
     },
     "metadata": {},
     "output_type": "display_data"
    },
    {
     "data": {
      "text/html": [
       "<pre>| 0            | 1       | 0.010923    | 13ms         |</pre>"
      ],
      "text/plain": [
       "| 0            | 1       | 0.010923    | 13ms         |"
      ]
     },
     "metadata": {},
     "output_type": "display_data"
    },
    {
     "data": {
      "text/html": [
       "<pre>| Done         |         | 100         | 163ms        |</pre>"
      ],
      "text/plain": [
       "| Done         |         | 100         | 163ms        |"
      ]
     },
     "metadata": {},
     "output_type": "display_data"
    },
    {
     "data": {
      "text/html": [
       "<pre>+--------------+---------+-------------+--------------+</pre>"
      ],
      "text/plain": [
       "+--------------+---------+-------------+--------------+"
      ]
     },
     "metadata": {},
     "output_type": "display_data"
    },
    {
     "name": "stdout",
     "output_type": "stream",
     "text": [
      "+-------------+-----------------+----------+------+\n",
      "| query_label | reference_label | distance | rank |\n",
      "+-------------+-----------------+----------+------+\n",
      "|      0      |       3433      |   0.0    |  1   |\n",
      "|      0      |       1914      |   69.0   |  2   |\n",
      "|      0      |       1546      |   74.0   |  3   |\n",
      "|      0      |       3317      |   74.0   |  4   |\n",
      "+-------------+-----------------+----------+------+\n",
      "[4 rows x 4 columns]\n",
      "\n"
     ]
    },
    {
     "data": {
      "text/html": [
       "<pre>Starting pairwise querying.</pre>"
      ],
      "text/plain": [
       "Starting pairwise querying."
      ]
     },
     "metadata": {},
     "output_type": "display_data"
    },
    {
     "data": {
      "text/html": [
       "<pre>+--------------+---------+-------------+--------------+</pre>"
      ],
      "text/plain": [
       "+--------------+---------+-------------+--------------+"
      ]
     },
     "metadata": {},
     "output_type": "display_data"
    },
    {
     "data": {
      "text/html": [
       "<pre>| Query points | # Pairs | % Complete. | Elapsed Time |</pre>"
      ],
      "text/plain": [
       "| Query points | # Pairs | % Complete. | Elapsed Time |"
      ]
     },
     "metadata": {},
     "output_type": "display_data"
    },
    {
     "data": {
      "text/html": [
       "<pre>+--------------+---------+-------------+--------------+</pre>"
      ],
      "text/plain": [
       "+--------------+---------+-------------+--------------+"
      ]
     },
     "metadata": {},
     "output_type": "display_data"
    },
    {
     "data": {
      "text/html": [
       "<pre>| 0            | 1       | 0.010923    | 12ms         |</pre>"
      ],
      "text/plain": [
       "| 0            | 1       | 0.010923    | 12ms         |"
      ]
     },
     "metadata": {},
     "output_type": "display_data"
    },
    {
     "data": {
      "text/html": [
       "<pre>| Done         |         | 100         | 231ms        |</pre>"
      ],
      "text/plain": [
       "| Done         |         | 100         | 231ms        |"
      ]
     },
     "metadata": {},
     "output_type": "display_data"
    },
    {
     "data": {
      "text/html": [
       "<pre>+--------------+---------+-------------+--------------+</pre>"
      ],
      "text/plain": [
       "+--------------+---------+-------------+--------------+"
      ]
     },
     "metadata": {},
     "output_type": "display_data"
    },
    {
     "name": "stdout",
     "output_type": "stream",
     "text": [
      "+-------------+-----------------+----------+------+\n",
      "| query_label | reference_label | distance | rank |\n",
      "+-------------+-----------------+----------+------+\n",
      "|      0      |       4330      |   0.0    |  1   |\n",
      "|      0      |       331       |   87.0   |  2   |\n",
      "|      0      |       7716      |   91.0   |  3   |\n",
      "|      0      |      14480      |   94.0   |  4   |\n",
      "+-------------+-----------------+----------+------+\n",
      "[4 rows x 4 columns]\n",
      "\n"
     ]
    },
    {
     "data": {
      "text/html": [
       "<pre>Starting pairwise querying.</pre>"
      ],
      "text/plain": [
       "Starting pairwise querying."
      ]
     },
     "metadata": {},
     "output_type": "display_data"
    },
    {
     "data": {
      "text/html": [
       "<pre>+--------------+---------+-------------+--------------+</pre>"
      ],
      "text/plain": [
       "+--------------+---------+-------------+--------------+"
      ]
     },
     "metadata": {},
     "output_type": "display_data"
    },
    {
     "data": {
      "text/html": [
       "<pre>| Query points | # Pairs | % Complete. | Elapsed Time |</pre>"
      ],
      "text/plain": [
       "| Query points | # Pairs | % Complete. | Elapsed Time |"
      ]
     },
     "metadata": {},
     "output_type": "display_data"
    },
    {
     "data": {
      "text/html": [
       "<pre>+--------------+---------+-------------+--------------+</pre>"
      ],
      "text/plain": [
       "+--------------+---------+-------------+--------------+"
      ]
     },
     "metadata": {},
     "output_type": "display_data"
    },
    {
     "data": {
      "text/html": [
       "<pre>| 0            | 1       | 0.010923    | 12ms         |</pre>"
      ],
      "text/plain": [
       "| 0            | 1       | 0.010923    | 12ms         |"
      ]
     },
     "metadata": {},
     "output_type": "display_data"
    },
    {
     "data": {
      "text/html": [
       "<pre>| Done         |         | 100         | 201ms        |</pre>"
      ],
      "text/plain": [
       "| Done         |         | 100         | 201ms        |"
      ]
     },
     "metadata": {},
     "output_type": "display_data"
    },
    {
     "data": {
      "text/html": [
       "<pre>+--------------+---------+-------------+--------------+</pre>"
      ],
      "text/plain": [
       "+--------------+---------+-------------+--------------+"
      ]
     },
     "metadata": {},
     "output_type": "display_data"
    },
    {
     "name": "stdout",
     "output_type": "stream",
     "text": [
      "+-------------+-----------------+----------+------+\n",
      "| query_label | reference_label | distance | rank |\n",
      "+-------------+-----------------+----------+------+\n",
      "|      0      |       3538      |   0.0    |  1   |\n",
      "|      0      |       8827      |   94.0   |  2   |\n",
      "|      0      |      13389      |   98.0   |  3   |\n",
      "|      0      |      15985      |   99.0   |  4   |\n",
      "+-------------+-----------------+----------+------+\n",
      "[4 rows x 4 columns]\n",
      "\n"
     ]
    },
    {
     "data": {
      "text/html": [
       "<pre>Starting pairwise querying.</pre>"
      ],
      "text/plain": [
       "Starting pairwise querying."
      ]
     },
     "metadata": {},
     "output_type": "display_data"
    },
    {
     "data": {
      "text/html": [
       "<pre>+--------------+---------+-------------+--------------+</pre>"
      ],
      "text/plain": [
       "+--------------+---------+-------------+--------------+"
      ]
     },
     "metadata": {},
     "output_type": "display_data"
    },
    {
     "data": {
      "text/html": [
       "<pre>| Query points | # Pairs | % Complete. | Elapsed Time |</pre>"
      ],
      "text/plain": [
       "| Query points | # Pairs | % Complete. | Elapsed Time |"
      ]
     },
     "metadata": {},
     "output_type": "display_data"
    },
    {
     "data": {
      "text/html": [
       "<pre>+--------------+---------+-------------+--------------+</pre>"
      ],
      "text/plain": [
       "+--------------+---------+-------------+--------------+"
      ]
     },
     "metadata": {},
     "output_type": "display_data"
    },
    {
     "data": {
      "text/html": [
       "<pre>| 0            | 1       | 0.010923    | 17ms         |</pre>"
      ],
      "text/plain": [
       "| 0            | 1       | 0.010923    | 17ms         |"
      ]
     },
     "metadata": {},
     "output_type": "display_data"
    },
    {
     "data": {
      "text/html": [
       "<pre>| Done         |         | 100         | 209ms        |</pre>"
      ],
      "text/plain": [
       "| Done         |         | 100         | 209ms        |"
      ]
     },
     "metadata": {},
     "output_type": "display_data"
    },
    {
     "data": {
      "text/html": [
       "<pre>+--------------+---------+-------------+--------------+</pre>"
      ],
      "text/plain": [
       "+--------------+---------+-------------+--------------+"
      ]
     },
     "metadata": {},
     "output_type": "display_data"
    },
    {
     "name": "stdout",
     "output_type": "stream",
     "text": [
      "+-------------+-----------------+---------------+------+\n",
      "| query_label | reference_label |    distance   | rank |\n",
      "+-------------+-----------------+---------------+------+\n",
      "|      0      |       3825      |      0.0      |  1   |\n",
      "|      0      |       2372      | 127.414213562 |  2   |\n",
      "|      0      |       5293      |     139.0     |  3   |\n",
      "|      0      |      14527      |     139.0     |  4   |\n",
      "+-------------+-----------------+---------------+------+\n",
      "[4 rows x 4 columns]\n",
      "\n"
     ]
    },
    {
     "data": {
      "text/html": [
       "<pre>Starting pairwise querying.</pre>"
      ],
      "text/plain": [
       "Starting pairwise querying."
      ]
     },
     "metadata": {},
     "output_type": "display_data"
    },
    {
     "data": {
      "text/html": [
       "<pre>+--------------+---------+-------------+--------------+</pre>"
      ],
      "text/plain": [
       "+--------------+---------+-------------+--------------+"
      ]
     },
     "metadata": {},
     "output_type": "display_data"
    },
    {
     "data": {
      "text/html": [
       "<pre>| Query points | # Pairs | % Complete. | Elapsed Time |</pre>"
      ],
      "text/plain": [
       "| Query points | # Pairs | % Complete. | Elapsed Time |"
      ]
     },
     "metadata": {},
     "output_type": "display_data"
    },
    {
     "data": {
      "text/html": [
       "<pre>+--------------+---------+-------------+--------------+</pre>"
      ],
      "text/plain": [
       "+--------------+---------+-------------+--------------+"
      ]
     },
     "metadata": {},
     "output_type": "display_data"
    },
    {
     "data": {
      "text/html": [
       "<pre>| 0            | 1       | 0.010923    | 24ms         |</pre>"
      ],
      "text/plain": [
       "| 0            | 1       | 0.010923    | 24ms         |"
      ]
     },
     "metadata": {},
     "output_type": "display_data"
    },
    {
     "data": {
      "text/html": [
       "<pre>| Done         |         | 100         | 326ms        |</pre>"
      ],
      "text/plain": [
       "| Done         |         | 100         | 326ms        |"
      ]
     },
     "metadata": {},
     "output_type": "display_data"
    },
    {
     "data": {
      "text/html": [
       "<pre>+--------------+---------+-------------+--------------+</pre>"
      ],
      "text/plain": [
       "+--------------+---------+-------------+--------------+"
      ]
     },
     "metadata": {},
     "output_type": "display_data"
    },
    {
     "name": "stdout",
     "output_type": "stream",
     "text": [
      "+-------------+-----------------+----------+------+\n",
      "| query_label | reference_label | distance | rank |\n",
      "+-------------+-----------------+----------+------+\n",
      "|      0      |       1144      |   0.0    |  1   |\n",
      "|      0      |      17357      |  106.0   |  2   |\n",
      "|      0      |      11789      |  111.0   |  3   |\n",
      "|      0      |      12593      |  112.0   |  4   |\n",
      "+-------------+-----------------+----------+------+\n",
      "[4 rows x 4 columns]\n",
      "\n"
     ]
    },
    {
     "data": {
      "text/html": [
       "<pre>Starting pairwise querying.</pre>"
      ],
      "text/plain": [
       "Starting pairwise querying."
      ]
     },
     "metadata": {},
     "output_type": "display_data"
    },
    {
     "data": {
      "text/html": [
       "<pre>+--------------+---------+-------------+--------------+</pre>"
      ],
      "text/plain": [
       "+--------------+---------+-------------+--------------+"
      ]
     },
     "metadata": {},
     "output_type": "display_data"
    },
    {
     "data": {
      "text/html": [
       "<pre>| Query points | # Pairs | % Complete. | Elapsed Time |</pre>"
      ],
      "text/plain": [
       "| Query points | # Pairs | % Complete. | Elapsed Time |"
      ]
     },
     "metadata": {},
     "output_type": "display_data"
    },
    {
     "data": {
      "text/html": [
       "<pre>+--------------+---------+-------------+--------------+</pre>"
      ],
      "text/plain": [
       "+--------------+---------+-------------+--------------+"
      ]
     },
     "metadata": {},
     "output_type": "display_data"
    },
    {
     "data": {
      "text/html": [
       "<pre>| 0            | 1       | 0.010923    | 13ms         |</pre>"
      ],
      "text/plain": [
       "| 0            | 1       | 0.010923    | 13ms         |"
      ]
     },
     "metadata": {},
     "output_type": "display_data"
    },
    {
     "data": {
      "text/html": [
       "<pre>| Done         |         | 100         | 376ms        |</pre>"
      ],
      "text/plain": [
       "| Done         |         | 100         | 376ms        |"
      ]
     },
     "metadata": {},
     "output_type": "display_data"
    },
    {
     "data": {
      "text/html": [
       "<pre>+--------------+---------+-------------+--------------+</pre>"
      ],
      "text/plain": [
       "+--------------+---------+-------------+--------------+"
      ]
     },
     "metadata": {},
     "output_type": "display_data"
    },
    {
     "name": "stdout",
     "output_type": "stream",
     "text": [
      "+-------------+-----------------+----------+------+\n",
      "| query_label | reference_label | distance | rank |\n",
      "+-------------+-----------------+----------+------+\n",
      "|      0      |       3860      |   0.0    |  1   |\n",
      "|      0      |      10928      |  126.0   |  2   |\n",
      "|      0      |      15393      |  126.0   |  3   |\n",
      "|      0      |       2528      |  138.0   |  4   |\n",
      "+-------------+-----------------+----------+------+\n",
      "[4 rows x 4 columns]\n",
      "\n"
     ]
    }
   ],
   "source": [
    "#initialize the result dataframe which will contain recommendations\n",
    "recommendation_data_frame = pd.DataFrame(columns=['userid','movieid','predicted_rating','rank'])\n",
    "\n",
    "# Find movies similar to the movies which user 822109 liked by querying the Knn model   \n",
    "for key in frame_dict.keys():\n",
    "    oframe = knn_model.query(frame_dict[key],k=4)\n",
    "    print(oframe)\n",
    "    rec_list = list(oframe['reference_label'])\n",
    "    rank_list = list(oframe['rank'])\n",
    "    #Skip the index 0 as it is the movie which was already watched by user 822109\n",
    "    i = 0\n",
    "    for movieid in rec_list:\n",
    "        if rank_list[i] == 1:\n",
    "            i = i + 1\n",
    "            continue\n",
    "        rating_norm_factor = 5 - userMoviesAvgRating_dict[822109]\n",
    "        if rank_list[i] - 1 == 1 :\n",
    "            predicted_rating = 0.5 * rating_norm_factor;# Using a weightage factor of 0.5 for rank 1\n",
    "        if rank_list[i] - 1 == 2 : \n",
    "            predicted_rating = 0.35 * rating_norm_factor;# Using a weightage factor of 0.35 for rank 2\n",
    "        if rank_list[i] - 1 == 3 : \n",
    "            predicted_rating = 0.15 * rating_norm_factor;# Using a weightage factor of 0.15 for rank 3            \n",
    "        recommendation_data_frame.loc[len(recommendation_data_frame)]=['822109', movieid, userMoviesAvgRating_dict[822109] + predicted_rating,rank_list[i]-1]\n",
    "        i = i + 1"
   ]
  },
  {
   "cell_type": "code",
   "execution_count": 311,
   "metadata": {
    "collapsed": false
   },
   "outputs": [
    {
     "name": "stdout",
     "output_type": "stream",
     "text": [
      "===================================\n",
      "RECOMMENDED MOVIES FOR USER 822109\n",
      "===================================\n",
      "    userid  movieid  predicted_rating  rank\n",
      "0   822109     4883              4.50   1.0\n",
      "1   822109    16244              4.35   2.0\n",
      "2   822109    14973              4.15   3.0\n",
      "3   822109    15373              4.50   1.0\n",
      "4   822109    11679              4.35   2.0\n",
      "5   822109     2358              4.15   3.0\n",
      "6   822109    14574              4.50   1.0\n",
      "7   822109    12337              4.35   2.0\n",
      "8   822109    17308              4.15   3.0\n",
      "9   822109      262              4.50   1.0\n",
      "10  822109     1892              4.35   2.0\n",
      "11  822109     1262              4.15   3.0\n",
      "12  822109    10505              4.50   1.0\n",
      "13  822109    16882              4.35   2.0\n",
      "14  822109    17482              4.15   3.0\n",
      "15  822109    14203              4.50   1.0\n",
      "16  822109    15818              4.35   2.0\n",
      "17  822109    12317              4.15   3.0\n",
      "18  822109      413              4.50   1.0\n",
      "19  822109     3026              4.35   2.0\n",
      "20  822109    14652              4.15   3.0\n",
      "21  822109     8372              4.50   1.0\n",
      "22  822109    16908              4.35   2.0\n",
      "23  822109    10059              4.15   3.0\n",
      "24  822109    10419              4.50   1.0\n",
      "25  822109    10952              4.35   2.0\n",
      "26  822109    17129              4.15   3.0\n",
      "27  822109     8181              4.50   1.0\n",
      "28  822109    16922              4.35   2.0\n",
      "29  822109    11234              4.15   3.0\n",
      "..     ...      ...               ...   ...\n",
      "51  822109     4085              4.50   1.0\n",
      "52  822109     6789              4.35   2.0\n",
      "53  822109     6435              4.15   3.0\n",
      "54  822109     6708              4.50   1.0\n",
      "55  822109     1633              4.35   2.0\n",
      "56  822109    11375              4.15   3.0\n",
      "57  822109    16265              4.50   1.0\n",
      "58  822109      571              4.35   2.0\n",
      "59  822109     2880              4.15   3.0\n",
      "60  822109    11490              4.50   1.0\n",
      "61  822109    15472              4.35   2.0\n",
      "62  822109    12090              4.15   3.0\n",
      "63  822109     1914              4.50   1.0\n",
      "64  822109     1546              4.35   2.0\n",
      "65  822109     3317              4.15   3.0\n",
      "66  822109      331              4.50   1.0\n",
      "67  822109     7716              4.35   2.0\n",
      "68  822109    14480              4.15   3.0\n",
      "69  822109     8827              4.50   1.0\n",
      "70  822109    13389              4.35   2.0\n",
      "71  822109    15985              4.15   3.0\n",
      "72  822109     2372              4.50   1.0\n",
      "73  822109     5293              4.35   2.0\n",
      "74  822109    14527              4.15   3.0\n",
      "75  822109    17357              4.50   1.0\n",
      "76  822109    11789              4.35   2.0\n",
      "77  822109    12593              4.15   3.0\n",
      "78  822109    10928              4.50   1.0\n",
      "79  822109    15393              4.35   2.0\n",
      "80  822109     2528              4.15   3.0\n",
      "\n",
      "[81 rows x 4 columns]\n"
     ]
    }
   ],
   "source": [
    "recommendation_data_frame['movieid'] = recommendation_data_frame['movieid'].astype(int)\n",
    "print('===================================')\n",
    "print('RECOMMENDED MOVIES FOR USER 822109')\n",
    "print('===================================')\n",
    "print(recommendation_data_frame)"
   ]
  },
  {
   "cell_type": "code",
   "execution_count": 307,
   "metadata": {
    "collapsed": true
   },
   "outputs": [],
   "source": [
    "def knn_recommendations():\n",
    "    return recommendation_data_frame"
   ]
  }
 ],
 "metadata": {
  "kernelspec": {
   "display_name": "Python 2",
   "language": "python",
   "name": "python2"
  },
  "language_info": {
   "codemirror_mode": {
    "name": "ipython",
    "version": 2
   },
   "file_extension": ".py",
   "mimetype": "text/x-python",
   "name": "python",
   "nbconvert_exporter": "python",
   "pygments_lexer": "ipython2",
   "version": "2.7.11"
  }
 },
 "nbformat": 4,
 "nbformat_minor": 0
}
