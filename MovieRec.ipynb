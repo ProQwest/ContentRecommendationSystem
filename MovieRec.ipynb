{
 "cells": [
  {
   "cell_type": "code",
   "execution_count": 251,
   "metadata": {
    "collapsed": false
   },
   "outputs": [
    {
     "data": {
      "text/html": [
       "<div>\n",
       "<table border=\"1\" class=\"dataframe\">\n",
       "  <thead>\n",
       "    <tr style=\"text-align: right;\">\n",
       "      <th></th>\n",
       "      <th>movieid</th>\n",
       "      <th>userid</th>\n",
       "      <th>rating</th>\n",
       "      <th>date</th>\n",
       "    </tr>\n",
       "  </thead>\n",
       "  <tbody>\n",
       "    <tr>\n",
       "      <th>0</th>\n",
       "      <td>1</td>\n",
       "      <td>822109</td>\n",
       "      <td>5</td>\n",
       "      <td>2005-05-13</td>\n",
       "    </tr>\n",
       "    <tr>\n",
       "      <th>1</th>\n",
       "      <td>1</td>\n",
       "      <td>885013</td>\n",
       "      <td>4</td>\n",
       "      <td>2005-10-19</td>\n",
       "    </tr>\n",
       "    <tr>\n",
       "      <th>2</th>\n",
       "      <td>1</td>\n",
       "      <td>30878</td>\n",
       "      <td>4</td>\n",
       "      <td>2005-12-26</td>\n",
       "    </tr>\n",
       "    <tr>\n",
       "      <th>3</th>\n",
       "      <td>1</td>\n",
       "      <td>823519</td>\n",
       "      <td>3</td>\n",
       "      <td>2004-05-03</td>\n",
       "    </tr>\n",
       "    <tr>\n",
       "      <th>4</th>\n",
       "      <td>1</td>\n",
       "      <td>893988</td>\n",
       "      <td>3</td>\n",
       "      <td>2005-11-17</td>\n",
       "    </tr>\n",
       "  </tbody>\n",
       "</table>\n",
       "</div>"
      ],
      "text/plain": [
       "   movieid  userid  rating        date\n",
       "0        1  822109       5  2005-05-13\n",
       "1        1  885013       4  2005-10-19\n",
       "2        1   30878       4  2005-12-26\n",
       "3        1  823519       3  2004-05-03\n",
       "4        1  893988       3  2005-11-17"
      ]
     },
     "execution_count": 251,
     "metadata": {},
     "output_type": "execute_result"
    }
   ],
   "source": [
    "import pandas as pd\n",
    "import numpy as np\n",
    "import re\n",
    "import math\n",
    "import graphlab as gl\n",
    "#Below line is required when running first time\n",
    "#graphlab.get_dependencies()\n",
    "\n",
    "# Dataframe with IMDB Movie feature Dataset containing Netflix Movie ID\n",
    "df = pd.read_csv('omdb.txt', sep=\"|\")\n",
    "# Dataframe with Netflix data containing userid rating and movie id\n",
    "# Iterate df_filtered_822109 and find movies similar to the movie list\n",
    "\n",
    "#Cleansing the IMDB Data which contains netflix movie id\n",
    "#filter null rows.\n",
    "df = df[df.Title != 'null']\n",
    "#pick first year for Series.\n",
    "df['Year'] = df['Year'].str.replace('–[0-9]*$','')\n",
    "#Correct Rated column\n",
    "df.Rated = df.Rated.str.replace('UNRATED','NOT RATED')\n",
    "df.Rated = df.Rated.str.replace('NR','NOT RATED')\n",
    "df.Rated = df.Rated.str.replace('Not Rated','NOT RATED')\n",
    "df.Rated = df.Rated.str.replace('Unrated','NOT RATED')\n",
    "\n",
    "#remove commas from imdbvotes\n",
    "df.imdbVotes = df.imdbVotes.str.replace(',','')\n",
    "\n",
    "# classify runtime by hours\n",
    "df.Runtime = df.Runtime.str.replace(' min','')\n",
    "df.Runtime = df.Runtime.str.replace(',','')\n",
    "df.Runtime = df.Runtime.str.replace('1 h 30','90')\n",
    "df.Runtime = df.Runtime.str.replace('3 h 48','223')\n",
    "df.Runtime = df.Runtime.str.replace('1 h 20','80')\n",
    "#df.Runtime = df.Runtime.str.replace(NaN,'0')\n",
    "\n",
    "df.Runtime = pd.to_numeric(df.Runtime, errors='coerce')\n",
    "minRuntime = min(df.Runtime)\n",
    "maxRuntime = max(df.Runtime)\n",
    "\n",
    "df['Runtime'] = df['Runtime'].apply(lambda x: 4*((x - minRuntime)/(maxRuntime - minRuntime)) + 1)\n",
    "df['Runtime'] = df['Runtime'].apply(lambda x: np.ceil(x))\n",
    "\n",
    "df.imdbVotes = pd.to_numeric(df.imdbVotes, errors='coerce')\n",
    "minImdbVotes = min(df.imdbVotes)\n",
    "maxImdbVotes = max(df.imdbVotes)\n",
    "df['imdbVotes'] = df['imdbVotes'].apply(lambda x: 4*((x - minImdbVotes)/(maxImdbVotes - minImdbVotes)) + 1)\n",
    "df['imdbVotes'] = df['imdbVotes'].apply(lambda x: np.ceil(x))\n",
    "\n",
    "df.imdbRating = pd.to_numeric(df.imdbRating, errors='coerce')\n",
    "minImdbRating = min(df.imdbRating)\n",
    "maxImdbRating = max(df.imdbRating)\n",
    "df['imdbRating'] = df['imdbRating'].apply(lambda x: 4*((x - minImdbRating)/(maxImdbRating - minImdbRating)) + 1)\n",
    "df['imdbRating'] = df['imdbRating'].apply(lambda x: np.ceil(x))\n",
    "\n",
    "\n",
    "df.Year = pd.to_numeric(df.Year, errors='coerce')\n",
    "df['Year'] = df['Year'].astype(float)\n",
    "minYear = min(df.Year)\n",
    "maxYear = max(df.Year)\n",
    "\n",
    "df['Year'] = df['Year'].apply(lambda x: 4*((x - minYear)/(maxYear - minYear)) + 1)\n",
    "df['Year'] = df['Year'].apply(lambda x: np.ceil(x))\n",
    "\n",
    "df = df[df['Genre'].notnull()]\n",
    "df = df[df['Writer'].notnull()]\n",
    "df = df[df['Actors'].notnull()]\n",
    "df = df[df['Director'].notnull()]\n",
    "df = df[df['Country'].notnull()]\n",
    "df = df[df['Language'].notnull()]\n",
    "\n",
    "df_u= pd.read_csv('netflix-user-movie.txt', sep=\",\")\n",
    "df_u.columns = ['movieid','userid','rating', 'date']\n",
    "df_u.head()"
   ]
  },
  {
   "cell_type": "code",
   "execution_count": 252,
   "metadata": {
    "collapsed": false
   },
   "outputs": [],
   "source": [
    "userRating_dict = {}\n",
    "userMoviesCount_dict = {}\n",
    "userMoviesAvgRating_dict = {}\n",
    "userMoviesLiked = {}\n",
    "\n",
    "#Iterate the dataframe and build aggregate ratings and movie counts for each user\n",
    "for row in df_u.itertuples():\n",
    "    userRating_dict[row.userid] = userRating_dict.get(row.userid,0) + row.rating\n",
    "    userMoviesCount_dict[row.userid] = userMoviesCount_dict.get(row.userid,0) + 1\n",
    " \n",
    "#Compute the average rating\n",
    "for userid in userRating_dict:\n",
    "    userMoviesAvgRating_dict[userid] = userRating_dict[userid]/userMoviesCount_dict[userid]"
   ]
  },
  {
   "cell_type": "code",
   "execution_count": 253,
   "metadata": {
    "collapsed": false
   },
   "outputs": [
    {
     "data": {
      "text/html": [
       "<div>\n",
       "<table border=\"1\" class=\"dataframe\">\n",
       "  <thead>\n",
       "    <tr style=\"text-align: right;\">\n",
       "      <th></th>\n",
       "      <th>movieid</th>\n",
       "      <th>userid</th>\n",
       "      <th>rating</th>\n",
       "      <th>date</th>\n",
       "      <th>likedmovie</th>\n",
       "    </tr>\n",
       "  </thead>\n",
       "  <tbody>\n",
       "    <tr>\n",
       "      <th>0</th>\n",
       "      <td>1</td>\n",
       "      <td>822109</td>\n",
       "      <td>5</td>\n",
       "      <td>2005-05-13</td>\n",
       "      <td>1</td>\n",
       "    </tr>\n",
       "    <tr>\n",
       "      <th>1</th>\n",
       "      <td>1</td>\n",
       "      <td>885013</td>\n",
       "      <td>4</td>\n",
       "      <td>2005-10-19</td>\n",
       "      <td>1</td>\n",
       "    </tr>\n",
       "    <tr>\n",
       "      <th>2</th>\n",
       "      <td>1</td>\n",
       "      <td>30878</td>\n",
       "      <td>4</td>\n",
       "      <td>2005-12-26</td>\n",
       "      <td>1</td>\n",
       "    </tr>\n",
       "    <tr>\n",
       "      <th>3</th>\n",
       "      <td>1</td>\n",
       "      <td>823519</td>\n",
       "      <td>3</td>\n",
       "      <td>2004-05-03</td>\n",
       "      <td>1</td>\n",
       "    </tr>\n",
       "    <tr>\n",
       "      <th>4</th>\n",
       "      <td>1</td>\n",
       "      <td>893988</td>\n",
       "      <td>3</td>\n",
       "      <td>2005-11-17</td>\n",
       "      <td>1</td>\n",
       "    </tr>\n",
       "  </tbody>\n",
       "</table>\n",
       "</div>"
      ],
      "text/plain": [
       "   movieid  userid  rating        date likedmovie\n",
       "0        1  822109       5  2005-05-13          1\n",
       "1        1  885013       4  2005-10-19          1\n",
       "2        1   30878       4  2005-12-26          1\n",
       "3        1  823519       3  2004-05-03          1\n",
       "4        1  893988       3  2005-11-17          1"
      ]
     },
     "execution_count": 253,
     "metadata": {},
     "output_type": "execute_result"
    }
   ],
   "source": [
    "#list to add to the dataframe\n",
    "like_list = []\n",
    "\n",
    "#Iterate the dataframe and find if the movie is liked by the user or not\n",
    "for row in df_u.itertuples():\n",
    "    like_list.extend('1' if row.rating >= userMoviesAvgRating_dict[row.userid] else '0')\n",
    "    \n",
    "#Add a new likedmovie to the dataframe\n",
    "df_u = df_u.assign(likedmovie = like_list)\n",
    "df_u.head()"
   ]
  },
  {
   "cell_type": "code",
   "execution_count": 254,
   "metadata": {
    "collapsed": false
   },
   "outputs": [
    {
     "data": {
      "text/plain": [
       "9156"
      ]
     },
     "execution_count": 254,
     "metadata": {},
     "output_type": "execute_result"
    }
   ],
   "source": [
    "#Number of IMDB Dataframe records\n",
    "len(df)"
   ]
  },
  {
   "cell_type": "code",
   "execution_count": 255,
   "metadata": {
    "collapsed": false
   },
   "outputs": [],
   "source": [
    "df['Runtime'].fillna(0, inplace=True)\n",
    "df['imdbRating'].fillna(0, inplace=True)\n",
    "df['Year'].fillna(0, inplace=True)\n",
    "df['imdbVotes'].fillna(0, inplace=True)"
   ]
  },
  {
   "cell_type": "code",
   "execution_count": null,
   "metadata": {
    "collapsed": true
   },
   "outputs": [],
   "source": [
    "df.to_csv('normalized.csv', sep='|')\n",
    "\n",
    "movieSFrame = gl.SFrame.read_csv(\"normalized.csv\", sep='|')\n",
    "#'Runtime','imdbRating','Year','imdbVotes'\n",
    "knn_model = gl.nearest_neighbors.create(movieSFrame,features=['Genre','Writer','Actors','Director','Country','Language','Rated','Awards','Runtime','imdbRating','Year','imdbVotes'],label='id')"
   ]
  },
  {
   "cell_type": "code",
   "execution_count": 256,
   "metadata": {
    "collapsed": false
   },
   "outputs": [
    {
     "data": {
      "text/html": [
       "<div>\n",
       "<table border=\"1\" class=\"dataframe\">\n",
       "  <thead>\n",
       "    <tr style=\"text-align: right;\">\n",
       "      <th></th>\n",
       "      <th>movieid</th>\n",
       "      <th>userid</th>\n",
       "      <th>rating</th>\n",
       "      <th>date</th>\n",
       "      <th>likedmovie</th>\n",
       "    </tr>\n",
       "  </thead>\n",
       "  <tbody>\n",
       "    <tr>\n",
       "      <th>3013481</th>\n",
       "      <td>571</td>\n",
       "      <td>822109</td>\n",
       "      <td>5</td>\n",
       "      <td>2005-04-25</td>\n",
       "      <td>1</td>\n",
       "    </tr>\n",
       "    <tr>\n",
       "      <th>3215550</th>\n",
       "      <td>607</td>\n",
       "      <td>822109</td>\n",
       "      <td>5</td>\n",
       "      <td>2005-04-07</td>\n",
       "      <td>1</td>\n",
       "    </tr>\n",
       "    <tr>\n",
       "      <th>4854997</th>\n",
       "      <td>985</td>\n",
       "      <td>822109</td>\n",
       "      <td>5</td>\n",
       "      <td>2005-04-25</td>\n",
       "      <td>1</td>\n",
       "    </tr>\n",
       "    <tr>\n",
       "      <th>5644197</th>\n",
       "      <td>1144</td>\n",
       "      <td>822109</td>\n",
       "      <td>5</td>\n",
       "      <td>2005-05-21</td>\n",
       "      <td>1</td>\n",
       "    </tr>\n",
       "    <tr>\n",
       "      <th>6202889</th>\n",
       "      <td>1220</td>\n",
       "      <td>822109</td>\n",
       "      <td>5</td>\n",
       "      <td>2005-04-25</td>\n",
       "      <td>1</td>\n",
       "    </tr>\n",
       "  </tbody>\n",
       "</table>\n",
       "</div>"
      ],
      "text/plain": [
       "         movieid  userid  rating        date likedmovie\n",
       "3013481      571  822109       5  2005-04-25          1\n",
       "3215550      607  822109       5  2005-04-07          1\n",
       "4854997      985  822109       5  2005-04-25          1\n",
       "5644197     1144  822109       5  2005-05-21          1\n",
       "6202889     1220  822109       5  2005-04-25          1"
      ]
     },
     "execution_count": 256,
     "metadata": {},
     "output_type": "execute_result"
    }
   ],
   "source": [
    "df_filtered_822109 = df_u[(df_u.userid == 822109) & (df_u.likedmovie == '1') & (df_u.movieid.isin(list(df['id'])))]\n",
    "df_filtered_822109.head()"
   ]
  },
  {
   "cell_type": "code",
   "execution_count": 260,
   "metadata": {
    "collapsed": false,
    "scrolled": false
   },
   "outputs": [
    {
     "data": {
      "text/html": [
       "<pre>Starting pairwise querying.</pre>"
      ],
      "text/plain": [
       "Starting pairwise querying."
      ]
     },
     "metadata": {},
     "output_type": "display_data"
    },
    {
     "data": {
      "text/html": [
       "<pre>+--------------+---------+-------------+--------------+</pre>"
      ],
      "text/plain": [
       "+--------------+---------+-------------+--------------+"
      ]
     },
     "metadata": {},
     "output_type": "display_data"
    },
    {
     "data": {
      "text/html": [
       "<pre>| Query points | # Pairs | % Complete. | Elapsed Time |</pre>"
      ],
      "text/plain": [
       "| Query points | # Pairs | % Complete. | Elapsed Time |"
      ]
     },
     "metadata": {},
     "output_type": "display_data"
    },
    {
     "data": {
      "text/html": [
       "<pre>+--------------+---------+-------------+--------------+</pre>"
      ],
      "text/plain": [
       "+--------------+---------+-------------+--------------+"
      ]
     },
     "metadata": {},
     "output_type": "display_data"
    },
    {
     "data": {
      "text/html": [
       "<pre>| 0            | 1       | 0.010923    | 27.003ms     |</pre>"
      ],
      "text/plain": [
       "| 0            | 1       | 0.010923    | 27.003ms     |"
      ]
     },
     "metadata": {},
     "output_type": "display_data"
    },
    {
     "data": {
      "text/html": [
       "<pre>| Done         |         | 100         | 271.027ms    |</pre>"
      ],
      "text/plain": [
       "| Done         |         | 100         | 271.027ms    |"
      ]
     },
     "metadata": {},
     "output_type": "display_data"
    },
    {
     "data": {
      "text/html": [
       "<pre>+--------------+---------+-------------+--------------+</pre>"
      ],
      "text/plain": [
       "+--------------+---------+-------------+--------------+"
      ]
     },
     "metadata": {},
     "output_type": "display_data"
    },
    {
     "name": "stdout",
     "output_type": "stream",
     "text": [
      "+-------------+-----------------+----------+------+\n",
      "| query_label | reference_label | distance | rank |\n",
      "+-------------+-----------------+----------+------+\n",
      "|      0      |       1798      |   0.0    |  1   |\n",
      "|      0      |       4883      |   76.0   |  2   |\n",
      "|      0      |      16244      |   76.0   |  3   |\n",
      "+-------------+-----------------+----------+------+\n",
      "[3 rows x 4 columns]\n",
      "\n"
     ]
    },
    {
     "data": {
      "text/html": [
       "<pre>Starting pairwise querying.</pre>"
      ],
      "text/plain": [
       "Starting pairwise querying."
      ]
     },
     "metadata": {},
     "output_type": "display_data"
    },
    {
     "data": {
      "text/html": [
       "<pre>+--------------+---------+-------------+--------------+</pre>"
      ],
      "text/plain": [
       "+--------------+---------+-------------+--------------+"
      ]
     },
     "metadata": {},
     "output_type": "display_data"
    },
    {
     "data": {
      "text/html": [
       "<pre>| Query points | # Pairs | % Complete. | Elapsed Time |</pre>"
      ],
      "text/plain": [
       "| Query points | # Pairs | % Complete. | Elapsed Time |"
      ]
     },
     "metadata": {},
     "output_type": "display_data"
    },
    {
     "data": {
      "text/html": [
       "<pre>+--------------+---------+-------------+--------------+</pre>"
      ],
      "text/plain": [
       "+--------------+---------+-------------+--------------+"
      ]
     },
     "metadata": {},
     "output_type": "display_data"
    },
    {
     "data": {
      "text/html": [
       "<pre>| 0            | 1       | 0.010923    | 22.002ms     |</pre>"
      ],
      "text/plain": [
       "| 0            | 1       | 0.010923    | 22.002ms     |"
      ]
     },
     "metadata": {},
     "output_type": "display_data"
    },
    {
     "data": {
      "text/html": [
       "<pre>| Done         |         | 100         | 245.025ms    |</pre>"
      ],
      "text/plain": [
       "| Done         |         | 100         | 245.025ms    |"
      ]
     },
     "metadata": {},
     "output_type": "display_data"
    },
    {
     "data": {
      "text/html": [
       "<pre>+--------------+---------+-------------+--------------+</pre>"
      ],
      "text/plain": [
       "+--------------+---------+-------------+--------------+"
      ]
     },
     "metadata": {},
     "output_type": "display_data"
    },
    {
     "name": "stdout",
     "output_type": "stream",
     "text": [
      "+-------------+-----------------+----------+------+\n",
      "| query_label | reference_label | distance | rank |\n",
      "+-------------+-----------------+----------+------+\n",
      "|      0      |       1810      |   0.0    |  1   |\n",
      "|      0      |      11679      |   94.0   |  2   |\n",
      "|      0      |      15373      |   94.0   |  3   |\n",
      "+-------------+-----------------+----------+------+\n",
      "[3 rows x 4 columns]\n",
      "\n"
     ]
    },
    {
     "data": {
      "text/html": [
       "<pre>Starting pairwise querying.</pre>"
      ],
      "text/plain": [
       "Starting pairwise querying."
      ]
     },
     "metadata": {},
     "output_type": "display_data"
    },
    {
     "data": {
      "text/html": [
       "<pre>+--------------+---------+-------------+--------------+</pre>"
      ],
      "text/plain": [
       "+--------------+---------+-------------+--------------+"
      ]
     },
     "metadata": {},
     "output_type": "display_data"
    },
    {
     "data": {
      "text/html": [
       "<pre>| Query points | # Pairs | % Complete. | Elapsed Time |</pre>"
      ],
      "text/plain": [
       "| Query points | # Pairs | % Complete. | Elapsed Time |"
      ]
     },
     "metadata": {},
     "output_type": "display_data"
    },
    {
     "data": {
      "text/html": [
       "<pre>+--------------+---------+-------------+--------------+</pre>"
      ],
      "text/plain": [
       "+--------------+---------+-------------+--------------+"
      ]
     },
     "metadata": {},
     "output_type": "display_data"
    },
    {
     "data": {
      "text/html": [
       "<pre>| 0            | 2       | 0.010923    | 22.002ms     |</pre>"
      ],
      "text/plain": [
       "| 0            | 2       | 0.010923    | 22.002ms     |"
      ]
     },
     "metadata": {},
     "output_type": "display_data"
    },
    {
     "data": {
      "text/html": [
       "<pre>| Done         |         | 100         | 515.051ms    |</pre>"
      ],
      "text/plain": [
       "| Done         |         | 100         | 515.051ms    |"
      ]
     },
     "metadata": {},
     "output_type": "display_data"
    },
    {
     "data": {
      "text/html": [
       "<pre>+--------------+---------+-------------+--------------+</pre>"
      ],
      "text/plain": [
       "+--------------+---------+-------------+--------------+"
      ]
     },
     "metadata": {},
     "output_type": "display_data"
    },
    {
     "name": "stdout",
     "output_type": "stream",
     "text": [
      "+-------------+-----------------+----------+------+\n",
      "| query_label | reference_label | distance | rank |\n",
      "+-------------+-----------------+----------+------+\n",
      "|      0      |       2580      |   0.0    |  1   |\n",
      "|      0      |      14574      |  113.0   |  2   |\n",
      "|      0      |      12337      |  120.0   |  3   |\n",
      "|      1      |       2698      |   0.0    |  1   |\n",
      "|      1      |       262       |   80.0   |  2   |\n",
      "|      1      |       1892      |   86.0   |  3   |\n",
      "+-------------+-----------------+----------+------+\n",
      "[6 rows x 4 columns]\n",
      "\n"
     ]
    },
    {
     "data": {
      "text/html": [
       "<pre>Starting pairwise querying.</pre>"
      ],
      "text/plain": [
       "Starting pairwise querying."
      ]
     },
     "metadata": {},
     "output_type": "display_data"
    },
    {
     "data": {
      "text/html": [
       "<pre>+--------------+---------+-------------+--------------+</pre>"
      ],
      "text/plain": [
       "+--------------+---------+-------------+--------------+"
      ]
     },
     "metadata": {},
     "output_type": "display_data"
    },
    {
     "data": {
      "text/html": [
       "<pre>| Query points | # Pairs | % Complete. | Elapsed Time |</pre>"
      ],
      "text/plain": [
       "| Query points | # Pairs | % Complete. | Elapsed Time |"
      ]
     },
     "metadata": {},
     "output_type": "display_data"
    },
    {
     "data": {
      "text/html": [
       "<pre>+--------------+---------+-------------+--------------+</pre>"
      ],
      "text/plain": [
       "+--------------+---------+-------------+--------------+"
      ]
     },
     "metadata": {},
     "output_type": "display_data"
    },
    {
     "data": {
      "text/html": [
       "<pre>| 0            | 1       | 0.010923    | 118.012ms    |</pre>"
      ],
      "text/plain": [
       "| 0            | 1       | 0.010923    | 118.012ms    |"
      ]
     },
     "metadata": {},
     "output_type": "display_data"
    },
    {
     "data": {
      "text/html": [
       "<pre>| Done         |         | 100         | 337.034ms    |</pre>"
      ],
      "text/plain": [
       "| Done         |         | 100         | 337.034ms    |"
      ]
     },
     "metadata": {},
     "output_type": "display_data"
    },
    {
     "data": {
      "text/html": [
       "<pre>+--------------+---------+-------------+--------------+</pre>"
      ],
      "text/plain": [
       "+--------------+---------+-------------+--------------+"
      ]
     },
     "metadata": {},
     "output_type": "display_data"
    },
    {
     "name": "stdout",
     "output_type": "stream",
     "text": [
      "+-------------+-----------------+----------+------+\n",
      "| query_label | reference_label | distance | rank |\n",
      "+-------------+-----------------+----------+------+\n",
      "|      0      |       2594      |   0.0    |  1   |\n",
      "|      0      |      10505      |   66.0   |  2   |\n",
      "|      0      |      12839      |   73.0   |  3   |\n",
      "+-------------+-----------------+----------+------+\n",
      "[3 rows x 4 columns]\n",
      "\n"
     ]
    },
    {
     "data": {
      "text/html": [
       "<pre>Starting pairwise querying.</pre>"
      ],
      "text/plain": [
       "Starting pairwise querying."
      ]
     },
     "metadata": {},
     "output_type": "display_data"
    },
    {
     "data": {
      "text/html": [
       "<pre>+--------------+---------+-------------+--------------+</pre>"
      ],
      "text/plain": [
       "+--------------+---------+-------------+--------------+"
      ]
     },
     "metadata": {},
     "output_type": "display_data"
    },
    {
     "data": {
      "text/html": [
       "<pre>| Query points | # Pairs | % Complete. | Elapsed Time |</pre>"
      ],
      "text/plain": [
       "| Query points | # Pairs | % Complete. | Elapsed Time |"
      ]
     },
     "metadata": {},
     "output_type": "display_data"
    },
    {
     "data": {
      "text/html": [
       "<pre>+--------------+---------+-------------+--------------+</pre>"
      ],
      "text/plain": [
       "+--------------+---------+-------------+--------------+"
      ]
     },
     "metadata": {},
     "output_type": "display_data"
    },
    {
     "data": {
      "text/html": [
       "<pre>| 0            | 1       | 0.010923    | 22.002ms     |</pre>"
      ],
      "text/plain": [
       "| 0            | 1       | 0.010923    | 22.002ms     |"
      ]
     },
     "metadata": {},
     "output_type": "display_data"
    },
    {
     "data": {
      "text/html": [
       "<pre>| Done         |         | 100         | 462.046ms    |</pre>"
      ],
      "text/plain": [
       "| Done         |         | 100         | 462.046ms    |"
      ]
     },
     "metadata": {},
     "output_type": "display_data"
    },
    {
     "data": {
      "text/html": [
       "<pre>+--------------+---------+-------------+--------------+</pre>"
      ],
      "text/plain": [
       "+--------------+---------+-------------+--------------+"
      ]
     },
     "metadata": {},
     "output_type": "display_data"
    },
    {
     "name": "stdout",
     "output_type": "stream",
     "text": [
      "+-------------+-----------------+----------+------+\n",
      "| query_label | reference_label | distance | rank |\n",
      "+-------------+-----------------+----------+------+\n",
      "|      0      |       1905      |   0.0    |  1   |\n",
      "|      0      |      14203      |  163.0   |  2   |\n",
      "|      0      |      15818      |  170.0   |  3   |\n",
      "+-------------+-----------------+----------+------+\n",
      "[3 rows x 4 columns]\n",
      "\n"
     ]
    },
    {
     "data": {
      "text/html": [
       "<pre>Starting pairwise querying.</pre>"
      ],
      "text/plain": [
       "Starting pairwise querying."
      ]
     },
     "metadata": {},
     "output_type": "display_data"
    },
    {
     "data": {
      "text/html": [
       "<pre>+--------------+---------+-------------+--------------+</pre>"
      ],
      "text/plain": [
       "+--------------+---------+-------------+--------------+"
      ]
     },
     "metadata": {},
     "output_type": "display_data"
    },
    {
     "data": {
      "text/html": [
       "<pre>| Query points | # Pairs | % Complete. | Elapsed Time |</pre>"
      ],
      "text/plain": [
       "| Query points | # Pairs | % Complete. | Elapsed Time |"
      ]
     },
     "metadata": {},
     "output_type": "display_data"
    },
    {
     "data": {
      "text/html": [
       "<pre>+--------------+---------+-------------+--------------+</pre>"
      ],
      "text/plain": [
       "+--------------+---------+-------------+--------------+"
      ]
     },
     "metadata": {},
     "output_type": "display_data"
    },
    {
     "data": {
      "text/html": [
       "<pre>| 0            | 1       | 0.010923    | 21.002ms     |</pre>"
      ],
      "text/plain": [
       "| 0            | 1       | 0.010923    | 21.002ms     |"
      ]
     },
     "metadata": {},
     "output_type": "display_data"
    },
    {
     "data": {
      "text/html": [
       "<pre>| Done         |         | 100         | 224.022ms    |</pre>"
      ],
      "text/plain": [
       "| Done         |         | 100         | 224.022ms    |"
      ]
     },
     "metadata": {},
     "output_type": "display_data"
    },
    {
     "data": {
      "text/html": [
       "<pre>+--------------+---------+-------------+--------------+</pre>"
      ],
      "text/plain": [
       "+--------------+---------+-------------+--------------+"
      ]
     },
     "metadata": {},
     "output_type": "display_data"
    },
    {
     "name": "stdout",
     "output_type": "stream",
     "text": [
      "+-------------+-----------------+----------+------+\n",
      "| query_label | reference_label | distance | rank |\n",
      "+-------------+-----------------+----------+------+\n",
      "|      0      |       2095      |   0.0    |  1   |\n",
      "|      0      |       3026      |   81.0   |  2   |\n",
      "|      0      |       413       |   82.0   |  3   |\n",
      "+-------------+-----------------+----------+------+\n",
      "[3 rows x 4 columns]\n",
      "\n"
     ]
    },
    {
     "data": {
      "text/html": [
       "<pre>Starting pairwise querying.</pre>"
      ],
      "text/plain": [
       "Starting pairwise querying."
      ]
     },
     "metadata": {},
     "output_type": "display_data"
    },
    {
     "data": {
      "text/html": [
       "<pre>+--------------+---------+-------------+--------------+</pre>"
      ],
      "text/plain": [
       "+--------------+---------+-------------+--------------+"
      ]
     },
     "metadata": {},
     "output_type": "display_data"
    },
    {
     "data": {
      "text/html": [
       "<pre>| Query points | # Pairs | % Complete. | Elapsed Time |</pre>"
      ],
      "text/plain": [
       "| Query points | # Pairs | % Complete. | Elapsed Time |"
      ]
     },
     "metadata": {},
     "output_type": "display_data"
    },
    {
     "data": {
      "text/html": [
       "<pre>+--------------+---------+-------------+--------------+</pre>"
      ],
      "text/plain": [
       "+--------------+---------+-------------+--------------+"
      ]
     },
     "metadata": {},
     "output_type": "display_data"
    },
    {
     "data": {
      "text/html": [
       "<pre>| 0            | 1       | 0.010923    | 22.002ms     |</pre>"
      ],
      "text/plain": [
       "| 0            | 1       | 0.010923    | 22.002ms     |"
      ]
     },
     "metadata": {},
     "output_type": "display_data"
    },
    {
     "data": {
      "text/html": [
       "<pre>| Done         |         | 100         | 358.036ms    |</pre>"
      ],
      "text/plain": [
       "| Done         |         | 100         | 358.036ms    |"
      ]
     },
     "metadata": {},
     "output_type": "display_data"
    },
    {
     "data": {
      "text/html": [
       "<pre>+--------------+---------+-------------+--------------+</pre>"
      ],
      "text/plain": [
       "+--------------+---------+-------------+--------------+"
      ]
     },
     "metadata": {},
     "output_type": "display_data"
    },
    {
     "name": "stdout",
     "output_type": "stream",
     "text": [
      "+-------------+-----------------+----------+------+\n",
      "| query_label | reference_label | distance | rank |\n",
      "+-------------+-----------------+----------+------+\n",
      "|      0      |       1843      |   0.0    |  1   |\n",
      "|      0      |       8372      |  110.0   |  2   |\n",
      "|      0      |      16908      |  110.0   |  3   |\n",
      "+-------------+-----------------+----------+------+\n",
      "[3 rows x 4 columns]\n",
      "\n"
     ]
    },
    {
     "data": {
      "text/html": [
       "<pre>Starting pairwise querying.</pre>"
      ],
      "text/plain": [
       "Starting pairwise querying."
      ]
     },
     "metadata": {},
     "output_type": "display_data"
    },
    {
     "data": {
      "text/html": [
       "<pre>+--------------+---------+-------------+--------------+</pre>"
      ],
      "text/plain": [
       "+--------------+---------+-------------+--------------+"
      ]
     },
     "metadata": {},
     "output_type": "display_data"
    },
    {
     "data": {
      "text/html": [
       "<pre>| Query points | # Pairs | % Complete. | Elapsed Time |</pre>"
      ],
      "text/plain": [
       "| Query points | # Pairs | % Complete. | Elapsed Time |"
      ]
     },
     "metadata": {},
     "output_type": "display_data"
    },
    {
     "data": {
      "text/html": [
       "<pre>+--------------+---------+-------------+--------------+</pre>"
      ],
      "text/plain": [
       "+--------------+---------+-------------+--------------+"
      ]
     },
     "metadata": {},
     "output_type": "display_data"
    },
    {
     "data": {
      "text/html": [
       "<pre>| 0            | 1       | 0.010923    | 16.002ms     |</pre>"
      ],
      "text/plain": [
       "| 0            | 1       | 0.010923    | 16.002ms     |"
      ]
     },
     "metadata": {},
     "output_type": "display_data"
    },
    {
     "data": {
      "text/html": [
       "<pre>| Done         |         | 100         | 331.034ms    |</pre>"
      ],
      "text/plain": [
       "| Done         |         | 100         | 331.034ms    |"
      ]
     },
     "metadata": {},
     "output_type": "display_data"
    },
    {
     "data": {
      "text/html": [
       "<pre>+--------------+---------+-------------+--------------+</pre>"
      ],
      "text/plain": [
       "+--------------+---------+-------------+--------------+"
      ]
     },
     "metadata": {},
     "output_type": "display_data"
    },
    {
     "name": "stdout",
     "output_type": "stream",
     "text": [
      "+-------------+-----------------+----------+------+\n",
      "| query_label | reference_label | distance | rank |\n",
      "+-------------+-----------------+----------+------+\n",
      "|      0      |       2612      |   0.0    |  1   |\n",
      "|      0      |      10419      |  151.0   |  2   |\n",
      "|      0      |      10952      |  155.0   |  3   |\n",
      "+-------------+-----------------+----------+------+\n",
      "[3 rows x 4 columns]\n",
      "\n"
     ]
    },
    {
     "data": {
      "text/html": [
       "<pre>Starting pairwise querying.</pre>"
      ],
      "text/plain": [
       "Starting pairwise querying."
      ]
     },
     "metadata": {},
     "output_type": "display_data"
    },
    {
     "data": {
      "text/html": [
       "<pre>+--------------+---------+-------------+--------------+</pre>"
      ],
      "text/plain": [
       "+--------------+---------+-------------+--------------+"
      ]
     },
     "metadata": {},
     "output_type": "display_data"
    },
    {
     "data": {
      "text/html": [
       "<pre>| Query points | # Pairs | % Complete. | Elapsed Time |</pre>"
      ],
      "text/plain": [
       "| Query points | # Pairs | % Complete. | Elapsed Time |"
      ]
     },
     "metadata": {},
     "output_type": "display_data"
    },
    {
     "data": {
      "text/html": [
       "<pre>+--------------+---------+-------------+--------------+</pre>"
      ],
      "text/plain": [
       "+--------------+---------+-------------+--------------+"
      ]
     },
     "metadata": {},
     "output_type": "display_data"
    },
    {
     "data": {
      "text/html": [
       "<pre>| 0            | 1       | 0.010923    | 17.002ms     |</pre>"
      ],
      "text/plain": [
       "| 0            | 1       | 0.010923    | 17.002ms     |"
      ]
     },
     "metadata": {},
     "output_type": "display_data"
    },
    {
     "data": {
      "text/html": [
       "<pre>| Done         |         | 100         | 260.026ms    |</pre>"
      ],
      "text/plain": [
       "| Done         |         | 100         | 260.026ms    |"
      ]
     },
     "metadata": {},
     "output_type": "display_data"
    },
    {
     "data": {
      "text/html": [
       "<pre>+--------------+---------+-------------+--------------+</pre>"
      ],
      "text/plain": [
       "+--------------+---------+-------------+--------------+"
      ]
     },
     "metadata": {},
     "output_type": "display_data"
    },
    {
     "name": "stdout",
     "output_type": "stream",
     "text": [
      "+-------------+-----------------+----------+------+\n",
      "| query_label | reference_label | distance | rank |\n",
      "+-------------+-----------------+----------+------+\n",
      "|      0      |       3254      |   0.0    |  1   |\n",
      "|      0      |       8181      |  106.0   |  2   |\n",
      "|      0      |      16922      |  109.0   |  3   |\n",
      "+-------------+-----------------+----------+------+\n",
      "[3 rows x 4 columns]\n",
      "\n"
     ]
    },
    {
     "data": {
      "text/html": [
       "<pre>Starting pairwise querying.</pre>"
      ],
      "text/plain": [
       "Starting pairwise querying."
      ]
     },
     "metadata": {},
     "output_type": "display_data"
    },
    {
     "data": {
      "text/html": [
       "<pre>+--------------+---------+-------------+--------------+</pre>"
      ],
      "text/plain": [
       "+--------------+---------+-------------+--------------+"
      ]
     },
     "metadata": {},
     "output_type": "display_data"
    },
    {
     "data": {
      "text/html": [
       "<pre>| Query points | # Pairs | % Complete. | Elapsed Time |</pre>"
      ],
      "text/plain": [
       "| Query points | # Pairs | % Complete. | Elapsed Time |"
      ]
     },
     "metadata": {},
     "output_type": "display_data"
    },
    {
     "data": {
      "text/html": [
       "<pre>+--------------+---------+-------------+--------------+</pre>"
      ],
      "text/plain": [
       "+--------------+---------+-------------+--------------+"
      ]
     },
     "metadata": {},
     "output_type": "display_data"
    },
    {
     "data": {
      "text/html": [
       "<pre>| 0            | 1       | 0.010923    | 68.006ms     |</pre>"
      ],
      "text/plain": [
       "| 0            | 1       | 0.010923    | 68.006ms     |"
      ]
     },
     "metadata": {},
     "output_type": "display_data"
    },
    {
     "data": {
      "text/html": [
       "<pre>| Done         |         | 100         | 399.039ms    |</pre>"
      ],
      "text/plain": [
       "| Done         |         | 100         | 399.039ms    |"
      ]
     },
     "metadata": {},
     "output_type": "display_data"
    },
    {
     "data": {
      "text/html": [
       "<pre>+--------------+---------+-------------+--------------+</pre>"
      ],
      "text/plain": [
       "+--------------+---------+-------------+--------------+"
      ]
     },
     "metadata": {},
     "output_type": "display_data"
    },
    {
     "name": "stdout",
     "output_type": "stream",
     "text": [
      "+-------------+-----------------+----------+------+\n",
      "| query_label | reference_label | distance | rank |\n",
      "+-------------+-----------------+----------+------+\n",
      "|      0      |       1975      |   0.0    |  1   |\n",
      "|      0      |      10094      |  129.0   |  2   |\n",
      "|      0      |       9189      |  130.0   |  3   |\n",
      "+-------------+-----------------+----------+------+\n",
      "[3 rows x 4 columns]\n",
      "\n"
     ]
    },
    {
     "data": {
      "text/html": [
       "<pre>Starting pairwise querying.</pre>"
      ],
      "text/plain": [
       "Starting pairwise querying."
      ]
     },
     "metadata": {},
     "output_type": "display_data"
    },
    {
     "data": {
      "text/html": [
       "<pre>+--------------+---------+-------------+--------------+</pre>"
      ],
      "text/plain": [
       "+--------------+---------+-------------+--------------+"
      ]
     },
     "metadata": {},
     "output_type": "display_data"
    },
    {
     "data": {
      "text/html": [
       "<pre>| Query points | # Pairs | % Complete. | Elapsed Time |</pre>"
      ],
      "text/plain": [
       "| Query points | # Pairs | % Complete. | Elapsed Time |"
      ]
     },
     "metadata": {},
     "output_type": "display_data"
    },
    {
     "data": {
      "text/html": [
       "<pre>+--------------+---------+-------------+--------------+</pre>"
      ],
      "text/plain": [
       "+--------------+---------+-------------+--------------+"
      ]
     },
     "metadata": {},
     "output_type": "display_data"
    },
    {
     "data": {
      "text/html": [
       "<pre>| 0            | 1       | 0.010923    | 25.002ms     |</pre>"
      ],
      "text/plain": [
       "| 0            | 1       | 0.010923    | 25.002ms     |"
      ]
     },
     "metadata": {},
     "output_type": "display_data"
    },
    {
     "data": {
      "text/html": [
       "<pre>| Done         |         | 100         | 185.018ms    |</pre>"
      ],
      "text/plain": [
       "| Done         |         | 100         | 185.018ms    |"
      ]
     },
     "metadata": {},
     "output_type": "display_data"
    },
    {
     "data": {
      "text/html": [
       "<pre>+--------------+---------+-------------+--------------+</pre>"
      ],
      "text/plain": [
       "+--------------+---------+-------------+--------------+"
      ]
     },
     "metadata": {},
     "output_type": "display_data"
    },
    {
     "name": "stdout",
     "output_type": "stream",
     "text": [
      "+-------------+-----------------+----------+------+\n",
      "| query_label | reference_label | distance | rank |\n",
      "+-------------+-----------------+----------+------+\n",
      "|      0      |       571       |   0.0    |  1   |\n",
      "|      0      |       9037      |   71.0   |  2   |\n",
      "|      0      |       2478      |   72.0   |  3   |\n",
      "+-------------+-----------------+----------+------+\n",
      "[3 rows x 4 columns]\n",
      "\n"
     ]
    },
    {
     "data": {
      "text/html": [
       "<pre>Starting pairwise querying.</pre>"
      ],
      "text/plain": [
       "Starting pairwise querying."
      ]
     },
     "metadata": {},
     "output_type": "display_data"
    },
    {
     "data": {
      "text/html": [
       "<pre>+--------------+---------+-------------+--------------+</pre>"
      ],
      "text/plain": [
       "+--------------+---------+-------------+--------------+"
      ]
     },
     "metadata": {},
     "output_type": "display_data"
    },
    {
     "data": {
      "text/html": [
       "<pre>| Query points | # Pairs | % Complete. | Elapsed Time |</pre>"
      ],
      "text/plain": [
       "| Query points | # Pairs | % Complete. | Elapsed Time |"
      ]
     },
     "metadata": {},
     "output_type": "display_data"
    },
    {
     "data": {
      "text/html": [
       "<pre>+--------------+---------+-------------+--------------+</pre>"
      ],
      "text/plain": [
       "+--------------+---------+-------------+--------------+"
      ]
     },
     "metadata": {},
     "output_type": "display_data"
    },
    {
     "data": {
      "text/html": [
       "<pre>| 0            | 1       | 0.010923    | 21.002ms     |</pre>"
      ],
      "text/plain": [
       "| 0            | 1       | 0.010923    | 21.002ms     |"
      ]
     },
     "metadata": {},
     "output_type": "display_data"
    },
    {
     "data": {
      "text/html": [
       "<pre>| Done         |         | 100         | 361.036ms    |</pre>"
      ],
      "text/plain": [
       "| Done         |         | 100         | 361.036ms    |"
      ]
     },
     "metadata": {},
     "output_type": "display_data"
    },
    {
     "data": {
      "text/html": [
       "<pre>+--------------+---------+-------------+--------------+</pre>"
      ],
      "text/plain": [
       "+--------------+---------+-------------+--------------+"
      ]
     },
     "metadata": {},
     "output_type": "display_data"
    },
    {
     "name": "stdout",
     "output_type": "stream",
     "text": [
      "+-------------+-----------------+----------+------+\n",
      "| query_label | reference_label | distance | rank |\n",
      "+-------------+-----------------+----------+------+\n",
      "|      0      |       1220      |   0.0    |  1   |\n",
      "|      0      |       7882      |   97.0   |  2   |\n",
      "|      0      |      12191      |   99.0   |  3   |\n",
      "+-------------+-----------------+----------+------+\n",
      "[3 rows x 4 columns]\n",
      "\n"
     ]
    },
    {
     "data": {
      "text/html": [
       "<pre>Starting pairwise querying.</pre>"
      ],
      "text/plain": [
       "Starting pairwise querying."
      ]
     },
     "metadata": {},
     "output_type": "display_data"
    },
    {
     "data": {
      "text/html": [
       "<pre>+--------------+---------+-------------+--------------+</pre>"
      ],
      "text/plain": [
       "+--------------+---------+-------------+--------------+"
      ]
     },
     "metadata": {},
     "output_type": "display_data"
    },
    {
     "data": {
      "text/html": [
       "<pre>| Query points | # Pairs | % Complete. | Elapsed Time |</pre>"
      ],
      "text/plain": [
       "| Query points | # Pairs | % Complete. | Elapsed Time |"
      ]
     },
     "metadata": {},
     "output_type": "display_data"
    },
    {
     "data": {
      "text/html": [
       "<pre>+--------------+---------+-------------+--------------+</pre>"
      ],
      "text/plain": [
       "+--------------+---------+-------------+--------------+"
      ]
     },
     "metadata": {},
     "output_type": "display_data"
    },
    {
     "data": {
      "text/html": [
       "<pre>| 0            | 1       | 0.010923    | 64.007ms     |</pre>"
      ],
      "text/plain": [
       "| 0            | 1       | 0.010923    | 64.007ms     |"
      ]
     },
     "metadata": {},
     "output_type": "display_data"
    },
    {
     "data": {
      "text/html": [
       "<pre>| Done         |         | 100         | 266.027ms    |</pre>"
      ],
      "text/plain": [
       "| Done         |         | 100         | 266.027ms    |"
      ]
     },
     "metadata": {},
     "output_type": "display_data"
    },
    {
     "data": {
      "text/html": [
       "<pre>+--------------+---------+-------------+--------------+</pre>"
      ],
      "text/plain": [
       "+--------------+---------+-------------+--------------+"
      ]
     },
     "metadata": {},
     "output_type": "display_data"
    },
    {
     "name": "stdout",
     "output_type": "stream",
     "text": [
      "+-------------+-----------------+----------+------+\n",
      "| query_label | reference_label | distance | rank |\n",
      "+-------------+-----------------+----------+------+\n",
      "|      0      |       3106      |   0.0    |  1   |\n",
      "|      0      |       9037      |   84.0   |  2   |\n",
      "|      0      |       7617      |   87.0   |  3   |\n",
      "+-------------+-----------------+----------+------+\n",
      "[3 rows x 4 columns]\n",
      "\n"
     ]
    },
    {
     "data": {
      "text/html": [
       "<pre>Starting pairwise querying.</pre>"
      ],
      "text/plain": [
       "Starting pairwise querying."
      ]
     },
     "metadata": {},
     "output_type": "display_data"
    },
    {
     "data": {
      "text/html": [
       "<pre>+--------------+---------+-------------+--------------+</pre>"
      ],
      "text/plain": [
       "+--------------+---------+-------------+--------------+"
      ]
     },
     "metadata": {},
     "output_type": "display_data"
    },
    {
     "data": {
      "text/html": [
       "<pre>| Query points | # Pairs | % Complete. | Elapsed Time |</pre>"
      ],
      "text/plain": [
       "| Query points | # Pairs | % Complete. | Elapsed Time |"
      ]
     },
     "metadata": {},
     "output_type": "display_data"
    },
    {
     "data": {
      "text/html": [
       "<pre>+--------------+---------+-------------+--------------+</pre>"
      ],
      "text/plain": [
       "+--------------+---------+-------------+--------------+"
      ]
     },
     "metadata": {},
     "output_type": "display_data"
    },
    {
     "data": {
      "text/html": [
       "<pre>| 0            | 1       | 0.010923    | 25.002ms     |</pre>"
      ],
      "text/plain": [
       "| 0            | 1       | 0.010923    | 25.002ms     |"
      ]
     },
     "metadata": {},
     "output_type": "display_data"
    },
    {
     "data": {
      "text/html": [
       "<pre>| Done         |         | 100         | 207.021ms    |</pre>"
      ],
      "text/plain": [
       "| Done         |         | 100         | 207.021ms    |"
      ]
     },
     "metadata": {},
     "output_type": "display_data"
    },
    {
     "data": {
      "text/html": [
       "<pre>+--------------+---------+-------------+--------------+</pre>"
      ],
      "text/plain": [
       "+--------------+---------+-------------+--------------+"
      ]
     },
     "metadata": {},
     "output_type": "display_data"
    },
    {
     "name": "stdout",
     "output_type": "stream",
     "text": [
      "+-------------+-----------------+----------+------+\n",
      "| query_label | reference_label | distance | rank |\n",
      "+-------------+-----------------+----------+------+\n",
      "|      0      |       4472      |   0.0    |  1   |\n",
      "|      0      |       9995      |   83.0   |  2   |\n",
      "|      0      |      15058      |   89.0   |  3   |\n",
      "+-------------+-----------------+----------+------+\n",
      "[3 rows x 4 columns]\n",
      "\n"
     ]
    },
    {
     "data": {
      "text/html": [
       "<pre>Starting pairwise querying.</pre>"
      ],
      "text/plain": [
       "Starting pairwise querying."
      ]
     },
     "metadata": {},
     "output_type": "display_data"
    },
    {
     "data": {
      "text/html": [
       "<pre>+--------------+---------+-------------+--------------+</pre>"
      ],
      "text/plain": [
       "+--------------+---------+-------------+--------------+"
      ]
     },
     "metadata": {},
     "output_type": "display_data"
    },
    {
     "data": {
      "text/html": [
       "<pre>| Query points | # Pairs | % Complete. | Elapsed Time |</pre>"
      ],
      "text/plain": [
       "| Query points | # Pairs | % Complete. | Elapsed Time |"
      ]
     },
     "metadata": {},
     "output_type": "display_data"
    },
    {
     "data": {
      "text/html": [
       "<pre>+--------------+---------+-------------+--------------+</pre>"
      ],
      "text/plain": [
       "+--------------+---------+-------------+--------------+"
      ]
     },
     "metadata": {},
     "output_type": "display_data"
    },
    {
     "data": {
      "text/html": [
       "<pre>| 0            | 1       | 0.010923    | 22.003ms     |</pre>"
      ],
      "text/plain": [
       "| 0            | 1       | 0.010923    | 22.003ms     |"
      ]
     },
     "metadata": {},
     "output_type": "display_data"
    },
    {
     "data": {
      "text/html": [
       "<pre>| Done         |         | 100         | 226.023ms    |</pre>"
      ],
      "text/plain": [
       "| Done         |         | 100         | 226.023ms    |"
      ]
     },
     "metadata": {},
     "output_type": "display_data"
    },
    {
     "data": {
      "text/html": [
       "<pre>+--------------+---------+-------------+--------------+</pre>"
      ],
      "text/plain": [
       "+--------------+---------+-------------+--------------+"
      ]
     },
     "metadata": {},
     "output_type": "display_data"
    },
    {
     "name": "stdout",
     "output_type": "stream",
     "text": [
      "+-------------+-----------------+----------+------+\n",
      "| query_label | reference_label | distance | rank |\n",
      "+-------------+-----------------+----------+------+\n",
      "|      0      |       4306      |   0.0    |  1   |\n",
      "|      0      |       3333      |   64.0   |  2   |\n",
      "|      0      |      12145      |   93.0   |  3   |\n",
      "+-------------+-----------------+----------+------+\n",
      "[3 rows x 4 columns]\n",
      "\n"
     ]
    },
    {
     "data": {
      "text/html": [
       "<pre>Starting pairwise querying.</pre>"
      ],
      "text/plain": [
       "Starting pairwise querying."
      ]
     },
     "metadata": {},
     "output_type": "display_data"
    },
    {
     "data": {
      "text/html": [
       "<pre>+--------------+---------+-------------+--------------+</pre>"
      ],
      "text/plain": [
       "+--------------+---------+-------------+--------------+"
      ]
     },
     "metadata": {},
     "output_type": "display_data"
    },
    {
     "data": {
      "text/html": [
       "<pre>| Query points | # Pairs | % Complete. | Elapsed Time |</pre>"
      ],
      "text/plain": [
       "| Query points | # Pairs | % Complete. | Elapsed Time |"
      ]
     },
     "metadata": {},
     "output_type": "display_data"
    },
    {
     "data": {
      "text/html": [
       "<pre>+--------------+---------+-------------+--------------+</pre>"
      ],
      "text/plain": [
       "+--------------+---------+-------------+--------------+"
      ]
     },
     "metadata": {},
     "output_type": "display_data"
    },
    {
     "data": {
      "text/html": [
       "<pre>| 0            | 3       | 0.010923    | 24.003ms     |</pre>"
      ],
      "text/plain": [
       "| 0            | 3       | 0.010923    | 24.003ms     |"
      ]
     },
     "metadata": {},
     "output_type": "display_data"
    },
    {
     "data": {
      "text/html": [
       "<pre>| Done         |         | 100         | 697.07ms     |</pre>"
      ],
      "text/plain": [
       "| Done         |         | 100         | 697.07ms     |"
      ]
     },
     "metadata": {},
     "output_type": "display_data"
    },
    {
     "data": {
      "text/html": [
       "<pre>+--------------+---------+-------------+--------------+</pre>"
      ],
      "text/plain": [
       "+--------------+---------+-------------+--------------+"
      ]
     },
     "metadata": {},
     "output_type": "display_data"
    },
    {
     "name": "stdout",
     "output_type": "stream",
     "text": [
      "+-------------+-----------------+----------+------+\n",
      "| query_label | reference_label | distance | rank |\n",
      "+-------------+-----------------+----------+------+\n",
      "|      0      |       985       |   0.0    |  1   |\n",
      "|      0      |      13391      |  180.0   |  2   |\n",
      "|      0      |       5939      |  186.0   |  3   |\n",
      "|      1      |      12124      |   0.0    |  1   |\n",
      "|      1      |       4085      |   65.0   |  2   |\n",
      "|      1      |       6789      |   79.0   |  3   |\n",
      "|      2      |      12173      |   0.0    |  1   |\n",
      "|      2      |       6708      |  135.0   |  2   |\n",
      "|      2      |       1633      |  140.0   |  3   |\n",
      "+-------------+-----------------+----------+------+\n",
      "[9 rows x 4 columns]\n",
      "\n"
     ]
    },
    {
     "data": {
      "text/html": [
       "<pre>Starting pairwise querying.</pre>"
      ],
      "text/plain": [
       "Starting pairwise querying."
      ]
     },
     "metadata": {},
     "output_type": "display_data"
    },
    {
     "data": {
      "text/html": [
       "<pre>+--------------+---------+-------------+--------------+</pre>"
      ],
      "text/plain": [
       "+--------------+---------+-------------+--------------+"
      ]
     },
     "metadata": {},
     "output_type": "display_data"
    },
    {
     "data": {
      "text/html": [
       "<pre>| Query points | # Pairs | % Complete. | Elapsed Time |</pre>"
      ],
      "text/plain": [
       "| Query points | # Pairs | % Complete. | Elapsed Time |"
      ]
     },
     "metadata": {},
     "output_type": "display_data"
    },
    {
     "data": {
      "text/html": [
       "<pre>+--------------+---------+-------------+--------------+</pre>"
      ],
      "text/plain": [
       "+--------------+---------+-------------+--------------+"
      ]
     },
     "metadata": {},
     "output_type": "display_data"
    },
    {
     "data": {
      "text/html": [
       "<pre>| 0            | 1       | 0.010923    | 49.005ms     |</pre>"
      ],
      "text/plain": [
       "| 0            | 1       | 0.010923    | 49.005ms     |"
      ]
     },
     "metadata": {},
     "output_type": "display_data"
    },
    {
     "data": {
      "text/html": [
       "<pre>| Done         |         | 100         | 226.023ms    |</pre>"
      ],
      "text/plain": [
       "| Done         |         | 100         | 226.023ms    |"
      ]
     },
     "metadata": {},
     "output_type": "display_data"
    },
    {
     "data": {
      "text/html": [
       "<pre>+--------------+---------+-------------+--------------+</pre>"
      ],
      "text/plain": [
       "+--------------+---------+-------------+--------------+"
      ]
     },
     "metadata": {},
     "output_type": "display_data"
    },
    {
     "name": "stdout",
     "output_type": "stream",
     "text": [
      "+-------------+-----------------+----------+------+\n",
      "| query_label | reference_label | distance | rank |\n",
      "+-------------+-----------------+----------+------+\n",
      "|      0      |       607       |   0.0    |  1   |\n",
      "|      0      |      16265      |   77.0   |  2   |\n",
      "|      0      |       571       |   80.0   |  3   |\n",
      "+-------------+-----------------+----------+------+\n",
      "[3 rows x 4 columns]\n",
      "\n"
     ]
    },
    {
     "data": {
      "text/html": [
       "<pre>Starting pairwise querying.</pre>"
      ],
      "text/plain": [
       "Starting pairwise querying."
      ]
     },
     "metadata": {},
     "output_type": "display_data"
    },
    {
     "data": {
      "text/html": [
       "<pre>+--------------+---------+-------------+--------------+</pre>"
      ],
      "text/plain": [
       "+--------------+---------+-------------+--------------+"
      ]
     },
     "metadata": {},
     "output_type": "display_data"
    },
    {
     "data": {
      "text/html": [
       "<pre>| Query points | # Pairs | % Complete. | Elapsed Time |</pre>"
      ],
      "text/plain": [
       "| Query points | # Pairs | % Complete. | Elapsed Time |"
      ]
     },
     "metadata": {},
     "output_type": "display_data"
    },
    {
     "data": {
      "text/html": [
       "<pre>+--------------+---------+-------------+--------------+</pre>"
      ],
      "text/plain": [
       "+--------------+---------+-------------+--------------+"
      ]
     },
     "metadata": {},
     "output_type": "display_data"
    },
    {
     "data": {
      "text/html": [
       "<pre>| 0            | 1       | 0.010923    | 79.008ms     |</pre>"
      ],
      "text/plain": [
       "| 0            | 1       | 0.010923    | 79.008ms     |"
      ]
     },
     "metadata": {},
     "output_type": "display_data"
    },
    {
     "data": {
      "text/html": [
       "<pre>| Done         |         | 100         | 398.039ms    |</pre>"
      ],
      "text/plain": [
       "| Done         |         | 100         | 398.039ms    |"
      ]
     },
     "metadata": {},
     "output_type": "display_data"
    },
    {
     "data": {
      "text/html": [
       "<pre>+--------------+---------+-------------+--------------+</pre>"
      ],
      "text/plain": [
       "+--------------+---------+-------------+--------------+"
      ]
     },
     "metadata": {},
     "output_type": "display_data"
    },
    {
     "name": "stdout",
     "output_type": "stream",
     "text": [
      "+-------------+-----------------+----------+------+\n",
      "| query_label | reference_label | distance | rank |\n",
      "+-------------+-----------------+----------+------+\n",
      "|      0      |       2152      |   0.0    |  1   |\n",
      "|      0      |      11490      |  130.0   |  2   |\n",
      "|      0      |      15472      |  135.0   |  3   |\n",
      "+-------------+-----------------+----------+------+\n",
      "[3 rows x 4 columns]\n",
      "\n"
     ]
    },
    {
     "data": {
      "text/html": [
       "<pre>Starting pairwise querying.</pre>"
      ],
      "text/plain": [
       "Starting pairwise querying."
      ]
     },
     "metadata": {},
     "output_type": "display_data"
    },
    {
     "data": {
      "text/html": [
       "<pre>+--------------+---------+-------------+--------------+</pre>"
      ],
      "text/plain": [
       "+--------------+---------+-------------+--------------+"
      ]
     },
     "metadata": {},
     "output_type": "display_data"
    },
    {
     "data": {
      "text/html": [
       "<pre>| Query points | # Pairs | % Complete. | Elapsed Time |</pre>"
      ],
      "text/plain": [
       "| Query points | # Pairs | % Complete. | Elapsed Time |"
      ]
     },
     "metadata": {},
     "output_type": "display_data"
    },
    {
     "data": {
      "text/html": [
       "<pre>+--------------+---------+-------------+--------------+</pre>"
      ],
      "text/plain": [
       "+--------------+---------+-------------+--------------+"
      ]
     },
     "metadata": {},
     "output_type": "display_data"
    },
    {
     "data": {
      "text/html": [
       "<pre>| 0            | 1       | 0.010923    | 21.002ms     |</pre>"
      ],
      "text/plain": [
       "| 0            | 1       | 0.010923    | 21.002ms     |"
      ]
     },
     "metadata": {},
     "output_type": "display_data"
    },
    {
     "data": {
      "text/html": [
       "<pre>| Done         |         | 100         | 181.018ms    |</pre>"
      ],
      "text/plain": [
       "| Done         |         | 100         | 181.018ms    |"
      ]
     },
     "metadata": {},
     "output_type": "display_data"
    },
    {
     "data": {
      "text/html": [
       "<pre>+--------------+---------+-------------+--------------+</pre>"
      ],
      "text/plain": [
       "+--------------+---------+-------------+--------------+"
      ]
     },
     "metadata": {},
     "output_type": "display_data"
    },
    {
     "name": "stdout",
     "output_type": "stream",
     "text": [
      "+-------------+-----------------+----------+------+\n",
      "| query_label | reference_label | distance | rank |\n",
      "+-------------+-----------------+----------+------+\n",
      "|      0      |       3433      |   0.0    |  1   |\n",
      "|      0      |       1914      |   69.0   |  2   |\n",
      "|      0      |       1546      |   73.0   |  3   |\n",
      "+-------------+-----------------+----------+------+\n",
      "[3 rows x 4 columns]\n",
      "\n"
     ]
    },
    {
     "data": {
      "text/html": [
       "<pre>Starting pairwise querying.</pre>"
      ],
      "text/plain": [
       "Starting pairwise querying."
      ]
     },
     "metadata": {},
     "output_type": "display_data"
    },
    {
     "data": {
      "text/html": [
       "<pre>+--------------+---------+-------------+--------------+</pre>"
      ],
      "text/plain": [
       "+--------------+---------+-------------+--------------+"
      ]
     },
     "metadata": {},
     "output_type": "display_data"
    },
    {
     "data": {
      "text/html": [
       "<pre>| Query points | # Pairs | % Complete. | Elapsed Time |</pre>"
      ],
      "text/plain": [
       "| Query points | # Pairs | % Complete. | Elapsed Time |"
      ]
     },
     "metadata": {},
     "output_type": "display_data"
    },
    {
     "data": {
      "text/html": [
       "<pre>+--------------+---------+-------------+--------------+</pre>"
      ],
      "text/plain": [
       "+--------------+---------+-------------+--------------+"
      ]
     },
     "metadata": {},
     "output_type": "display_data"
    },
    {
     "data": {
      "text/html": [
       "<pre>| 0            | 1       | 0.010923    | 22.003ms     |</pre>"
      ],
      "text/plain": [
       "| 0            | 1       | 0.010923    | 22.003ms     |"
      ]
     },
     "metadata": {},
     "output_type": "display_data"
    },
    {
     "data": {
      "text/html": [
       "<pre>| Done         |         | 100         | 245.025ms    |</pre>"
      ],
      "text/plain": [
       "| Done         |         | 100         | 245.025ms    |"
      ]
     },
     "metadata": {},
     "output_type": "display_data"
    },
    {
     "data": {
      "text/html": [
       "<pre>+--------------+---------+-------------+--------------+</pre>"
      ],
      "text/plain": [
       "+--------------+---------+-------------+--------------+"
      ]
     },
     "metadata": {},
     "output_type": "display_data"
    },
    {
     "name": "stdout",
     "output_type": "stream",
     "text": [
      "+-------------+-----------------+----------+------+\n",
      "| query_label | reference_label | distance | rank |\n",
      "+-------------+-----------------+----------+------+\n",
      "|      0      |       4330      |   0.0    |  1   |\n",
      "|      0      |       331       |   87.0   |  2   |\n",
      "|      0      |       7716      |   91.0   |  3   |\n",
      "+-------------+-----------------+----------+------+\n",
      "[3 rows x 4 columns]\n",
      "\n"
     ]
    },
    {
     "data": {
      "text/html": [
       "<pre>Starting pairwise querying.</pre>"
      ],
      "text/plain": [
       "Starting pairwise querying."
      ]
     },
     "metadata": {},
     "output_type": "display_data"
    },
    {
     "data": {
      "text/html": [
       "<pre>+--------------+---------+-------------+--------------+</pre>"
      ],
      "text/plain": [
       "+--------------+---------+-------------+--------------+"
      ]
     },
     "metadata": {},
     "output_type": "display_data"
    },
    {
     "data": {
      "text/html": [
       "<pre>| Query points | # Pairs | % Complete. | Elapsed Time |</pre>"
      ],
      "text/plain": [
       "| Query points | # Pairs | % Complete. | Elapsed Time |"
      ]
     },
     "metadata": {},
     "output_type": "display_data"
    },
    {
     "data": {
      "text/html": [
       "<pre>+--------------+---------+-------------+--------------+</pre>"
      ],
      "text/plain": [
       "+--------------+---------+-------------+--------------+"
      ]
     },
     "metadata": {},
     "output_type": "display_data"
    },
    {
     "data": {
      "text/html": [
       "<pre>| 0            | 1       | 0.010923    | 44.005ms     |</pre>"
      ],
      "text/plain": [
       "| 0            | 1       | 0.010923    | 44.005ms     |"
      ]
     },
     "metadata": {},
     "output_type": "display_data"
    },
    {
     "data": {
      "text/html": [
       "<pre>| Done         |         | 100         | 407.041ms    |</pre>"
      ],
      "text/plain": [
       "| Done         |         | 100         | 407.041ms    |"
      ]
     },
     "metadata": {},
     "output_type": "display_data"
    },
    {
     "data": {
      "text/html": [
       "<pre>+--------------+---------+-------------+--------------+</pre>"
      ],
      "text/plain": [
       "+--------------+---------+-------------+--------------+"
      ]
     },
     "metadata": {},
     "output_type": "display_data"
    },
    {
     "name": "stdout",
     "output_type": "stream",
     "text": [
      "+-------------+-----------------+----------+------+\n",
      "| query_label | reference_label | distance | rank |\n",
      "+-------------+-----------------+----------+------+\n",
      "|      0      |       3538      |   0.0    |  1   |\n",
      "|      0      |       8827      |   94.0   |  2   |\n",
      "|      0      |      13389      |   97.0   |  3   |\n",
      "+-------------+-----------------+----------+------+\n",
      "[3 rows x 4 columns]\n",
      "\n"
     ]
    },
    {
     "data": {
      "text/html": [
       "<pre>Starting pairwise querying.</pre>"
      ],
      "text/plain": [
       "Starting pairwise querying."
      ]
     },
     "metadata": {},
     "output_type": "display_data"
    },
    {
     "data": {
      "text/html": [
       "<pre>+--------------+---------+-------------+--------------+</pre>"
      ],
      "text/plain": [
       "+--------------+---------+-------------+--------------+"
      ]
     },
     "metadata": {},
     "output_type": "display_data"
    },
    {
     "data": {
      "text/html": [
       "<pre>| Query points | # Pairs | % Complete. | Elapsed Time |</pre>"
      ],
      "text/plain": [
       "| Query points | # Pairs | % Complete. | Elapsed Time |"
      ]
     },
     "metadata": {},
     "output_type": "display_data"
    },
    {
     "data": {
      "text/html": [
       "<pre>+--------------+---------+-------------+--------------+</pre>"
      ],
      "text/plain": [
       "+--------------+---------+-------------+--------------+"
      ]
     },
     "metadata": {},
     "output_type": "display_data"
    },
    {
     "data": {
      "text/html": [
       "<pre>| 0            | 1       | 0.010923    | 32.004ms     |</pre>"
      ],
      "text/plain": [
       "| 0            | 1       | 0.010923    | 32.004ms     |"
      ]
     },
     "metadata": {},
     "output_type": "display_data"
    },
    {
     "data": {
      "text/html": [
       "<pre>| Done         |         | 100         | 273.028ms    |</pre>"
      ],
      "text/plain": [
       "| Done         |         | 100         | 273.028ms    |"
      ]
     },
     "metadata": {},
     "output_type": "display_data"
    },
    {
     "data": {
      "text/html": [
       "<pre>+--------------+---------+-------------+--------------+</pre>"
      ],
      "text/plain": [
       "+--------------+---------+-------------+--------------+"
      ]
     },
     "metadata": {},
     "output_type": "display_data"
    },
    {
     "name": "stdout",
     "output_type": "stream",
     "text": [
      "+-------------+-----------------+----------+------+\n",
      "| query_label | reference_label | distance | rank |\n",
      "+-------------+-----------------+----------+------+\n",
      "|      0      |       3825      |   0.0    |  1   |\n",
      "|      0      |       2372      |  126.0   |  2   |\n",
      "|      0      |       5293      |  139.0   |  3   |\n",
      "+-------------+-----------------+----------+------+\n",
      "[3 rows x 4 columns]\n",
      "\n"
     ]
    },
    {
     "data": {
      "text/html": [
       "<pre>Starting pairwise querying.</pre>"
      ],
      "text/plain": [
       "Starting pairwise querying."
      ]
     },
     "metadata": {},
     "output_type": "display_data"
    },
    {
     "data": {
      "text/html": [
       "<pre>+--------------+---------+-------------+--------------+</pre>"
      ],
      "text/plain": [
       "+--------------+---------+-------------+--------------+"
      ]
     },
     "metadata": {},
     "output_type": "display_data"
    },
    {
     "data": {
      "text/html": [
       "<pre>| Query points | # Pairs | % Complete. | Elapsed Time |</pre>"
      ],
      "text/plain": [
       "| Query points | # Pairs | % Complete. | Elapsed Time |"
      ]
     },
     "metadata": {},
     "output_type": "display_data"
    },
    {
     "data": {
      "text/html": [
       "<pre>+--------------+---------+-------------+--------------+</pre>"
      ],
      "text/plain": [
       "+--------------+---------+-------------+--------------+"
      ]
     },
     "metadata": {},
     "output_type": "display_data"
    },
    {
     "data": {
      "text/html": [
       "<pre>| 0            | 1       | 0.010923    | 24.002ms     |</pre>"
      ],
      "text/plain": [
       "| 0            | 1       | 0.010923    | 24.002ms     |"
      ]
     },
     "metadata": {},
     "output_type": "display_data"
    },
    {
     "data": {
      "text/html": [
       "<pre>| Done         |         | 100         | 510.051ms    |</pre>"
      ],
      "text/plain": [
       "| Done         |         | 100         | 510.051ms    |"
      ]
     },
     "metadata": {},
     "output_type": "display_data"
    },
    {
     "data": {
      "text/html": [
       "<pre>+--------------+---------+-------------+--------------+</pre>"
      ],
      "text/plain": [
       "+--------------+---------+-------------+--------------+"
      ]
     },
     "metadata": {},
     "output_type": "display_data"
    },
    {
     "name": "stdout",
     "output_type": "stream",
     "text": [
      "+-------------+-----------------+----------+------+\n",
      "| query_label | reference_label | distance | rank |\n",
      "+-------------+-----------------+----------+------+\n",
      "|      0      |       1144      |   0.0    |  1   |\n",
      "|      0      |      17357      |  105.0   |  2   |\n",
      "|      0      |      11789      |  110.0   |  3   |\n",
      "+-------------+-----------------+----------+------+\n",
      "[3 rows x 4 columns]\n",
      "\n"
     ]
    },
    {
     "data": {
      "text/html": [
       "<pre>Starting pairwise querying.</pre>"
      ],
      "text/plain": [
       "Starting pairwise querying."
      ]
     },
     "metadata": {},
     "output_type": "display_data"
    },
    {
     "data": {
      "text/html": [
       "<pre>+--------------+---------+-------------+--------------+</pre>"
      ],
      "text/plain": [
       "+--------------+---------+-------------+--------------+"
      ]
     },
     "metadata": {},
     "output_type": "display_data"
    },
    {
     "data": {
      "text/html": [
       "<pre>| Query points | # Pairs | % Complete. | Elapsed Time |</pre>"
      ],
      "text/plain": [
       "| Query points | # Pairs | % Complete. | Elapsed Time |"
      ]
     },
     "metadata": {},
     "output_type": "display_data"
    },
    {
     "data": {
      "text/html": [
       "<pre>+--------------+---------+-------------+--------------+</pre>"
      ],
      "text/plain": [
       "+--------------+---------+-------------+--------------+"
      ]
     },
     "metadata": {},
     "output_type": "display_data"
    },
    {
     "data": {
      "text/html": [
       "<pre>| 0            | 1       | 0.010923    | 17.001ms     |</pre>"
      ],
      "text/plain": [
       "| 0            | 1       | 0.010923    | 17.001ms     |"
      ]
     },
     "metadata": {},
     "output_type": "display_data"
    },
    {
     "data": {
      "text/html": [
       "<pre>| Done         |         | 100         | 399.04ms     |</pre>"
      ],
      "text/plain": [
       "| Done         |         | 100         | 399.04ms     |"
      ]
     },
     "metadata": {},
     "output_type": "display_data"
    },
    {
     "data": {
      "text/html": [
       "<pre>+--------------+---------+-------------+--------------+</pre>"
      ],
      "text/plain": [
       "+--------------+---------+-------------+--------------+"
      ]
     },
     "metadata": {},
     "output_type": "display_data"
    },
    {
     "name": "stdout",
     "output_type": "stream",
     "text": [
      "+-------------+-----------------+----------+------+\n",
      "| query_label | reference_label | distance | rank |\n",
      "+-------------+-----------------+----------+------+\n",
      "|      0      |       3860      |   0.0    |  1   |\n",
      "|      0      |      10928      |  126.0   |  2   |\n",
      "|      0      |      15393      |  126.0   |  3   |\n",
      "+-------------+-----------------+----------+------+\n",
      "[3 rows x 4 columns]\n",
      "\n"
     ]
    }
   ],
   "source": [
    "movieTitles_dict = {}\n",
    "recommendation_data_frame = pd.DataFrame(columns=['userid','movieid','rating','rank'])\n",
    "\n",
    "for row in df.itertuples():\n",
    "    movieTitles_dict[row.id] = row.Title\n",
    "\n",
    "frame_dict = {}    \n",
    "for row in df_filtered_822109.itertuples():\n",
    "    frame_dict[row.movieid] = movieSFrame[movieSFrame['Title'] == movieTitles_dict[row.movieid]]\n",
    "\n",
    "for key in frame_dict.keys():\n",
    "    oframe = knn_model.query(frame_dict[key],k=3)\n",
    "    print(oframe)\n",
    "    rec_list = list(oframe['reference_label'])\n",
    "    rank_list = list(oframe['rank'])\n",
    "    i = 0\n",
    "    for movieid in rec_list:\n",
    "        recommendation_data_frame.loc[len(recommendation_data_frame)]=['822109', movieid, userMoviesAvgRating_dict[822109],rank_list[i]]                               \n",
    "        i = i + 1"
   ]
  },
  {
   "cell_type": "code",
   "execution_count": 258,
   "metadata": {
    "collapsed": false
   },
   "outputs": [
    {
     "name": "stdout",
     "output_type": "stream",
     "text": [
      "===================================\n",
      "RECOMMENDED MOVIES FOR USER 822109\n",
      "===================================\n",
      "    userid  movieid  rating  rank\n",
      "0   822109     1798     4.0   1.0\n",
      "1   822109     4883     4.0   2.0\n",
      "2   822109    16244     4.0   3.0\n",
      "3   822109     1810     4.0   1.0\n",
      "4   822109    11679     4.0   2.0\n",
      "5   822109    15373     4.0   3.0\n",
      "6   822109     2580     4.0   1.0\n",
      "7   822109    14574     4.0   2.0\n",
      "8   822109    12337     4.0   3.0\n",
      "9   822109     2698     4.0   1.0\n",
      "10  822109      262     4.0   2.0\n",
      "11  822109     1892     4.0   3.0\n",
      "12  822109     2594     4.0   1.0\n",
      "13  822109    10505     4.0   2.0\n",
      "14  822109    12839     4.0   3.0\n",
      "15  822109     1905     4.0   1.0\n",
      "16  822109    14203     4.0   2.0\n",
      "17  822109    15818     4.0   3.0\n",
      "18  822109     2095     4.0   1.0\n",
      "19  822109     3026     4.0   2.0\n",
      "20  822109      413     4.0   3.0\n",
      "21  822109     1843     4.0   1.0\n",
      "22  822109     8372     4.0   2.0\n",
      "23  822109    16908     4.0   3.0\n",
      "24  822109     2612     4.0   1.0\n",
      "25  822109    10419     4.0   2.0\n",
      "26  822109    17129     4.0   3.0\n",
      "27  822109     3254     4.0   1.0\n",
      "28  822109     8181     4.0   2.0\n",
      "29  822109    16922     4.0   3.0\n",
      "..     ...      ...     ...   ...\n",
      "51  822109    12124     4.0   1.0\n",
      "52  822109     4085     4.0   2.0\n",
      "53  822109     6789     4.0   3.0\n",
      "54  822109    12173     4.0   1.0\n",
      "55  822109     6708     4.0   2.0\n",
      "56  822109     1633     4.0   3.0\n",
      "57  822109      607     4.0   1.0\n",
      "58  822109    16265     4.0   2.0\n",
      "59  822109      571     4.0   3.0\n",
      "60  822109     2152     4.0   1.0\n",
      "61  822109    11490     4.0   2.0\n",
      "62  822109    15472     4.0   3.0\n",
      "63  822109     3433     4.0   1.0\n",
      "64  822109     1914     4.0   2.0\n",
      "65  822109     1546     4.0   3.0\n",
      "66  822109     4330     4.0   1.0\n",
      "67  822109      331     4.0   2.0\n",
      "68  822109     7716     4.0   3.0\n",
      "69  822109     3538     4.0   1.0\n",
      "70  822109     8827     4.0   2.0\n",
      "71  822109    13389     4.0   3.0\n",
      "72  822109     3825     4.0   1.0\n",
      "73  822109     2372     4.0   2.0\n",
      "74  822109     5293     4.0   3.0\n",
      "75  822109     1144     4.0   1.0\n",
      "76  822109    17357     4.0   2.0\n",
      "77  822109    11789     4.0   3.0\n",
      "78  822109     3860     4.0   1.0\n",
      "79  822109    10928     4.0   2.0\n",
      "80  822109    15393     4.0   3.0\n",
      "\n",
      "[81 rows x 4 columns]\n"
     ]
    }
   ],
   "source": [
    "recommendation_data_frame['movieid'] = recommendation_data_frame['movieid'].astype(int)\n",
    "print('===================================')\n",
    "print('RECOMMENDED MOVIES FOR USER 822109')\n",
    "print('===================================')\n",
    "print(recommendation_data_frame)"
   ]
  },
  {
   "cell_type": "code",
   "execution_count": 259,
   "metadata": {
    "collapsed": true
   },
   "outputs": [],
   "source": [
    "def knn_recommendations():\n",
    "    return recommendation_data_frame"
   ]
  },
  {
   "cell_type": "code",
   "execution_count": null,
   "metadata": {
    "collapsed": true
   },
   "outputs": [],
   "source": []
  }
 ],
 "metadata": {
  "kernelspec": {
   "display_name": "Python 2",
   "language": "python",
   "name": "python2"
  },
  "language_info": {
   "codemirror_mode": {
    "name": "ipython",
    "version": 2
   },
   "file_extension": ".py",
   "mimetype": "text/x-python",
   "name": "python",
   "nbconvert_exporter": "python",
   "pygments_lexer": "ipython2",
   "version": "2.7.11"
  }
 },
 "nbformat": 4,
 "nbformat_minor": 0
}
