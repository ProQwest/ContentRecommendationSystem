{
 "cells": [
  {
   "cell_type": "code",
   "execution_count": 213,
   "metadata": {
    "collapsed": false
   },
   "outputs": [
    {
     "data": {
      "text/html": [
       "<div>\n",
       "<table border=\"1\" class=\"dataframe\">\n",
       "  <thead>\n",
       "    <tr style=\"text-align: right;\">\n",
       "      <th></th>\n",
       "      <th>movieid</th>\n",
       "      <th>userid</th>\n",
       "      <th>rating</th>\n",
       "      <th>date</th>\n",
       "    </tr>\n",
       "  </thead>\n",
       "  <tbody>\n",
       "    <tr>\n",
       "      <th>0</th>\n",
       "      <td>1</td>\n",
       "      <td>822109</td>\n",
       "      <td>5</td>\n",
       "      <td>2005-05-13</td>\n",
       "    </tr>\n",
       "    <tr>\n",
       "      <th>1</th>\n",
       "      <td>1</td>\n",
       "      <td>885013</td>\n",
       "      <td>4</td>\n",
       "      <td>2005-10-19</td>\n",
       "    </tr>\n",
       "    <tr>\n",
       "      <th>2</th>\n",
       "      <td>1</td>\n",
       "      <td>30878</td>\n",
       "      <td>4</td>\n",
       "      <td>2005-12-26</td>\n",
       "    </tr>\n",
       "    <tr>\n",
       "      <th>3</th>\n",
       "      <td>1</td>\n",
       "      <td>823519</td>\n",
       "      <td>3</td>\n",
       "      <td>2004-05-03</td>\n",
       "    </tr>\n",
       "    <tr>\n",
       "      <th>4</th>\n",
       "      <td>1</td>\n",
       "      <td>893988</td>\n",
       "      <td>3</td>\n",
       "      <td>2005-11-17</td>\n",
       "    </tr>\n",
       "  </tbody>\n",
       "</table>\n",
       "</div>"
      ],
      "text/plain": [
       "   movieid  userid  rating        date\n",
       "0        1  822109       5  2005-05-13\n",
       "1        1  885013       4  2005-10-19\n",
       "2        1   30878       4  2005-12-26\n",
       "3        1  823519       3  2004-05-03\n",
       "4        1  893988       3  2005-11-17"
      ]
     },
     "execution_count": 213,
     "metadata": {},
     "output_type": "execute_result"
    }
   ],
   "source": [
    "import pandas as pd\n",
    "import numpy as np\n",
    "import re\n",
    "import math\n",
    "import graphlab as gl\n",
    "#Below line is required when running first time\n",
    "#graphlab.get_dependencies()\n",
    "\n",
    "# Dataframe with IMDB Movie feature Dataset containing Netflix Movie ID\n",
    "df = pd.read_csv('omdb.txt', sep=\"|\")\n",
    "# Dataframe with Netflix data containing userid rating and movie id\n",
    "# Iterate df_filtered_822109 and find movies similar to the movie list\n",
    "\n",
    "#Cleansing the IMDB Data which contains netflix movie id\n",
    "#filter null rows.\n",
    "df = df[df.Title != 'null']\n",
    "#pick first year for Series.\n",
    "df['Year'] = df['Year'].str.replace('–[0-9]*$','')\n",
    "#Correct Rated column\n",
    "df.Rated = df.Rated.str.replace('UNRATED','NOT RATED')\n",
    "df.Rated = df.Rated.str.replace('NR','NOT RATED')\n",
    "df.Rated = df.Rated.str.replace('Not Rated','NOT RATED')\n",
    "df.Rated = df.Rated.str.replace('Unrated','NOT RATED')\n",
    "\n",
    "#remove commas from imdbvotes\n",
    "df.imdbVotes = df.imdbVotes.str.replace(',','')\n",
    "\n",
    "# classify runtime by hours\n",
    "df.Runtime = df.Runtime.str.replace(' min','')\n",
    "df.Runtime = df.Runtime.str.replace(',','')\n",
    "df.Runtime = df.Runtime.str.replace('1 h 30','90')\n",
    "df.Runtime = df.Runtime.str.replace('3 h 48','223')\n",
    "df.Runtime = df.Runtime.str.replace('1 h 20','80')\n",
    "#df.Runtime = df.Runtime.str.replace(NaN,'0')\n",
    "\n",
    "df.Runtime = pd.to_numeric(df.Runtime, errors='coerce')\n",
    "minRuntime = min(df.Runtime)\n",
    "maxRuntime = max(df.Runtime)\n",
    "\n",
    "df['Runtime'] = df['Runtime'].apply(lambda x: 4*((x - minRuntime)/(maxRuntime - minRuntime)) + 1)\n",
    "df['Runtime'] = df['Runtime'].apply(lambda x: 1 if x < 1 else x)\n",
    "df['Runtime'] = df['Runtime'].apply(lambda x: 2 if x > 1 and x < 2 else x)\n",
    "df['Runtime'] = df['Runtime'].apply(lambda x: 3 if x > 2 and x < 3 else x)\n",
    "df['Runtime'] = df['Runtime'].apply(lambda x: 4 if x > 3 and x < 4 else x)\n",
    "df['Runtime'] = df['Runtime'].apply(lambda x: 5 if x > 4 and x < 5 else x)\n",
    "\n",
    "df.imdbVotes = pd.to_numeric(df.imdbVotes, errors='coerce')\n",
    "minImdbVotes = min(df.imdbVotes)\n",
    "maxImdbVotes = max(df.imdbVotes)\n",
    "df['imdbVotes'] = df['imdbVotes'].apply(lambda x: 4*((x - minImdbVotes)/(maxImdbVotes - minImdbVotes)) + 1)\n",
    "df['imdbVotes'] = df['imdbVotes'].apply(lambda x: 1 if x < 1 else x)\n",
    "df['imdbVotes'] = df['imdbVotes'].apply(lambda x: 2 if x > 1 and x < 2 else x)\n",
    "df['imdbVotes'] = df['imdbVotes'].apply(lambda x: 3 if x > 2 and x < 3 else x)\n",
    "df['imdbVotes'] = df['imdbVotes'].apply(lambda x: 4 if x > 3 and x < 4 else x)\n",
    "df['imdbVotes'] = df['imdbVotes'].apply(lambda x: 5 if x > 4 and x < 5 else x)\n",
    "\n",
    "df.imdbRating = pd.to_numeric(df.imdbRating, errors='coerce')\n",
    "minImdbRating = min(df.imdbRating)\n",
    "maxImdbRating = max(df.imdbRating)\n",
    "df['imdbRating'] = df['imdbRating'].apply(lambda x: 4*((x - minImdbRating)/(maxImdbRating - minImdbRating)) + 1)\n",
    "df['imdbRating'] = df['imdbRating'].apply(lambda x: 1 if x < 1 else x)\n",
    "df['imdbRating'] = df['imdbRating'].apply(lambda x: 2 if x > 1 and x < 2 else x)\n",
    "df['imdbRating'] = df['imdbRating'].apply(lambda x: 3 if x > 2 and x < 3 else x)\n",
    "df['imdbRating'] = df['imdbRating'].apply(lambda x: 4 if x > 3 and x < 4 else x)\n",
    "df['imdbRating'] = df['imdbRating'].apply(lambda x: 5 if x > 4 and x < 5 else x)\n",
    "\n",
    "df.Year = pd.to_numeric(df.Year, errors='coerce')\n",
    "minYear = min(df.Year)\n",
    "maxYear = max(df.Year)\n",
    "df['Year'] = df['Year'].apply(lambda x: 4*((x - minYear)/(maxYear - minYear)) + 1)\n",
    "df['Year'] = df['Year'].apply(lambda x: 1 if x < 1 else x)\n",
    "df['Year'] = df['Year'].apply(lambda x: 2 if x > 1 and x < 2 else x)\n",
    "df['Year'] = df['Year'].apply(lambda x: 3 if x > 2 and x < 3 else x)\n",
    "df['Year'] = df['Year'].apply(lambda x: 4 if x > 3 and x < 4 else x)\n",
    "df['Year'] = df['Year'].apply(lambda x: 5 if x > 4 and x < 5 else x)\n",
    "\n",
    "df = df[df['Genre'].notnull()]\n",
    "df = df[df['Writer'].notnull()]\n",
    "df = df[df['Actors'].notnull()]\n",
    "df = df[df['Director'].notnull()]\n",
    "df = df[df['Country'].notnull()]\n",
    "df = df[df['Language'].notnull()]\n",
    "\n",
    "df_u= pd.read_csv('netflix-user-movie.txt', sep=\",\")\n",
    "df_u.columns = ['movieid','userid','rating', 'date']\n",
    "df_u.head()"
   ]
  },
  {
   "cell_type": "code",
   "execution_count": 214,
   "metadata": {
    "collapsed": false
   },
   "outputs": [],
   "source": [
    "userRating_dict = {}\n",
    "userMoviesCount_dict = {}\n",
    "userMoviesAvgRating_dict = {}\n",
    "userMoviesLiked = {}\n",
    "\n",
    "#Iterate the dataframe and build aggregate ratings and movie counts for each user\n",
    "for row in df_u.itertuples():\n",
    "    userRating_dict[row.userid] = userRating_dict.get(row.userid,0) + row.rating\n",
    "    userMoviesCount_dict[row.userid] = userMoviesCount_dict.get(row.userid,0) + 1\n",
    " \n",
    "#Compute the average rating\n",
    "for userid in userRating_dict:\n",
    "    userMoviesAvgRating_dict[userid] = userRating_dict[userid]/userMoviesCount_dict[userid]"
   ]
  },
  {
   "cell_type": "code",
   "execution_count": 215,
   "metadata": {
    "collapsed": false
   },
   "outputs": [
    {
     "data": {
      "text/html": [
       "<div>\n",
       "<table border=\"1\" class=\"dataframe\">\n",
       "  <thead>\n",
       "    <tr style=\"text-align: right;\">\n",
       "      <th></th>\n",
       "      <th>movieid</th>\n",
       "      <th>userid</th>\n",
       "      <th>rating</th>\n",
       "      <th>date</th>\n",
       "      <th>likedmovie</th>\n",
       "    </tr>\n",
       "  </thead>\n",
       "  <tbody>\n",
       "    <tr>\n",
       "      <th>0</th>\n",
       "      <td>1</td>\n",
       "      <td>822109</td>\n",
       "      <td>5</td>\n",
       "      <td>2005-05-13</td>\n",
       "      <td>1</td>\n",
       "    </tr>\n",
       "    <tr>\n",
       "      <th>1</th>\n",
       "      <td>1</td>\n",
       "      <td>885013</td>\n",
       "      <td>4</td>\n",
       "      <td>2005-10-19</td>\n",
       "      <td>1</td>\n",
       "    </tr>\n",
       "    <tr>\n",
       "      <th>2</th>\n",
       "      <td>1</td>\n",
       "      <td>30878</td>\n",
       "      <td>4</td>\n",
       "      <td>2005-12-26</td>\n",
       "      <td>1</td>\n",
       "    </tr>\n",
       "    <tr>\n",
       "      <th>3</th>\n",
       "      <td>1</td>\n",
       "      <td>823519</td>\n",
       "      <td>3</td>\n",
       "      <td>2004-05-03</td>\n",
       "      <td>1</td>\n",
       "    </tr>\n",
       "    <tr>\n",
       "      <th>4</th>\n",
       "      <td>1</td>\n",
       "      <td>893988</td>\n",
       "      <td>3</td>\n",
       "      <td>2005-11-17</td>\n",
       "      <td>1</td>\n",
       "    </tr>\n",
       "  </tbody>\n",
       "</table>\n",
       "</div>"
      ],
      "text/plain": [
       "   movieid  userid  rating        date likedmovie\n",
       "0        1  822109       5  2005-05-13          1\n",
       "1        1  885013       4  2005-10-19          1\n",
       "2        1   30878       4  2005-12-26          1\n",
       "3        1  823519       3  2004-05-03          1\n",
       "4        1  893988       3  2005-11-17          1"
      ]
     },
     "execution_count": 215,
     "metadata": {},
     "output_type": "execute_result"
    }
   ],
   "source": [
    "#list to add to the dataframe\n",
    "like_list = []\n",
    "\n",
    "#Iterate the dataframe and find if the movie is liked by the user or not\n",
    "for row in df_u.itertuples():\n",
    "    like_list.extend('1' if row.rating >= userMoviesAvgRating_dict[row.userid] else '0')\n",
    "    \n",
    "#Add a new likedmovie to the dataframe\n",
    "df_u = df_u.assign(likedmovie = like_list)\n",
    "df_u.head()"
   ]
  },
  {
   "cell_type": "code",
   "execution_count": 216,
   "metadata": {
    "collapsed": false
   },
   "outputs": [
    {
     "data": {
      "text/plain": [
       "9156"
      ]
     },
     "execution_count": 216,
     "metadata": {},
     "output_type": "execute_result"
    }
   ],
   "source": [
    "#Number of IMDB Dataframe records\n",
    "len(df)"
   ]
  },
  {
   "cell_type": "code",
   "execution_count": 217,
   "metadata": {
    "collapsed": false
   },
   "outputs": [
    {
     "data": {
      "text/html": [
       "<pre>Unable to parse line \"16725|16726|The Homework Bureau|1|||Neil Crone, Bill Keenan|Neil Crone, Moira Dunphy, Kevin Frankoff, Donald Tripe|\"The Homework Bureau is a satire of TV cop shows. It profiles a day in the life of a busy crisis center where an elite team of tutors help st...\"</pre>"
      ],
      "text/plain": [
       "Unable to parse line \"16725|16726|The Homework Bureau|1|||Neil Crone, Bill Keenan|Neil Crone, Moira Dunphy, Kevin Frankoff, Donald Tripe|\"The Homework Bureau is a satire of TV cop shows. It profiles a day in the life of a busy crisis center where an elite team of tutors help st...\""
      ]
     },
     "metadata": {},
     "output_type": "display_data"
    },
    {
     "data": {
      "text/html": [
       "<pre>Unable to parse line \"16727|null|null|null|null|null|null|null|null|null|null|null|null|null|null|null|null|null|null|False|null\"</pre>"
      ],
      "text/plain": [
       "Unable to parse line \"16727|null|null|null|null|null|null|null|null|null|null|null|null|null|null|null|null|null|null|False|null\""
      ]
     },
     "metadata": {},
     "output_type": "display_data"
    },
    {
     "data": {
      "text/html": [
       "<pre>Unable to parse line \"16728|null|null|null|null|null|null|null|null|null|null|null|null|null|null|null|null|null|null|False|null\"</pre>"
      ],
      "text/plain": [
       "Unable to parse line \"16728|null|null|null|null|null|null|null|null|null|null|null|null|null|null|null|null|null|null|False|null\""
      ]
     },
     "metadata": {},
     "output_type": "display_data"
    },
    {
     "data": {
      "text/html": [
       "<pre>Unable to parse line \"16729|null|null|null|null|null|null|null|null|null|null|null|null|null|null|null|null|null|null|False|null\"</pre>"
      ],
      "text/plain": [
       "Unable to parse line \"16729|null|null|null|null|null|null|null|null|null|null|null|null|null|null|null|null|null|null|False|null\""
      ]
     },
     "metadata": {},
     "output_type": "display_data"
    },
    {
     "data": {
      "text/html": [
       "<pre>Unable to parse line \"16730|null|null|null|null|null|null|null|null|null|null|null|null|null|null|null|null|null|null|False|null\"</pre>"
      ],
      "text/plain": [
       "Unable to parse line \"16730|null|null|null|null|null|null|null|null|null|null|null|null|null|null|null|null|null|null|False|null\""
      ]
     },
     "metadata": {},
     "output_type": "display_data"
    },
    {
     "data": {
      "text/html": [
       "<pre>Unable to parse line \"16731|null|null|null|null|null|null|null|null|null|null|null|null|null|null|null|null|null|null|False|null\"</pre>"
      ],
      "text/plain": [
       "Unable to parse line \"16731|null|null|null|null|null|null|null|null|null|null|null|null|null|null|null|null|null|null|False|null\""
      ]
     },
     "metadata": {},
     "output_type": "display_data"
    },
    {
     "data": {
      "text/html": [
       "<pre>Unable to parse line \"16732|null|null|null|null|null|null|null|null|null|null|null|null|null|null|null|null|null|null|False|null\"</pre>"
      ],
      "text/plain": [
       "Unable to parse line \"16732|null|null|null|null|null|null|null|null|null|null|null|null|null|null|null|null|null|null|False|null\""
      ]
     },
     "metadata": {},
     "output_type": "display_data"
    },
    {
     "data": {
      "text/html": [
       "<pre>Unable to parse line \"16733|Mona Lisa|1986|R|13 Jun 1986|Neil Jordan (screenplay), David Leland (screenplay)|Bob Hoskins, Cathy Tyson, Michael Caine, Robbie Coltrane|A man recently released from prison manages to get a job driving a call girl from customer to customer.|Nominate...\"</pre>"
      ],
      "text/plain": [
       "Unable to parse line \"16733|Mona Lisa|1986|R|13 Jun 1986|Neil Jordan (screenplay), David Leland (screenplay)|Bob Hoskins, Cathy Tyson, Michael Caine, Robbie Coltrane|A man recently released from prison manages to get a job driving a call girl from customer to customer.|Nominate...\""
      ]
     },
     "metadata": {},
     "output_type": "display_data"
    },
    {
     "data": {
      "text/html": [
       "<pre>Unable to parse line \"16734|Uncovered: The War on Iraq|2004|UNRATED|13 Oct 2004|N/A|David Albright, Robert Baer, Milton Bearden, Rand Beers|In this documentary feature, filmmaker Robert Greenwald chronicles the Bush Administration's case to invade Iraq following the events of S...\"</pre>"
      ],
      "text/plain": [
       "Unable to parse line \"16734|Uncovered: The War on Iraq|2004|UNRATED|13 Oct 2004|N/A|David Albright, Robert Baer, Milton Bearden, Rand Beers|In this documentary feature, filmmaker Robert Greenwald chronicles the Bush Administration's case to invade Iraq following the events of S...\""
      ]
     },
     "metadata": {},
     "output_type": "display_data"
    },
    {
     "data": {
      "text/html": [
       "<pre>Unable to parse line \"16735|Teenage Mutant Ninja Turtles|2003â€“2010|TV-Y7|08 Feb 2003|Kevin Eastman, Peter Laird, Lloyd Goldfine|Michael Sinterniklaas, Wayne Grayson, Gregory Abbey, Sam Riegel|The lean, mean, green fighting machines are back in an all-new action-packed series!...\"</pre>"
      ],
      "text/plain": [
       "Unable to parse line \"16735|Teenage Mutant Ninja Turtles|2003â€“2010|TV-Y7|08 Feb 2003|Kevin Eastman, Peter Laird, Lloyd Goldfine|Michael Sinterniklaas, Wayne Grayson, Gregory Abbey, Sam Riegel|The lean, mean, green fighting machines are back in an all-new action-packed series!...\""
      ]
     },
     "metadata": {},
     "output_type": "display_data"
    },
    {
     "data": {
      "text/html": [
       "<pre>17 lines failed to parse correctly</pre>"
      ],
      "text/plain": [
       "17 lines failed to parse correctly"
      ]
     },
     "metadata": {},
     "output_type": "display_data"
    },
    {
     "data": {
      "text/html": [
       "<pre>Finished parsing file C:\\Users\\spandem\\cmu\\AppliedDataScience\\Projects\\netflix-prize-data\\normalized.csv</pre>"
      ],
      "text/plain": [
       "Finished parsing file C:\\Users\\spandem\\cmu\\AppliedDataScience\\Projects\\netflix-prize-data\\normalized.csv"
      ]
     },
     "metadata": {},
     "output_type": "display_data"
    },
    {
     "data": {
      "text/html": [
       "<pre>Parsing completed. Parsed 100 lines in 0.163017 secs.</pre>"
      ],
      "text/plain": [
       "Parsing completed. Parsed 100 lines in 0.163017 secs."
      ]
     },
     "metadata": {},
     "output_type": "display_data"
    },
    {
     "name": "stdout",
     "output_type": "stream",
     "text": [
      "------------------------------------------------------\n",
      "Inferred types from first 100 line(s) of file as \n",
      "column_type_hints=[long,long,str,long,str,str,str,str,str,str,str,str,float,float,str,str,float,str,str,str,str,long]\n",
      "If parsing fails due to incorrect types, you can correct\n",
      "the inferred type list above and pass it to read_csv in\n",
      "the column_type_hints argument\n",
      "------------------------------------------------------\n"
     ]
    },
    {
     "data": {
      "text/html": [
       "<pre>Unable to parse line \"16725|16726|The Homework Bureau|1|||Neil Crone, Bill Keenan|Neil Crone, Moira Dunphy, Kevin Frankoff, Donald Tripe|\"The Homework Bureau is a satire of TV cop shows. It profiles a day in the life of a busy crisis center where an elite team of tutors help st...\"</pre>"
      ],
      "text/plain": [
       "Unable to parse line \"16725|16726|The Homework Bureau|1|||Neil Crone, Bill Keenan|Neil Crone, Moira Dunphy, Kevin Frankoff, Donald Tripe|\"The Homework Bureau is a satire of TV cop shows. It profiles a day in the life of a busy crisis center where an elite team of tutors help st...\""
      ]
     },
     "metadata": {},
     "output_type": "display_data"
    },
    {
     "data": {
      "text/html": [
       "<pre>Unable to parse line \"16727|null|null|null|null|null|null|null|null|null|null|null|null|null|null|null|null|null|null|False|null\"</pre>"
      ],
      "text/plain": [
       "Unable to parse line \"16727|null|null|null|null|null|null|null|null|null|null|null|null|null|null|null|null|null|null|False|null\""
      ]
     },
     "metadata": {},
     "output_type": "display_data"
    },
    {
     "data": {
      "text/html": [
       "<pre>Unable to parse line \"16728|null|null|null|null|null|null|null|null|null|null|null|null|null|null|null|null|null|null|False|null\"</pre>"
      ],
      "text/plain": [
       "Unable to parse line \"16728|null|null|null|null|null|null|null|null|null|null|null|null|null|null|null|null|null|null|False|null\""
      ]
     },
     "metadata": {},
     "output_type": "display_data"
    },
    {
     "data": {
      "text/html": [
       "<pre>Unable to parse line \"16729|null|null|null|null|null|null|null|null|null|null|null|null|null|null|null|null|null|null|False|null\"</pre>"
      ],
      "text/plain": [
       "Unable to parse line \"16729|null|null|null|null|null|null|null|null|null|null|null|null|null|null|null|null|null|null|False|null\""
      ]
     },
     "metadata": {},
     "output_type": "display_data"
    },
    {
     "data": {
      "text/html": [
       "<pre>Unable to parse line \"16730|null|null|null|null|null|null|null|null|null|null|null|null|null|null|null|null|null|null|False|null\"</pre>"
      ],
      "text/plain": [
       "Unable to parse line \"16730|null|null|null|null|null|null|null|null|null|null|null|null|null|null|null|null|null|null|False|null\""
      ]
     },
     "metadata": {},
     "output_type": "display_data"
    },
    {
     "data": {
      "text/html": [
       "<pre>Unable to parse line \"16731|null|null|null|null|null|null|null|null|null|null|null|null|null|null|null|null|null|null|False|null\"</pre>"
      ],
      "text/plain": [
       "Unable to parse line \"16731|null|null|null|null|null|null|null|null|null|null|null|null|null|null|null|null|null|null|False|null\""
      ]
     },
     "metadata": {},
     "output_type": "display_data"
    },
    {
     "data": {
      "text/html": [
       "<pre>Unable to parse line \"16732|null|null|null|null|null|null|null|null|null|null|null|null|null|null|null|null|null|null|False|null\"</pre>"
      ],
      "text/plain": [
       "Unable to parse line \"16732|null|null|null|null|null|null|null|null|null|null|null|null|null|null|null|null|null|null|False|null\""
      ]
     },
     "metadata": {},
     "output_type": "display_data"
    },
    {
     "data": {
      "text/html": [
       "<pre>Unable to parse line \"16733|Mona Lisa|1986|R|13 Jun 1986|Neil Jordan (screenplay), David Leland (screenplay)|Bob Hoskins, Cathy Tyson, Michael Caine, Robbie Coltrane|A man recently released from prison manages to get a job driving a call girl from customer to customer.|Nominate...\"</pre>"
      ],
      "text/plain": [
       "Unable to parse line \"16733|Mona Lisa|1986|R|13 Jun 1986|Neil Jordan (screenplay), David Leland (screenplay)|Bob Hoskins, Cathy Tyson, Michael Caine, Robbie Coltrane|A man recently released from prison manages to get a job driving a call girl from customer to customer.|Nominate...\""
      ]
     },
     "metadata": {},
     "output_type": "display_data"
    },
    {
     "data": {
      "text/html": [
       "<pre>Unable to parse line \"16734|Uncovered: The War on Iraq|2004|UNRATED|13 Oct 2004|N/A|David Albright, Robert Baer, Milton Bearden, Rand Beers|In this documentary feature, filmmaker Robert Greenwald chronicles the Bush Administration's case to invade Iraq following the events of S...\"</pre>"
      ],
      "text/plain": [
       "Unable to parse line \"16734|Uncovered: The War on Iraq|2004|UNRATED|13 Oct 2004|N/A|David Albright, Robert Baer, Milton Bearden, Rand Beers|In this documentary feature, filmmaker Robert Greenwald chronicles the Bush Administration's case to invade Iraq following the events of S...\""
      ]
     },
     "metadata": {},
     "output_type": "display_data"
    },
    {
     "data": {
      "text/html": [
       "<pre>Unable to parse line \"16735|Teenage Mutant Ninja Turtles|2003â€“2010|TV-Y7|08 Feb 2003|Kevin Eastman, Peter Laird, Lloyd Goldfine|Michael Sinterniklaas, Wayne Grayson, Gregory Abbey, Sam Riegel|The lean, mean, green fighting machines are back in an all-new action-packed series!...\"</pre>"
      ],
      "text/plain": [
       "Unable to parse line \"16735|Teenage Mutant Ninja Turtles|2003â€“2010|TV-Y7|08 Feb 2003|Kevin Eastman, Peter Laird, Lloyd Goldfine|Michael Sinterniklaas, Wayne Grayson, Gregory Abbey, Sam Riegel|The lean, mean, green fighting machines are back in an all-new action-packed series!...\""
      ]
     },
     "metadata": {},
     "output_type": "display_data"
    },
    {
     "data": {
      "text/html": [
       "<pre>17 lines failed to parse correctly</pre>"
      ],
      "text/plain": [
       "17 lines failed to parse correctly"
      ]
     },
     "metadata": {},
     "output_type": "display_data"
    },
    {
     "data": {
      "text/html": [
       "<pre>Finished parsing file C:\\Users\\spandem\\cmu\\AppliedDataScience\\Projects\\netflix-prize-data\\normalized.csv</pre>"
      ],
      "text/plain": [
       "Finished parsing file C:\\Users\\spandem\\cmu\\AppliedDataScience\\Projects\\netflix-prize-data\\normalized.csv"
      ]
     },
     "metadata": {},
     "output_type": "display_data"
    },
    {
     "data": {
      "text/html": [
       "<pre>Parsing completed. Parsed 9155 lines in 0.127013 secs.</pre>"
      ],
      "text/plain": [
       "Parsing completed. Parsed 9155 lines in 0.127013 secs."
      ]
     },
     "metadata": {},
     "output_type": "display_data"
    },
    {
     "name": "stdout",
     "output_type": "stream",
     "text": [
      "Defaulting to brute force instead of ball tree because there are multiple distance components.\n"
     ]
    },
    {
     "data": {
      "text/html": [
       "<pre>Starting brute force nearest neighbors model training.</pre>"
      ],
      "text/plain": [
       "Starting brute force nearest neighbors model training."
      ]
     },
     "metadata": {},
     "output_type": "display_data"
    }
   ],
   "source": [
    "df.to_csv('normalized.csv', sep='|')\n",
    "\n",
    "movieSFrame = gl.SFrame.read_csv(\"normalized.csv\", sep='|')\n",
    "#'Runtime','imdbRating','Year','imdbVotes'\n",
    "knn_model = gl.nearest_neighbors.create(movieSFrame,features=['Genre','Writer','Actors','Director','Country','Language','Rated','Awards'],label='id')"
   ]
  },
  {
   "cell_type": "code",
   "execution_count": null,
   "metadata": {
    "collapsed": true
   },
   "outputs": [],
   "source": []
  },
  {
   "cell_type": "code",
   "execution_count": 218,
   "metadata": {
    "collapsed": false
   },
   "outputs": [
    {
     "data": {
      "text/html": [
       "<div>\n",
       "<table border=\"1\" class=\"dataframe\">\n",
       "  <thead>\n",
       "    <tr style=\"text-align: right;\">\n",
       "      <th></th>\n",
       "      <th>movieid</th>\n",
       "      <th>userid</th>\n",
       "      <th>rating</th>\n",
       "      <th>date</th>\n",
       "      <th>likedmovie</th>\n",
       "    </tr>\n",
       "  </thead>\n",
       "  <tbody>\n",
       "    <tr>\n",
       "      <th>3013481</th>\n",
       "      <td>571</td>\n",
       "      <td>822109</td>\n",
       "      <td>5</td>\n",
       "      <td>2005-04-25</td>\n",
       "      <td>1</td>\n",
       "    </tr>\n",
       "    <tr>\n",
       "      <th>3215550</th>\n",
       "      <td>607</td>\n",
       "      <td>822109</td>\n",
       "      <td>5</td>\n",
       "      <td>2005-04-07</td>\n",
       "      <td>1</td>\n",
       "    </tr>\n",
       "    <tr>\n",
       "      <th>4854997</th>\n",
       "      <td>985</td>\n",
       "      <td>822109</td>\n",
       "      <td>5</td>\n",
       "      <td>2005-04-25</td>\n",
       "      <td>1</td>\n",
       "    </tr>\n",
       "    <tr>\n",
       "      <th>5644197</th>\n",
       "      <td>1144</td>\n",
       "      <td>822109</td>\n",
       "      <td>5</td>\n",
       "      <td>2005-05-21</td>\n",
       "      <td>1</td>\n",
       "    </tr>\n",
       "    <tr>\n",
       "      <th>6202889</th>\n",
       "      <td>1220</td>\n",
       "      <td>822109</td>\n",
       "      <td>5</td>\n",
       "      <td>2005-04-25</td>\n",
       "      <td>1</td>\n",
       "    </tr>\n",
       "  </tbody>\n",
       "</table>\n",
       "</div>"
      ],
      "text/plain": [
       "         movieid  userid  rating        date likedmovie\n",
       "3013481      571  822109       5  2005-04-25          1\n",
       "3215550      607  822109       5  2005-04-07          1\n",
       "4854997      985  822109       5  2005-04-25          1\n",
       "5644197     1144  822109       5  2005-05-21          1\n",
       "6202889     1220  822109       5  2005-04-25          1"
      ]
     },
     "execution_count": 218,
     "metadata": {},
     "output_type": "execute_result"
    }
   ],
   "source": [
    "df_filtered_822109 = df_u[(df_u.userid == 822109) & (df_u.likedmovie == '1') & (df_u.movieid.isin(list(df['id'])))]\n",
    "df_filtered_822109.head()"
   ]
  },
  {
   "cell_type": "code",
   "execution_count": 219,
   "metadata": {
    "collapsed": false,
    "scrolled": false
   },
   "outputs": [
    {
     "data": {
      "text/html": [
       "<pre>Starting pairwise querying.</pre>"
      ],
      "text/plain": [
       "Starting pairwise querying."
      ]
     },
     "metadata": {},
     "output_type": "display_data"
    },
    {
     "data": {
      "text/html": [
       "<pre>+--------------+---------+-------------+--------------+</pre>"
      ],
      "text/plain": [
       "+--------------+---------+-------------+--------------+"
      ]
     },
     "metadata": {},
     "output_type": "display_data"
    },
    {
     "data": {
      "text/html": [
       "<pre>| Query points | # Pairs | % Complete. | Elapsed Time |</pre>"
      ],
      "text/plain": [
       "| Query points | # Pairs | % Complete. | Elapsed Time |"
      ]
     },
     "metadata": {},
     "output_type": "display_data"
    },
    {
     "data": {
      "text/html": [
       "<pre>+--------------+---------+-------------+--------------+</pre>"
      ],
      "text/plain": [
       "+--------------+---------+-------------+--------------+"
      ]
     },
     "metadata": {},
     "output_type": "display_data"
    },
    {
     "data": {
      "text/html": [
       "<pre>| 0            | 1       | 0.010923    | 27.003ms     |</pre>"
      ],
      "text/plain": [
       "| 0            | 1       | 0.010923    | 27.003ms     |"
      ]
     },
     "metadata": {},
     "output_type": "display_data"
    },
    {
     "data": {
      "text/html": [
       "<pre>| Done         |         | 100         | 300.03ms     |</pre>"
      ],
      "text/plain": [
       "| Done         |         | 100         | 300.03ms     |"
      ]
     },
     "metadata": {},
     "output_type": "display_data"
    },
    {
     "data": {
      "text/html": [
       "<pre>+--------------+---------+-------------+--------------+</pre>"
      ],
      "text/plain": [
       "+--------------+---------+-------------+--------------+"
      ]
     },
     "metadata": {},
     "output_type": "display_data"
    },
    {
     "data": {
      "text/html": [
       "<pre>Starting pairwise querying.</pre>"
      ],
      "text/plain": [
       "Starting pairwise querying."
      ]
     },
     "metadata": {},
     "output_type": "display_data"
    },
    {
     "data": {
      "text/html": [
       "<pre>+--------------+---------+-------------+--------------+</pre>"
      ],
      "text/plain": [
       "+--------------+---------+-------------+--------------+"
      ]
     },
     "metadata": {},
     "output_type": "display_data"
    },
    {
     "data": {
      "text/html": [
       "<pre>| Query points | # Pairs | % Complete. | Elapsed Time |</pre>"
      ],
      "text/plain": [
       "| Query points | # Pairs | % Complete. | Elapsed Time |"
      ]
     },
     "metadata": {},
     "output_type": "display_data"
    },
    {
     "data": {
      "text/html": [
       "<pre>+--------------+---------+-------------+--------------+</pre>"
      ],
      "text/plain": [
       "+--------------+---------+-------------+--------------+"
      ]
     },
     "metadata": {},
     "output_type": "display_data"
    },
    {
     "data": {
      "text/html": [
       "<pre>| 0            | 1       | 0.010923    | 42.004ms     |</pre>"
      ],
      "text/plain": [
       "| 0            | 1       | 0.010923    | 42.004ms     |"
      ]
     },
     "metadata": {},
     "output_type": "display_data"
    },
    {
     "data": {
      "text/html": [
       "<pre>| Done         |         | 100         | 352.035ms    |</pre>"
      ],
      "text/plain": [
       "| Done         |         | 100         | 352.035ms    |"
      ]
     },
     "metadata": {},
     "output_type": "display_data"
    },
    {
     "data": {
      "text/html": [
       "<pre>+--------------+---------+-------------+--------------+</pre>"
      ],
      "text/plain": [
       "+--------------+---------+-------------+--------------+"
      ]
     },
     "metadata": {},
     "output_type": "display_data"
    },
    {
     "data": {
      "text/html": [
       "<pre>Starting pairwise querying.</pre>"
      ],
      "text/plain": [
       "Starting pairwise querying."
      ]
     },
     "metadata": {},
     "output_type": "display_data"
    },
    {
     "data": {
      "text/html": [
       "<pre>+--------------+---------+-------------+--------------+</pre>"
      ],
      "text/plain": [
       "+--------------+---------+-------------+--------------+"
      ]
     },
     "metadata": {},
     "output_type": "display_data"
    },
    {
     "data": {
      "text/html": [
       "<pre>| Query points | # Pairs | % Complete. | Elapsed Time |</pre>"
      ],
      "text/plain": [
       "| Query points | # Pairs | % Complete. | Elapsed Time |"
      ]
     },
     "metadata": {},
     "output_type": "display_data"
    },
    {
     "data": {
      "text/html": [
       "<pre>+--------------+---------+-------------+--------------+</pre>"
      ],
      "text/plain": [
       "+--------------+---------+-------------+--------------+"
      ]
     },
     "metadata": {},
     "output_type": "display_data"
    },
    {
     "data": {
      "text/html": [
       "<pre>| 0            | 2       | 0.010923    | 32.003ms     |</pre>"
      ],
      "text/plain": [
       "| 0            | 2       | 0.010923    | 32.003ms     |"
      ]
     },
     "metadata": {},
     "output_type": "display_data"
    },
    {
     "data": {
      "text/html": [
       "<pre>| Done         |         | 100         | 679.068ms    |</pre>"
      ],
      "text/plain": [
       "| Done         |         | 100         | 679.068ms    |"
      ]
     },
     "metadata": {},
     "output_type": "display_data"
    },
    {
     "data": {
      "text/html": [
       "<pre>+--------------+---------+-------------+--------------+</pre>"
      ],
      "text/plain": [
       "+--------------+---------+-------------+--------------+"
      ]
     },
     "metadata": {},
     "output_type": "display_data"
    },
    {
     "data": {
      "text/html": [
       "<pre>Starting pairwise querying.</pre>"
      ],
      "text/plain": [
       "Starting pairwise querying."
      ]
     },
     "metadata": {},
     "output_type": "display_data"
    },
    {
     "data": {
      "text/html": [
       "<pre>+--------------+---------+-------------+--------------+</pre>"
      ],
      "text/plain": [
       "+--------------+---------+-------------+--------------+"
      ]
     },
     "metadata": {},
     "output_type": "display_data"
    },
    {
     "data": {
      "text/html": [
       "<pre>| Query points | # Pairs | % Complete. | Elapsed Time |</pre>"
      ],
      "text/plain": [
       "| Query points | # Pairs | % Complete. | Elapsed Time |"
      ]
     },
     "metadata": {},
     "output_type": "display_data"
    },
    {
     "data": {
      "text/html": [
       "<pre>+--------------+---------+-------------+--------------+</pre>"
      ],
      "text/plain": [
       "+--------------+---------+-------------+--------------+"
      ]
     },
     "metadata": {},
     "output_type": "display_data"
    },
    {
     "data": {
      "text/html": [
       "<pre>| 0            | 1       | 0.010923    | 48.004ms     |</pre>"
      ],
      "text/plain": [
       "| 0            | 1       | 0.010923    | 48.004ms     |"
      ]
     },
     "metadata": {},
     "output_type": "display_data"
    },
    {
     "data": {
      "text/html": [
       "<pre>| Done         |         | 100         | 318.031ms    |</pre>"
      ],
      "text/plain": [
       "| Done         |         | 100         | 318.031ms    |"
      ]
     },
     "metadata": {},
     "output_type": "display_data"
    },
    {
     "data": {
      "text/html": [
       "<pre>+--------------+---------+-------------+--------------+</pre>"
      ],
      "text/plain": [
       "+--------------+---------+-------------+--------------+"
      ]
     },
     "metadata": {},
     "output_type": "display_data"
    },
    {
     "data": {
      "text/html": [
       "<pre>Starting pairwise querying.</pre>"
      ],
      "text/plain": [
       "Starting pairwise querying."
      ]
     },
     "metadata": {},
     "output_type": "display_data"
    },
    {
     "data": {
      "text/html": [
       "<pre>+--------------+---------+-------------+--------------+</pre>"
      ],
      "text/plain": [
       "+--------------+---------+-------------+--------------+"
      ]
     },
     "metadata": {},
     "output_type": "display_data"
    },
    {
     "data": {
      "text/html": [
       "<pre>| Query points | # Pairs | % Complete. | Elapsed Time |</pre>"
      ],
      "text/plain": [
       "| Query points | # Pairs | % Complete. | Elapsed Time |"
      ]
     },
     "metadata": {},
     "output_type": "display_data"
    },
    {
     "data": {
      "text/html": [
       "<pre>+--------------+---------+-------------+--------------+</pre>"
      ],
      "text/plain": [
       "+--------------+---------+-------------+--------------+"
      ]
     },
     "metadata": {},
     "output_type": "display_data"
    },
    {
     "data": {
      "text/html": [
       "<pre>| 0            | 1       | 0.010923    | 35.003ms     |</pre>"
      ],
      "text/plain": [
       "| 0            | 1       | 0.010923    | 35.003ms     |"
      ]
     },
     "metadata": {},
     "output_type": "display_data"
    },
    {
     "data": {
      "text/html": [
       "<pre>| Done         |         | 100         | 543.054ms    |</pre>"
      ],
      "text/plain": [
       "| Done         |         | 100         | 543.054ms    |"
      ]
     },
     "metadata": {},
     "output_type": "display_data"
    },
    {
     "data": {
      "text/html": [
       "<pre>+--------------+---------+-------------+--------------+</pre>"
      ],
      "text/plain": [
       "+--------------+---------+-------------+--------------+"
      ]
     },
     "metadata": {},
     "output_type": "display_data"
    },
    {
     "data": {
      "text/html": [
       "<pre>Starting pairwise querying.</pre>"
      ],
      "text/plain": [
       "Starting pairwise querying."
      ]
     },
     "metadata": {},
     "output_type": "display_data"
    },
    {
     "data": {
      "text/html": [
       "<pre>+--------------+---------+-------------+--------------+</pre>"
      ],
      "text/plain": [
       "+--------------+---------+-------------+--------------+"
      ]
     },
     "metadata": {},
     "output_type": "display_data"
    },
    {
     "data": {
      "text/html": [
       "<pre>| Query points | # Pairs | % Complete. | Elapsed Time |</pre>"
      ],
      "text/plain": [
       "| Query points | # Pairs | % Complete. | Elapsed Time |"
      ]
     },
     "metadata": {},
     "output_type": "display_data"
    },
    {
     "data": {
      "text/html": [
       "<pre>+--------------+---------+-------------+--------------+</pre>"
      ],
      "text/plain": [
       "+--------------+---------+-------------+--------------+"
      ]
     },
     "metadata": {},
     "output_type": "display_data"
    },
    {
     "data": {
      "text/html": [
       "<pre>| 0            | 1       | 0.010923    | 139.014ms    |</pre>"
      ],
      "text/plain": [
       "| 0            | 1       | 0.010923    | 139.014ms    |"
      ]
     },
     "metadata": {},
     "output_type": "display_data"
    },
    {
     "data": {
      "text/html": [
       "<pre>| Done         |         | 100         | 410.041ms    |</pre>"
      ],
      "text/plain": [
       "| Done         |         | 100         | 410.041ms    |"
      ]
     },
     "metadata": {},
     "output_type": "display_data"
    },
    {
     "data": {
      "text/html": [
       "<pre>+--------------+---------+-------------+--------------+</pre>"
      ],
      "text/plain": [
       "+--------------+---------+-------------+--------------+"
      ]
     },
     "metadata": {},
     "output_type": "display_data"
    },
    {
     "data": {
      "text/html": [
       "<pre>Starting pairwise querying.</pre>"
      ],
      "text/plain": [
       "Starting pairwise querying."
      ]
     },
     "metadata": {},
     "output_type": "display_data"
    },
    {
     "data": {
      "text/html": [
       "<pre>+--------------+---------+-------------+--------------+</pre>"
      ],
      "text/plain": [
       "+--------------+---------+-------------+--------------+"
      ]
     },
     "metadata": {},
     "output_type": "display_data"
    },
    {
     "data": {
      "text/html": [
       "<pre>| Query points | # Pairs | % Complete. | Elapsed Time |</pre>"
      ],
      "text/plain": [
       "| Query points | # Pairs | % Complete. | Elapsed Time |"
      ]
     },
     "metadata": {},
     "output_type": "display_data"
    },
    {
     "data": {
      "text/html": [
       "<pre>+--------------+---------+-------------+--------------+</pre>"
      ],
      "text/plain": [
       "+--------------+---------+-------------+--------------+"
      ]
     },
     "metadata": {},
     "output_type": "display_data"
    },
    {
     "data": {
      "text/html": [
       "<pre>| 0            | 1       | 0.010923    | 23.002ms     |</pre>"
      ],
      "text/plain": [
       "| 0            | 1       | 0.010923    | 23.002ms     |"
      ]
     },
     "metadata": {},
     "output_type": "display_data"
    },
    {
     "data": {
      "text/html": [
       "<pre>| Done         |         | 100         | 400.04ms     |</pre>"
      ],
      "text/plain": [
       "| Done         |         | 100         | 400.04ms     |"
      ]
     },
     "metadata": {},
     "output_type": "display_data"
    },
    {
     "data": {
      "text/html": [
       "<pre>+--------------+---------+-------------+--------------+</pre>"
      ],
      "text/plain": [
       "+--------------+---------+-------------+--------------+"
      ]
     },
     "metadata": {},
     "output_type": "display_data"
    },
    {
     "data": {
      "text/html": [
       "<pre>Starting pairwise querying.</pre>"
      ],
      "text/plain": [
       "Starting pairwise querying."
      ]
     },
     "metadata": {},
     "output_type": "display_data"
    },
    {
     "data": {
      "text/html": [
       "<pre>+--------------+---------+-------------+--------------+</pre>"
      ],
      "text/plain": [
       "+--------------+---------+-------------+--------------+"
      ]
     },
     "metadata": {},
     "output_type": "display_data"
    },
    {
     "data": {
      "text/html": [
       "<pre>| Query points | # Pairs | % Complete. | Elapsed Time |</pre>"
      ],
      "text/plain": [
       "| Query points | # Pairs | % Complete. | Elapsed Time |"
      ]
     },
     "metadata": {},
     "output_type": "display_data"
    },
    {
     "data": {
      "text/html": [
       "<pre>+--------------+---------+-------------+--------------+</pre>"
      ],
      "text/plain": [
       "+--------------+---------+-------------+--------------+"
      ]
     },
     "metadata": {},
     "output_type": "display_data"
    },
    {
     "data": {
      "text/html": [
       "<pre>| 0            | 1       | 0.010923    | 49.005ms     |</pre>"
      ],
      "text/plain": [
       "| 0            | 1       | 0.010923    | 49.005ms     |"
      ]
     },
     "metadata": {},
     "output_type": "display_data"
    },
    {
     "data": {
      "text/html": [
       "<pre>| Done         |         | 100         | 434.043ms    |</pre>"
      ],
      "text/plain": [
       "| Done         |         | 100         | 434.043ms    |"
      ]
     },
     "metadata": {},
     "output_type": "display_data"
    },
    {
     "data": {
      "text/html": [
       "<pre>+--------------+---------+-------------+--------------+</pre>"
      ],
      "text/plain": [
       "+--------------+---------+-------------+--------------+"
      ]
     },
     "metadata": {},
     "output_type": "display_data"
    },
    {
     "data": {
      "text/html": [
       "<pre>Starting pairwise querying.</pre>"
      ],
      "text/plain": [
       "Starting pairwise querying."
      ]
     },
     "metadata": {},
     "output_type": "display_data"
    },
    {
     "data": {
      "text/html": [
       "<pre>+--------------+---------+-------------+--------------+</pre>"
      ],
      "text/plain": [
       "+--------------+---------+-------------+--------------+"
      ]
     },
     "metadata": {},
     "output_type": "display_data"
    },
    {
     "data": {
      "text/html": [
       "<pre>| Query points | # Pairs | % Complete. | Elapsed Time |</pre>"
      ],
      "text/plain": [
       "| Query points | # Pairs | % Complete. | Elapsed Time |"
      ]
     },
     "metadata": {},
     "output_type": "display_data"
    },
    {
     "data": {
      "text/html": [
       "<pre>+--------------+---------+-------------+--------------+</pre>"
      ],
      "text/plain": [
       "+--------------+---------+-------------+--------------+"
      ]
     },
     "metadata": {},
     "output_type": "display_data"
    },
    {
     "data": {
      "text/html": [
       "<pre>| 0            | 1       | 0.010923    | 32.004ms     |</pre>"
      ],
      "text/plain": [
       "| 0            | 1       | 0.010923    | 32.004ms     |"
      ]
     },
     "metadata": {},
     "output_type": "display_data"
    },
    {
     "data": {
      "text/html": [
       "<pre>| Done         |         | 100         | 419.042ms    |</pre>"
      ],
      "text/plain": [
       "| Done         |         | 100         | 419.042ms    |"
      ]
     },
     "metadata": {},
     "output_type": "display_data"
    },
    {
     "data": {
      "text/html": [
       "<pre>+--------------+---------+-------------+--------------+</pre>"
      ],
      "text/plain": [
       "+--------------+---------+-------------+--------------+"
      ]
     },
     "metadata": {},
     "output_type": "display_data"
    },
    {
     "data": {
      "text/html": [
       "<pre>Starting pairwise querying.</pre>"
      ],
      "text/plain": [
       "Starting pairwise querying."
      ]
     },
     "metadata": {},
     "output_type": "display_data"
    },
    {
     "data": {
      "text/html": [
       "<pre>+--------------+---------+-------------+--------------+</pre>"
      ],
      "text/plain": [
       "+--------------+---------+-------------+--------------+"
      ]
     },
     "metadata": {},
     "output_type": "display_data"
    },
    {
     "data": {
      "text/html": [
       "<pre>| Query points | # Pairs | % Complete. | Elapsed Time |</pre>"
      ],
      "text/plain": [
       "| Query points | # Pairs | % Complete. | Elapsed Time |"
      ]
     },
     "metadata": {},
     "output_type": "display_data"
    },
    {
     "data": {
      "text/html": [
       "<pre>+--------------+---------+-------------+--------------+</pre>"
      ],
      "text/plain": [
       "+--------------+---------+-------------+--------------+"
      ]
     },
     "metadata": {},
     "output_type": "display_data"
    },
    {
     "data": {
      "text/html": [
       "<pre>| 0            | 1       | 0.010923    | 24.003ms     |</pre>"
      ],
      "text/plain": [
       "| 0            | 1       | 0.010923    | 24.003ms     |"
      ]
     },
     "metadata": {},
     "output_type": "display_data"
    },
    {
     "data": {
      "text/html": [
       "<pre>| Done         |         | 100         | 370.037ms    |</pre>"
      ],
      "text/plain": [
       "| Done         |         | 100         | 370.037ms    |"
      ]
     },
     "metadata": {},
     "output_type": "display_data"
    },
    {
     "data": {
      "text/html": [
       "<pre>+--------------+---------+-------------+--------------+</pre>"
      ],
      "text/plain": [
       "+--------------+---------+-------------+--------------+"
      ]
     },
     "metadata": {},
     "output_type": "display_data"
    },
    {
     "data": {
      "text/html": [
       "<pre>Starting pairwise querying.</pre>"
      ],
      "text/plain": [
       "Starting pairwise querying."
      ]
     },
     "metadata": {},
     "output_type": "display_data"
    },
    {
     "data": {
      "text/html": [
       "<pre>+--------------+---------+-------------+--------------+</pre>"
      ],
      "text/plain": [
       "+--------------+---------+-------------+--------------+"
      ]
     },
     "metadata": {},
     "output_type": "display_data"
    },
    {
     "data": {
      "text/html": [
       "<pre>| Query points | # Pairs | % Complete. | Elapsed Time |</pre>"
      ],
      "text/plain": [
       "| Query points | # Pairs | % Complete. | Elapsed Time |"
      ]
     },
     "metadata": {},
     "output_type": "display_data"
    },
    {
     "data": {
      "text/html": [
       "<pre>+--------------+---------+-------------+--------------+</pre>"
      ],
      "text/plain": [
       "+--------------+---------+-------------+--------------+"
      ]
     },
     "metadata": {},
     "output_type": "display_data"
    },
    {
     "data": {
      "text/html": [
       "<pre>| 0            | 1       | 0.010923    | 31.003ms     |</pre>"
      ],
      "text/plain": [
       "| 0            | 1       | 0.010923    | 31.003ms     |"
      ]
     },
     "metadata": {},
     "output_type": "display_data"
    },
    {
     "data": {
      "text/html": [
       "<pre>| Done         |         | 100         | 235.023ms    |</pre>"
      ],
      "text/plain": [
       "| Done         |         | 100         | 235.023ms    |"
      ]
     },
     "metadata": {},
     "output_type": "display_data"
    },
    {
     "data": {
      "text/html": [
       "<pre>+--------------+---------+-------------+--------------+</pre>"
      ],
      "text/plain": [
       "+--------------+---------+-------------+--------------+"
      ]
     },
     "metadata": {},
     "output_type": "display_data"
    },
    {
     "data": {
      "text/html": [
       "<pre>Starting pairwise querying.</pre>"
      ],
      "text/plain": [
       "Starting pairwise querying."
      ]
     },
     "metadata": {},
     "output_type": "display_data"
    },
    {
     "data": {
      "text/html": [
       "<pre>+--------------+---------+-------------+--------------+</pre>"
      ],
      "text/plain": [
       "+--------------+---------+-------------+--------------+"
      ]
     },
     "metadata": {},
     "output_type": "display_data"
    },
    {
     "data": {
      "text/html": [
       "<pre>| Query points | # Pairs | % Complete. | Elapsed Time |</pre>"
      ],
      "text/plain": [
       "| Query points | # Pairs | % Complete. | Elapsed Time |"
      ]
     },
     "metadata": {},
     "output_type": "display_data"
    },
    {
     "data": {
      "text/html": [
       "<pre>+--------------+---------+-------------+--------------+</pre>"
      ],
      "text/plain": [
       "+--------------+---------+-------------+--------------+"
      ]
     },
     "metadata": {},
     "output_type": "display_data"
    },
    {
     "data": {
      "text/html": [
       "<pre>| 0            | 1       | 0.010923    | 25.003ms     |</pre>"
      ],
      "text/plain": [
       "| 0            | 1       | 0.010923    | 25.003ms     |"
      ]
     },
     "metadata": {},
     "output_type": "display_data"
    },
    {
     "data": {
      "text/html": [
       "<pre>| Done         |         | 100         | 278.028ms    |</pre>"
      ],
      "text/plain": [
       "| Done         |         | 100         | 278.028ms    |"
      ]
     },
     "metadata": {},
     "output_type": "display_data"
    },
    {
     "data": {
      "text/html": [
       "<pre>+--------------+---------+-------------+--------------+</pre>"
      ],
      "text/plain": [
       "+--------------+---------+-------------+--------------+"
      ]
     },
     "metadata": {},
     "output_type": "display_data"
    },
    {
     "data": {
      "text/html": [
       "<pre>Starting pairwise querying.</pre>"
      ],
      "text/plain": [
       "Starting pairwise querying."
      ]
     },
     "metadata": {},
     "output_type": "display_data"
    },
    {
     "data": {
      "text/html": [
       "<pre>+--------------+---------+-------------+--------------+</pre>"
      ],
      "text/plain": [
       "+--------------+---------+-------------+--------------+"
      ]
     },
     "metadata": {},
     "output_type": "display_data"
    },
    {
     "data": {
      "text/html": [
       "<pre>| Query points | # Pairs | % Complete. | Elapsed Time |</pre>"
      ],
      "text/plain": [
       "| Query points | # Pairs | % Complete. | Elapsed Time |"
      ]
     },
     "metadata": {},
     "output_type": "display_data"
    },
    {
     "data": {
      "text/html": [
       "<pre>+--------------+---------+-------------+--------------+</pre>"
      ],
      "text/plain": [
       "+--------------+---------+-------------+--------------+"
      ]
     },
     "metadata": {},
     "output_type": "display_data"
    },
    {
     "data": {
      "text/html": [
       "<pre>| 0            | 1       | 0.010923    | 43.005ms     |</pre>"
      ],
      "text/plain": [
       "| 0            | 1       | 0.010923    | 43.005ms     |"
      ]
     },
     "metadata": {},
     "output_type": "display_data"
    },
    {
     "data": {
      "text/html": [
       "<pre>| Done         |         | 100         | 265.027ms    |</pre>"
      ],
      "text/plain": [
       "| Done         |         | 100         | 265.027ms    |"
      ]
     },
     "metadata": {},
     "output_type": "display_data"
    },
    {
     "data": {
      "text/html": [
       "<pre>+--------------+---------+-------------+--------------+</pre>"
      ],
      "text/plain": [
       "+--------------+---------+-------------+--------------+"
      ]
     },
     "metadata": {},
     "output_type": "display_data"
    },
    {
     "data": {
      "text/html": [
       "<pre>Starting pairwise querying.</pre>"
      ],
      "text/plain": [
       "Starting pairwise querying."
      ]
     },
     "metadata": {},
     "output_type": "display_data"
    },
    {
     "data": {
      "text/html": [
       "<pre>+--------------+---------+-------------+--------------+</pre>"
      ],
      "text/plain": [
       "+--------------+---------+-------------+--------------+"
      ]
     },
     "metadata": {},
     "output_type": "display_data"
    },
    {
     "data": {
      "text/html": [
       "<pre>| Query points | # Pairs | % Complete. | Elapsed Time |</pre>"
      ],
      "text/plain": [
       "| Query points | # Pairs | % Complete. | Elapsed Time |"
      ]
     },
     "metadata": {},
     "output_type": "display_data"
    },
    {
     "data": {
      "text/html": [
       "<pre>+--------------+---------+-------------+--------------+</pre>"
      ],
      "text/plain": [
       "+--------------+---------+-------------+--------------+"
      ]
     },
     "metadata": {},
     "output_type": "display_data"
    },
    {
     "data": {
      "text/html": [
       "<pre>| 0            | 1       | 0.010923    | 26.003ms     |</pre>"
      ],
      "text/plain": [
       "| 0            | 1       | 0.010923    | 26.003ms     |"
      ]
     },
     "metadata": {},
     "output_type": "display_data"
    },
    {
     "data": {
      "text/html": [
       "<pre>| Done         |         | 100         | 276.028ms    |</pre>"
      ],
      "text/plain": [
       "| Done         |         | 100         | 276.028ms    |"
      ]
     },
     "metadata": {},
     "output_type": "display_data"
    },
    {
     "data": {
      "text/html": [
       "<pre>+--------------+---------+-------------+--------------+</pre>"
      ],
      "text/plain": [
       "+--------------+---------+-------------+--------------+"
      ]
     },
     "metadata": {},
     "output_type": "display_data"
    },
    {
     "data": {
      "text/html": [
       "<pre>Starting pairwise querying.</pre>"
      ],
      "text/plain": [
       "Starting pairwise querying."
      ]
     },
     "metadata": {},
     "output_type": "display_data"
    },
    {
     "data": {
      "text/html": [
       "<pre>+--------------+---------+-------------+--------------+</pre>"
      ],
      "text/plain": [
       "+--------------+---------+-------------+--------------+"
      ]
     },
     "metadata": {},
     "output_type": "display_data"
    },
    {
     "data": {
      "text/html": [
       "<pre>| Query points | # Pairs | % Complete. | Elapsed Time |</pre>"
      ],
      "text/plain": [
       "| Query points | # Pairs | % Complete. | Elapsed Time |"
      ]
     },
     "metadata": {},
     "output_type": "display_data"
    },
    {
     "data": {
      "text/html": [
       "<pre>+--------------+---------+-------------+--------------+</pre>"
      ],
      "text/plain": [
       "+--------------+---------+-------------+--------------+"
      ]
     },
     "metadata": {},
     "output_type": "display_data"
    },
    {
     "data": {
      "text/html": [
       "<pre>| 0            | 1       | 0.010923    | 23.003ms     |</pre>"
      ],
      "text/plain": [
       "| 0            | 1       | 0.010923    | 23.003ms     |"
      ]
     },
     "metadata": {},
     "output_type": "display_data"
    },
    {
     "data": {
      "text/html": [
       "<pre>| Done         |         | 100         | 358.036ms    |</pre>"
      ],
      "text/plain": [
       "| Done         |         | 100         | 358.036ms    |"
      ]
     },
     "metadata": {},
     "output_type": "display_data"
    },
    {
     "data": {
      "text/html": [
       "<pre>+--------------+---------+-------------+--------------+</pre>"
      ],
      "text/plain": [
       "+--------------+---------+-------------+--------------+"
      ]
     },
     "metadata": {},
     "output_type": "display_data"
    },
    {
     "data": {
      "text/html": [
       "<pre>Starting pairwise querying.</pre>"
      ],
      "text/plain": [
       "Starting pairwise querying."
      ]
     },
     "metadata": {},
     "output_type": "display_data"
    },
    {
     "data": {
      "text/html": [
       "<pre>+--------------+---------+-------------+--------------+</pre>"
      ],
      "text/plain": [
       "+--------------+---------+-------------+--------------+"
      ]
     },
     "metadata": {},
     "output_type": "display_data"
    },
    {
     "data": {
      "text/html": [
       "<pre>| Query points | # Pairs | % Complete. | Elapsed Time |</pre>"
      ],
      "text/plain": [
       "| Query points | # Pairs | % Complete. | Elapsed Time |"
      ]
     },
     "metadata": {},
     "output_type": "display_data"
    },
    {
     "data": {
      "text/html": [
       "<pre>+--------------+---------+-------------+--------------+</pre>"
      ],
      "text/plain": [
       "+--------------+---------+-------------+--------------+"
      ]
     },
     "metadata": {},
     "output_type": "display_data"
    },
    {
     "data": {
      "text/html": [
       "<pre>| 0            | 3       | 0.010923    | 24.003ms     |</pre>"
      ],
      "text/plain": [
       "| 0            | 3       | 0.010923    | 24.003ms     |"
      ]
     },
     "metadata": {},
     "output_type": "display_data"
    },
    {
     "data": {
      "text/html": [
       "<pre>| 2            | 25755   | 93.7739     | 1.02s        |</pre>"
      ],
      "text/plain": [
       "| 2            | 25755   | 93.7739     | 1.02s        |"
      ]
     },
     "metadata": {},
     "output_type": "display_data"
    },
    {
     "data": {
      "text/html": [
       "<pre>| Done         |         | 100         | 1.15s        |</pre>"
      ],
      "text/plain": [
       "| Done         |         | 100         | 1.15s        |"
      ]
     },
     "metadata": {},
     "output_type": "display_data"
    },
    {
     "data": {
      "text/html": [
       "<pre>+--------------+---------+-------------+--------------+</pre>"
      ],
      "text/plain": [
       "+--------------+---------+-------------+--------------+"
      ]
     },
     "metadata": {},
     "output_type": "display_data"
    },
    {
     "data": {
      "text/html": [
       "<pre>Starting pairwise querying.</pre>"
      ],
      "text/plain": [
       "Starting pairwise querying."
      ]
     },
     "metadata": {},
     "output_type": "display_data"
    },
    {
     "data": {
      "text/html": [
       "<pre>+--------------+---------+-------------+--------------+</pre>"
      ],
      "text/plain": [
       "+--------------+---------+-------------+--------------+"
      ]
     },
     "metadata": {},
     "output_type": "display_data"
    },
    {
     "data": {
      "text/html": [
       "<pre>| Query points | # Pairs | % Complete. | Elapsed Time |</pre>"
      ],
      "text/plain": [
       "| Query points | # Pairs | % Complete. | Elapsed Time |"
      ]
     },
     "metadata": {},
     "output_type": "display_data"
    },
    {
     "data": {
      "text/html": [
       "<pre>+--------------+---------+-------------+--------------+</pre>"
      ],
      "text/plain": [
       "+--------------+---------+-------------+--------------+"
      ]
     },
     "metadata": {},
     "output_type": "display_data"
    },
    {
     "data": {
      "text/html": [
       "<pre>| 0            | 1       | 0.010923    | 31.003ms     |</pre>"
      ],
      "text/plain": [
       "| 0            | 1       | 0.010923    | 31.003ms     |"
      ]
     },
     "metadata": {},
     "output_type": "display_data"
    },
    {
     "data": {
      "text/html": [
       "<pre>| Done         |         | 100         | 332.033ms    |</pre>"
      ],
      "text/plain": [
       "| Done         |         | 100         | 332.033ms    |"
      ]
     },
     "metadata": {},
     "output_type": "display_data"
    },
    {
     "data": {
      "text/html": [
       "<pre>+--------------+---------+-------------+--------------+</pre>"
      ],
      "text/plain": [
       "+--------------+---------+-------------+--------------+"
      ]
     },
     "metadata": {},
     "output_type": "display_data"
    },
    {
     "data": {
      "text/html": [
       "<pre>Starting pairwise querying.</pre>"
      ],
      "text/plain": [
       "Starting pairwise querying."
      ]
     },
     "metadata": {},
     "output_type": "display_data"
    },
    {
     "data": {
      "text/html": [
       "<pre>+--------------+---------+-------------+--------------+</pre>"
      ],
      "text/plain": [
       "+--------------+---------+-------------+--------------+"
      ]
     },
     "metadata": {},
     "output_type": "display_data"
    },
    {
     "data": {
      "text/html": [
       "<pre>| Query points | # Pairs | % Complete. | Elapsed Time |</pre>"
      ],
      "text/plain": [
       "| Query points | # Pairs | % Complete. | Elapsed Time |"
      ]
     },
     "metadata": {},
     "output_type": "display_data"
    },
    {
     "data": {
      "text/html": [
       "<pre>+--------------+---------+-------------+--------------+</pre>"
      ],
      "text/plain": [
       "+--------------+---------+-------------+--------------+"
      ]
     },
     "metadata": {},
     "output_type": "display_data"
    },
    {
     "data": {
      "text/html": [
       "<pre>| 0            | 1       | 0.010923    | 24.002ms     |</pre>"
      ],
      "text/plain": [
       "| 0            | 1       | 0.010923    | 24.002ms     |"
      ]
     },
     "metadata": {},
     "output_type": "display_data"
    },
    {
     "data": {
      "text/html": [
       "<pre>| Done         |         | 100         | 499.05ms     |</pre>"
      ],
      "text/plain": [
       "| Done         |         | 100         | 499.05ms     |"
      ]
     },
     "metadata": {},
     "output_type": "display_data"
    },
    {
     "data": {
      "text/html": [
       "<pre>+--------------+---------+-------------+--------------+</pre>"
      ],
      "text/plain": [
       "+--------------+---------+-------------+--------------+"
      ]
     },
     "metadata": {},
     "output_type": "display_data"
    },
    {
     "data": {
      "text/html": [
       "<pre>Starting pairwise querying.</pre>"
      ],
      "text/plain": [
       "Starting pairwise querying."
      ]
     },
     "metadata": {},
     "output_type": "display_data"
    },
    {
     "data": {
      "text/html": [
       "<pre>+--------------+---------+-------------+--------------+</pre>"
      ],
      "text/plain": [
       "+--------------+---------+-------------+--------------+"
      ]
     },
     "metadata": {},
     "output_type": "display_data"
    },
    {
     "data": {
      "text/html": [
       "<pre>| Query points | # Pairs | % Complete. | Elapsed Time |</pre>"
      ],
      "text/plain": [
       "| Query points | # Pairs | % Complete. | Elapsed Time |"
      ]
     },
     "metadata": {},
     "output_type": "display_data"
    },
    {
     "data": {
      "text/html": [
       "<pre>+--------------+---------+-------------+--------------+</pre>"
      ],
      "text/plain": [
       "+--------------+---------+-------------+--------------+"
      ]
     },
     "metadata": {},
     "output_type": "display_data"
    },
    {
     "data": {
      "text/html": [
       "<pre>| 0            | 1       | 0.010923    | 58.006ms     |</pre>"
      ],
      "text/plain": [
       "| 0            | 1       | 0.010923    | 58.006ms     |"
      ]
     },
     "metadata": {},
     "output_type": "display_data"
    },
    {
     "data": {
      "text/html": [
       "<pre>| Done         |         | 100         | 281.028ms    |</pre>"
      ],
      "text/plain": [
       "| Done         |         | 100         | 281.028ms    |"
      ]
     },
     "metadata": {},
     "output_type": "display_data"
    },
    {
     "data": {
      "text/html": [
       "<pre>+--------------+---------+-------------+--------------+</pre>"
      ],
      "text/plain": [
       "+--------------+---------+-------------+--------------+"
      ]
     },
     "metadata": {},
     "output_type": "display_data"
    },
    {
     "data": {
      "text/html": [
       "<pre>Starting pairwise querying.</pre>"
      ],
      "text/plain": [
       "Starting pairwise querying."
      ]
     },
     "metadata": {},
     "output_type": "display_data"
    },
    {
     "data": {
      "text/html": [
       "<pre>+--------------+---------+-------------+--------------+</pre>"
      ],
      "text/plain": [
       "+--------------+---------+-------------+--------------+"
      ]
     },
     "metadata": {},
     "output_type": "display_data"
    },
    {
     "data": {
      "text/html": [
       "<pre>| Query points | # Pairs | % Complete. | Elapsed Time |</pre>"
      ],
      "text/plain": [
       "| Query points | # Pairs | % Complete. | Elapsed Time |"
      ]
     },
     "metadata": {},
     "output_type": "display_data"
    },
    {
     "data": {
      "text/html": [
       "<pre>+--------------+---------+-------------+--------------+</pre>"
      ],
      "text/plain": [
       "+--------------+---------+-------------+--------------+"
      ]
     },
     "metadata": {},
     "output_type": "display_data"
    },
    {
     "data": {
      "text/html": [
       "<pre>| 0            | 1       | 0.010923    | 34.003ms     |</pre>"
      ],
      "text/plain": [
       "| 0            | 1       | 0.010923    | 34.003ms     |"
      ]
     },
     "metadata": {},
     "output_type": "display_data"
    },
    {
     "data": {
      "text/html": [
       "<pre>| Done         |         | 100         | 275.027ms    |</pre>"
      ],
      "text/plain": [
       "| Done         |         | 100         | 275.027ms    |"
      ]
     },
     "metadata": {},
     "output_type": "display_data"
    },
    {
     "data": {
      "text/html": [
       "<pre>+--------------+---------+-------------+--------------+</pre>"
      ],
      "text/plain": [
       "+--------------+---------+-------------+--------------+"
      ]
     },
     "metadata": {},
     "output_type": "display_data"
    },
    {
     "data": {
      "text/html": [
       "<pre>Starting pairwise querying.</pre>"
      ],
      "text/plain": [
       "Starting pairwise querying."
      ]
     },
     "metadata": {},
     "output_type": "display_data"
    },
    {
     "data": {
      "text/html": [
       "<pre>+--------------+---------+-------------+--------------+</pre>"
      ],
      "text/plain": [
       "+--------------+---------+-------------+--------------+"
      ]
     },
     "metadata": {},
     "output_type": "display_data"
    },
    {
     "data": {
      "text/html": [
       "<pre>| Query points | # Pairs | % Complete. | Elapsed Time |</pre>"
      ],
      "text/plain": [
       "| Query points | # Pairs | % Complete. | Elapsed Time |"
      ]
     },
     "metadata": {},
     "output_type": "display_data"
    },
    {
     "data": {
      "text/html": [
       "<pre>+--------------+---------+-------------+--------------+</pre>"
      ],
      "text/plain": [
       "+--------------+---------+-------------+--------------+"
      ]
     },
     "metadata": {},
     "output_type": "display_data"
    },
    {
     "data": {
      "text/html": [
       "<pre>| 0            | 1       | 0.010923    | 20.002ms     |</pre>"
      ],
      "text/plain": [
       "| 0            | 1       | 0.010923    | 20.002ms     |"
      ]
     },
     "metadata": {},
     "output_type": "display_data"
    },
    {
     "data": {
      "text/html": [
       "<pre>| Done         |         | 100         | 423.043ms    |</pre>"
      ],
      "text/plain": [
       "| Done         |         | 100         | 423.043ms    |"
      ]
     },
     "metadata": {},
     "output_type": "display_data"
    },
    {
     "data": {
      "text/html": [
       "<pre>+--------------+---------+-------------+--------------+</pre>"
      ],
      "text/plain": [
       "+--------------+---------+-------------+--------------+"
      ]
     },
     "metadata": {},
     "output_type": "display_data"
    },
    {
     "data": {
      "text/html": [
       "<pre>Starting pairwise querying.</pre>"
      ],
      "text/plain": [
       "Starting pairwise querying."
      ]
     },
     "metadata": {},
     "output_type": "display_data"
    },
    {
     "data": {
      "text/html": [
       "<pre>+--------------+---------+-------------+--------------+</pre>"
      ],
      "text/plain": [
       "+--------------+---------+-------------+--------------+"
      ]
     },
     "metadata": {},
     "output_type": "display_data"
    },
    {
     "data": {
      "text/html": [
       "<pre>| Query points | # Pairs | % Complete. | Elapsed Time |</pre>"
      ],
      "text/plain": [
       "| Query points | # Pairs | % Complete. | Elapsed Time |"
      ]
     },
     "metadata": {},
     "output_type": "display_data"
    },
    {
     "data": {
      "text/html": [
       "<pre>+--------------+---------+-------------+--------------+</pre>"
      ],
      "text/plain": [
       "+--------------+---------+-------------+--------------+"
      ]
     },
     "metadata": {},
     "output_type": "display_data"
    },
    {
     "data": {
      "text/html": [
       "<pre>| 0            | 1       | 0.010923    | 36.004ms     |</pre>"
      ],
      "text/plain": [
       "| 0            | 1       | 0.010923    | 36.004ms     |"
      ]
     },
     "metadata": {},
     "output_type": "display_data"
    },
    {
     "data": {
      "text/html": [
       "<pre>| Done         |         | 100         | 433.043ms    |</pre>"
      ],
      "text/plain": [
       "| Done         |         | 100         | 433.043ms    |"
      ]
     },
     "metadata": {},
     "output_type": "display_data"
    },
    {
     "data": {
      "text/html": [
       "<pre>+--------------+---------+-------------+--------------+</pre>"
      ],
      "text/plain": [
       "+--------------+---------+-------------+--------------+"
      ]
     },
     "metadata": {},
     "output_type": "display_data"
    },
    {
     "data": {
      "text/html": [
       "<pre>Starting pairwise querying.</pre>"
      ],
      "text/plain": [
       "Starting pairwise querying."
      ]
     },
     "metadata": {},
     "output_type": "display_data"
    },
    {
     "data": {
      "text/html": [
       "<pre>+--------------+---------+-------------+--------------+</pre>"
      ],
      "text/plain": [
       "+--------------+---------+-------------+--------------+"
      ]
     },
     "metadata": {},
     "output_type": "display_data"
    },
    {
     "data": {
      "text/html": [
       "<pre>| Query points | # Pairs | % Complete. | Elapsed Time |</pre>"
      ],
      "text/plain": [
       "| Query points | # Pairs | % Complete. | Elapsed Time |"
      ]
     },
     "metadata": {},
     "output_type": "display_data"
    },
    {
     "data": {
      "text/html": [
       "<pre>+--------------+---------+-------------+--------------+</pre>"
      ],
      "text/plain": [
       "+--------------+---------+-------------+--------------+"
      ]
     },
     "metadata": {},
     "output_type": "display_data"
    },
    {
     "data": {
      "text/html": [
       "<pre>| 0            | 1       | 0.010923    | 21.002ms     |</pre>"
      ],
      "text/plain": [
       "| 0            | 1       | 0.010923    | 21.002ms     |"
      ]
     },
     "metadata": {},
     "output_type": "display_data"
    },
    {
     "data": {
      "text/html": [
       "<pre>| Done         |         | 100         | 392.039ms    |</pre>"
      ],
      "text/plain": [
       "| Done         |         | 100         | 392.039ms    |"
      ]
     },
     "metadata": {},
     "output_type": "display_data"
    },
    {
     "data": {
      "text/html": [
       "<pre>+--------------+---------+-------------+--------------+</pre>"
      ],
      "text/plain": [
       "+--------------+---------+-------------+--------------+"
      ]
     },
     "metadata": {},
     "output_type": "display_data"
    },
    {
     "data": {
      "text/html": [
       "<pre>Starting pairwise querying.</pre>"
      ],
      "text/plain": [
       "Starting pairwise querying."
      ]
     },
     "metadata": {},
     "output_type": "display_data"
    },
    {
     "data": {
      "text/html": [
       "<pre>+--------------+---------+-------------+--------------+</pre>"
      ],
      "text/plain": [
       "+--------------+---------+-------------+--------------+"
      ]
     },
     "metadata": {},
     "output_type": "display_data"
    },
    {
     "data": {
      "text/html": [
       "<pre>| Query points | # Pairs | % Complete. | Elapsed Time |</pre>"
      ],
      "text/plain": [
       "| Query points | # Pairs | % Complete. | Elapsed Time |"
      ]
     },
     "metadata": {},
     "output_type": "display_data"
    },
    {
     "data": {
      "text/html": [
       "<pre>+--------------+---------+-------------+--------------+</pre>"
      ],
      "text/plain": [
       "+--------------+---------+-------------+--------------+"
      ]
     },
     "metadata": {},
     "output_type": "display_data"
    },
    {
     "data": {
      "text/html": [
       "<pre>| 0            | 1       | 0.010923    | 19.002ms     |</pre>"
      ],
      "text/plain": [
       "| 0            | 1       | 0.010923    | 19.002ms     |"
      ]
     },
     "metadata": {},
     "output_type": "display_data"
    },
    {
     "data": {
      "text/html": [
       "<pre>| Done         |         | 100         | 408.041ms    |</pre>"
      ],
      "text/plain": [
       "| Done         |         | 100         | 408.041ms    |"
      ]
     },
     "metadata": {},
     "output_type": "display_data"
    },
    {
     "data": {
      "text/html": [
       "<pre>+--------------+---------+-------------+--------------+</pre>"
      ],
      "text/plain": [
       "+--------------+---------+-------------+--------------+"
      ]
     },
     "metadata": {},
     "output_type": "display_data"
    },
    {
     "name": "stdout",
     "output_type": "stream",
     "text": [
      "    userid  movieid  rating  rank\n",
      "0   822109   1798.0     4.0   1.0\n",
      "1   822109   4883.0     4.0   2.0\n",
      "2   822109  16244.0     4.0   3.0\n",
      "3   822109   1810.0     4.0   1.0\n",
      "4   822109  11679.0     4.0   2.0\n",
      "5   822109  15373.0     4.0   3.0\n",
      "6   822109   2580.0     4.0   1.0\n",
      "7   822109  14574.0     4.0   2.0\n",
      "8   822109  12337.0     4.0   3.0\n",
      "9   822109   2698.0     4.0   1.0\n",
      "10  822109    262.0     4.0   2.0\n",
      "11  822109   1892.0     4.0   3.0\n",
      "12  822109   2594.0     4.0   1.0\n",
      "13  822109  10505.0     4.0   2.0\n",
      "14  822109  16882.0     4.0   3.0\n",
      "15  822109   1905.0     4.0   1.0\n",
      "16  822109  14203.0     4.0   2.0\n",
      "17  822109  15818.0     4.0   3.0\n",
      "18  822109   2095.0     4.0   1.0\n",
      "19  822109   3026.0     4.0   2.0\n",
      "20  822109    413.0     4.0   3.0\n",
      "21  822109   1843.0     4.0   1.0\n",
      "22  822109   8372.0     4.0   2.0\n",
      "23  822109  16908.0     4.0   3.0\n",
      "24  822109   2612.0     4.0   1.0\n",
      "25  822109  10419.0     4.0   2.0\n",
      "26  822109  10952.0     4.0   3.0\n",
      "27  822109   3254.0     4.0   1.0\n",
      "28  822109   8181.0     4.0   2.0\n",
      "29  822109  16922.0     4.0   3.0\n",
      "..     ...      ...     ...   ...\n",
      "51  822109  12124.0     4.0   1.0\n",
      "52  822109   4085.0     4.0   2.0\n",
      "53  822109   6789.0     4.0   3.0\n",
      "54  822109  12173.0     4.0   1.0\n",
      "55  822109   6708.0     4.0   2.0\n",
      "56  822109   1633.0     4.0   3.0\n",
      "57  822109    607.0     4.0   1.0\n",
      "58  822109  16265.0     4.0   2.0\n",
      "59  822109    571.0     4.0   3.0\n",
      "60  822109   2152.0     4.0   1.0\n",
      "61  822109  11490.0     4.0   2.0\n",
      "62  822109  15472.0     4.0   3.0\n",
      "63  822109   3433.0     4.0   1.0\n",
      "64  822109   1914.0     4.0   2.0\n",
      "65  822109   1546.0     4.0   3.0\n",
      "66  822109   4330.0     4.0   1.0\n",
      "67  822109    331.0     4.0   2.0\n",
      "68  822109   7716.0     4.0   3.0\n",
      "69  822109   3538.0     4.0   1.0\n",
      "70  822109   8827.0     4.0   2.0\n",
      "71  822109  13389.0     4.0   3.0\n",
      "72  822109   3825.0     4.0   1.0\n",
      "73  822109   2372.0     4.0   2.0\n",
      "74  822109   5293.0     4.0   3.0\n",
      "75  822109   1144.0     4.0   1.0\n",
      "76  822109  17357.0     4.0   2.0\n",
      "77  822109  11789.0     4.0   3.0\n",
      "78  822109   3860.0     4.0   1.0\n",
      "79  822109  10928.0     4.0   2.0\n",
      "80  822109  15393.0     4.0   3.0\n",
      "\n",
      "[81 rows x 4 columns]\n"
     ]
    }
   ],
   "source": [
    "movieTitles_dict = {}\n",
    "recommendation_data_frame = pd.DataFrame(columns=['userid','movieid','rating','rank'])\n",
    "\n",
    "for row in df.itertuples():\n",
    "    movieTitles_dict[row.id] = row.Title\n",
    "\n",
    "frame_dict = {}    \n",
    "for row in df_filtered_822109.itertuples():\n",
    "    frame_dict[row.movieid] = movieSFrame[movieSFrame['Title'] == movieTitles_dict[row.movieid]]\n",
    "\n",
    "for key in frame_dict.keys():\n",
    "    oframe = knn_model.query(frame_dict[key],k=3)\n",
    "    rec_list = list(oframe['reference_label'])\n",
    "    rank_list = list(oframe['rank'])\n",
    "    i = 0\n",
    "    for movieid in rec_list:\n",
    "        recommendation_data_frame.loc[len(recommendation_data_frame)]=['822109', movieid, userMoviesAvgRating_dict[822109],rank_list[i]]                               \n",
    "        i = i + 1\n",
    "print(recommendation_data_frame)"
   ]
  },
  {
   "cell_type": "code",
   "execution_count": 220,
   "metadata": {
    "collapsed": false
   },
   "outputs": [
    {
     "name": "stdout",
     "output_type": "stream",
     "text": [
      "===================================\n",
      "RECOMMENDED MOVIES FOR USER 822109\n",
      "===================================\n",
      "    userid  movieid  rating  rank\n",
      "0   822109     1798     4.0   1.0\n",
      "1   822109     4883     4.0   2.0\n",
      "2   822109    16244     4.0   3.0\n",
      "3   822109     1810     4.0   1.0\n",
      "4   822109    11679     4.0   2.0\n",
      "5   822109    15373     4.0   3.0\n",
      "6   822109     2580     4.0   1.0\n",
      "7   822109    14574     4.0   2.0\n",
      "8   822109    12337     4.0   3.0\n",
      "9   822109     2698     4.0   1.0\n",
      "10  822109      262     4.0   2.0\n",
      "11  822109     1892     4.0   3.0\n",
      "12  822109     2594     4.0   1.0\n",
      "13  822109    10505     4.0   2.0\n",
      "14  822109    16882     4.0   3.0\n",
      "15  822109     1905     4.0   1.0\n",
      "16  822109    14203     4.0   2.0\n",
      "17  822109    15818     4.0   3.0\n",
      "18  822109     2095     4.0   1.0\n",
      "19  822109     3026     4.0   2.0\n",
      "20  822109      413     4.0   3.0\n",
      "21  822109     1843     4.0   1.0\n",
      "22  822109     8372     4.0   2.0\n",
      "23  822109    16908     4.0   3.0\n",
      "24  822109     2612     4.0   1.0\n",
      "25  822109    10419     4.0   2.0\n",
      "26  822109    10952     4.0   3.0\n",
      "27  822109     3254     4.0   1.0\n",
      "28  822109     8181     4.0   2.0\n",
      "29  822109    16922     4.0   3.0\n",
      "..     ...      ...     ...   ...\n",
      "51  822109    12124     4.0   1.0\n",
      "52  822109     4085     4.0   2.0\n",
      "53  822109     6789     4.0   3.0\n",
      "54  822109    12173     4.0   1.0\n",
      "55  822109     6708     4.0   2.0\n",
      "56  822109     1633     4.0   3.0\n",
      "57  822109      607     4.0   1.0\n",
      "58  822109    16265     4.0   2.0\n",
      "59  822109      571     4.0   3.0\n",
      "60  822109     2152     4.0   1.0\n",
      "61  822109    11490     4.0   2.0\n",
      "62  822109    15472     4.0   3.0\n",
      "63  822109     3433     4.0   1.0\n",
      "64  822109     1914     4.0   2.0\n",
      "65  822109     1546     4.0   3.0\n",
      "66  822109     4330     4.0   1.0\n",
      "67  822109      331     4.0   2.0\n",
      "68  822109     7716     4.0   3.0\n",
      "69  822109     3538     4.0   1.0\n",
      "70  822109     8827     4.0   2.0\n",
      "71  822109    13389     4.0   3.0\n",
      "72  822109     3825     4.0   1.0\n",
      "73  822109     2372     4.0   2.0\n",
      "74  822109     5293     4.0   3.0\n",
      "75  822109     1144     4.0   1.0\n",
      "76  822109    17357     4.0   2.0\n",
      "77  822109    11789     4.0   3.0\n",
      "78  822109     3860     4.0   1.0\n",
      "79  822109    10928     4.0   2.0\n",
      "80  822109    15393     4.0   3.0\n",
      "\n",
      "[81 rows x 4 columns]\n"
     ]
    }
   ],
   "source": [
    "recommendation_data_frame['movieid'] = recommendation_data_frame['movieid'].astype(int)\n",
    "print('===================================')\n",
    "print('RECOMMENDED MOVIES FOR USER 822109')\n",
    "print('===================================')\n",
    "print(recommendation_data_frame)"
   ]
  },
  {
   "cell_type": "code",
   "execution_count": 221,
   "metadata": {
    "collapsed": true
   },
   "outputs": [],
   "source": [
    "def knn_recommendations():\n",
    "    return recommendation_data_frame"
   ]
  },
  {
   "cell_type": "code",
   "execution_count": null,
   "metadata": {
    "collapsed": true
   },
   "outputs": [],
   "source": []
  }
 ],
 "metadata": {
  "kernelspec": {
   "display_name": "Python 2",
   "language": "python",
   "name": "python2"
  },
  "language_info": {
   "codemirror_mode": {
    "name": "ipython",
    "version": 2
   },
   "file_extension": ".py",
   "mimetype": "text/x-python",
   "name": "python",
   "nbconvert_exporter": "python",
   "pygments_lexer": "ipython2",
   "version": "2.7.11"
  }
 },
 "nbformat": 4,
 "nbformat_minor": 0
}
